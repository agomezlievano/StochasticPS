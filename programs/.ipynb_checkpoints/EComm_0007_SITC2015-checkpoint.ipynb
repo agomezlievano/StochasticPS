{
 "cells": [
  {
   "cell_type": "code",
   "execution_count": null,
   "metadata": {
    "collapsed": false
   },
   "outputs": [],
   "source": [
    "%load_ext autoreload\n",
    "%autoreload 2\n",
    "%matplotlib inline\n",
    "\n",
    "import os\n",
    "import sys\n"
   ]
  },
  {
   "cell_type": "code",
   "execution_count": null,
   "metadata": {
    "collapsed": false
   },
   "outputs": [],
   "source": [
    "# Allow imports from parent directory \n",
    "# https://stackoverflow.com/questions/34478398/import-local-function-from-a-module-housed-in-another-directory-with-relative-im/35273613#35273613\n",
    "#module_path = os.path.abspath(os.path.join(os.pardir))\n",
    "module_path = 'C:\\\\Users\\\\agomez\\\\Dropbox\\\\Harvard\\\\LittleProjects\\\\StochasticPS\\\\programs\\\\'\n",
    "if module_path not in sys.path:\n",
    "    sys.path.append(module_path)\n",
    "sys.path"
   ]
  },
  {
   "cell_type": "code",
   "execution_count": null,
   "metadata": {
    "collapsed": true
   },
   "outputs": [],
   "source": [
    "import time\n",
    "import datetime\n",
    "\n",
    "import pandas as pd\n",
    "import numpy as np\n",
    "import sympy as sym\n",
    "import matplotlib.pyplot as plt\n",
    "\n",
    "import seaborn as sns; sns.set(style=\"ticks\", color_codes=True)\n",
    "\n",
    "import itertools\n",
    "import collections\n",
    "import warnings\n",
    "import IPython.display\n",
    "import scipy.stats\n",
    "import networkx as nx\n",
    "from operator import itemgetter\n",
    "\n",
    "plt.style.use('seaborn-white')\n",
    "plt.rc('font', family='serif', serif='Helvetica')\n",
    "plt.rc('text', usetex=True)\n",
    "plt.rc('xtick', labelsize=8)\n",
    "plt.rc('ytick', labelsize=8)\n",
    "plt.rc('axes', labelsize=16)\n",
    "\n",
    "\n",
    "from sklearn.preprocessing import StandardScaler, RobustScaler, FunctionTransformer, PolynomialFeatures\n",
    "from sklearn.decomposition import PCA, NMF, FactorAnalysis\n",
    "from sklearn.pipeline import Pipeline\n",
    "from sklearn.linear_model import LinearRegression\n",
    "from sklearn.metrics import mean_squared_error, mean_absolute_error\n",
    "\n",
    "from numpy.random import exponential, negative_binomial, randint, choice, binomial\n",
    "from random import shuffle\n",
    "\n",
    "import statsmodels.formula.api as smf\n",
    "\n"
   ]
  },
  {
   "cell_type": "code",
   "execution_count": null,
   "metadata": {
    "collapsed": true
   },
   "outputs": [],
   "source": [
    "import EComm_0001_complexities \n",
    "\n",
    "# Paths\n",
    "path_fig = 'C:\\\\Users\\\\agomez\\\\Dropbox\\\\Harvard\\\\LittleProjects\\\\StochasticPS\\\\figures\\\\'\n",
    "path_data = 'C:\\\\Users\\\\agomez\\\\Dropbox\\\\Harvard\\\\LittleProjects\\\\StochasticPS\\\\data\\\\'\n",
    "path_outputdata = 'C:\\\\Users\\\\agomez\\\\Dropbox\\\\Harvard\\\\LittleProjects\\\\StochasticPS\\\\outputdata\\\\'\n",
    "path_inputdata = 'C:\\\\Users\\\\agomez\\\\Dropbox\\\\Harvard\\\\LittleProjects\\\\StochasticPS\\\\inputdata\\\\'\n",
    "\n",
    "# format of figures\n",
    "figformat = \"pdf\"\n",
    "save2file = False"
   ]
  },
  {
   "cell_type": "markdown",
   "metadata": {},
   "source": [
    "# Loading SITC 2015 data \n",
    "from: https://intl-atlas-downloads.s3.amazonaws.com/index.html"
   ]
  },
  {
   "cell_type": "code",
   "execution_count": null,
   "metadata": {
    "collapsed": true
   },
   "outputs": [],
   "source": [
    "#ccpy_filepath = \"https://intl-atlas-downloads.s3.amazonaws.com/CCPY/S2_final_{yr}.dta\"\n",
    "ccpy_filepath = path_inputdata + \"S2_final_{yr}.csv\"\n",
    "\n",
    "#cpy_filepath = \"https://intl-atlas-downloads.s3.amazonaws.com/CPY/S2_final_cpy_all.dta\"\n",
    "cpy_filepath = path_inputdata + \"S2_final_cpy_all.dta\"\n",
    "\n",
    "#ctyregions_filepath = \"https://raw.githubusercontent.com/lukes/ISO-3166-Countries-with-Regional-Codes/master/all/all.csv\"\n",
    "ctyregions_filepath = path_data + \"all.csv\"\n",
    "\n",
    "gdp_filepath = path_data + \"WorldBank_GDPperCapita_1962_to_2015.json\""
   ]
  },
  {
   "cell_type": "code",
   "execution_count": null,
   "metadata": {
    "collapsed": true
   },
   "outputs": [],
   "source": [
    "rowvarstring = 'exporter'\n",
    "colvarstring = 'commoditycode'\n",
    "valvarstring = 'mcp'\n",
    "year = 2015"
   ]
  },
  {
   "cell_type": "code",
   "execution_count": null,
   "metadata": {
    "collapsed": false
   },
   "outputs": [],
   "source": [
    "ctyregs_df = pd.read_csv(ctyregions_filepath)\n",
    "ctyregs_df.head()"
   ]
  },
  {
   "cell_type": "code",
   "execution_count": null,
   "metadata": {
    "collapsed": false
   },
   "outputs": [],
   "source": [
    "ctyregs_df = ctyregs_df[~ctyregs_df['sub-region'].isnull()]\n",
    "ctyregs_df.shape"
   ]
  },
  {
   "cell_type": "code",
   "execution_count": null,
   "metadata": {
    "collapsed": false
   },
   "outputs": [],
   "source": [
    "###### LOADING THE DATA #######\n",
    "longdf = pd.read_stata(cpy_filepath)"
   ]
  },
  {
   "cell_type": "code",
   "execution_count": null,
   "metadata": {
    "collapsed": false
   },
   "outputs": [],
   "source": [
    "longdf.dtypes"
   ]
  },
  {
   "cell_type": "code",
   "execution_count": null,
   "metadata": {
    "collapsed": false
   },
   "outputs": [],
   "source": [
    "print(longdf.shape)\n",
    "longdf.head()"
   ]
  },
  {
   "cell_type": "code",
   "execution_count": null,
   "metadata": {
    "collapsed": false
   },
   "outputs": [],
   "source": [
    "# subsetting to the year\n",
    "onlydecades_df = longdf[longdf['year'].astype(str).astype(int)%5 == 0] \n",
    "longdf = longdf[longdf['year'].astype(str).astype(int)==year]\n",
    "print(onlydecades_df.shape, longdf.shape)"
   ]
  },
  {
   "cell_type": "markdown",
   "metadata": {},
   "source": [
    "### Getting GDP data"
   ]
  },
  {
   "cell_type": "code",
   "execution_count": null,
   "metadata": {
    "collapsed": true
   },
   "outputs": [],
   "source": [
    "###### LOADING THE DATA #######\n",
    "gdp_longdf = pd.read_json(gdp_filepath)\n",
    "gdp_longdf = gdp_longdf.sort_values(['iso3c', 'year'])"
   ]
  },
  {
   "cell_type": "code",
   "execution_count": null,
   "metadata": {
    "collapsed": false
   },
   "outputs": [],
   "source": [
    "gdp_longdf = gdp_longdf[gdp_longdf['year'].astype(str).astype(int)%5 == 0]\n",
    "gdp_longdf = gdp_longdf[~gdp_longdf['gdp_per_capita_constant2010USD'].isnull()]"
   ]
  },
  {
   "cell_type": "code",
   "execution_count": null,
   "metadata": {
    "collapsed": false
   },
   "outputs": [],
   "source": [
    "gdp_longdf"
   ]
  },
  {
   "cell_type": "code",
   "execution_count": null,
   "metadata": {
    "collapsed": false
   },
   "outputs": [],
   "source": [
    "gdp_longdf.tail(4)"
   ]
  },
  {
   "cell_type": "markdown",
   "metadata": {},
   "source": [
    "## Getting the codes and checking consistency"
   ]
  },
  {
   "cell_type": "code",
   "execution_count": null,
   "metadata": {
    "collapsed": false
   },
   "outputs": [],
   "source": [
    "exp_codes = np.sort(longdf['exporter'].unique())\n",
    "prod_codes = np.sort(longdf['commoditycode'].unique())\n",
    "gdpcty_codes = np.sort(gdp_longdf['iso3c'].unique())"
   ]
  },
  {
   "cell_type": "code",
   "execution_count": null,
   "metadata": {
    "collapsed": true
   },
   "outputs": [],
   "source": [
    "iso_codes = np.sort(ctyregs_df['alpha-3'].unique())"
   ]
  },
  {
   "cell_type": "code",
   "execution_count": null,
   "metadata": {
    "collapsed": false
   },
   "outputs": [],
   "source": [
    "# the country codes that are in our dataset for which we do not have other meta-info\n",
    "list(set(exp_codes) - set(iso_codes))"
   ]
  },
  {
   "cell_type": "code",
   "execution_count": null,
   "metadata": {
    "collapsed": false
   },
   "outputs": [],
   "source": [
    "cty_codes = np.array(list(set(exp_codes) & set(iso_codes) & set(gdpcty_codes)))\n",
    "len(cty_codes)"
   ]
  },
  {
   "cell_type": "code",
   "execution_count": null,
   "metadata": {
    "collapsed": false
   },
   "outputs": [],
   "source": [
    "longdf = longdf[longdf[rowvarstring].isin(cty_codes)]"
   ]
  },
  {
   "cell_type": "code",
   "execution_count": null,
   "metadata": {
    "collapsed": false
   },
   "outputs": [],
   "source": [
    "longdf.shape"
   ]
  },
  {
   "cell_type": "markdown",
   "metadata": {},
   "source": [
    "### using the country codes to filder the data of GDP"
   ]
  },
  {
   "cell_type": "code",
   "execution_count": null,
   "metadata": {
    "collapsed": false
   },
   "outputs": [],
   "source": [
    "gdp_longdf = gdp_longdf[gdp_longdf['iso3c'].isin(cty_codes)][['iso3c', 'country', 'year', \n",
    "                                                              'gdp_per_capita_PPP_constant_2011_international_dollar', \n",
    "                                                              'gdp_per_capita_PPP_current_international_dollar', \n",
    "                                                              'gdp_per_capita_constant2010USD']]\n",
    "print((np.unique(gdp_longdf.iso3c), len(np.unique(gdp_longdf.iso3c))))"
   ]
  },
  {
   "cell_type": "markdown",
   "metadata": {},
   "source": [
    "## Converting long to wide"
   ]
  },
  {
   "cell_type": "code",
   "execution_count": null,
   "metadata": {
    "collapsed": false
   },
   "outputs": [],
   "source": [
    "# ---------------------\n",
    "# From long to wide format\n",
    "Mcp_widedf = longdf[longdf['year'].astype(str).astype(int)==year][[rowvarstring, colvarstring, valvarstring]].pivot(index=rowvarstring, \n",
    "                                                                       columns=colvarstring, \n",
    "                                                                       values=valvarstring).fillna(0.0)"
   ]
  },
  {
   "cell_type": "code",
   "execution_count": null,
   "metadata": {
    "collapsed": false
   },
   "outputs": [],
   "source": [
    "Mcp_widedf.shape"
   ]
  },
  {
   "cell_type": "code",
   "execution_count": null,
   "metadata": {
    "collapsed": false
   },
   "outputs": [],
   "source": [
    "Mcp_widedf.head()"
   ]
  },
  {
   "cell_type": "code",
   "execution_count": null,
   "metadata": {
    "collapsed": false
   },
   "outputs": [],
   "source": [
    "nmat, ncP, npP = EComm_0001_complexities.ReorderingMatrix(Mcp_widedf)\n",
    "plt.spy(nmat, aspect='auto')\n",
    "plt.show()"
   ]
  },
  {
   "cell_type": "code",
   "execution_count": null,
   "metadata": {
    "collapsed": false
   },
   "outputs": [],
   "source": [
    "divty = Mcp_widedf.sum(axis=1)\n",
    "ubity = Mcp_widedf.sum(axis=0)\n",
    "print(np.sum(divty==0), np.sum(ubity==0))\n",
    "print(np.sum(divty==1), np.sum(ubity==1))\n"
   ]
  },
  {
   "cell_type": "code",
   "execution_count": null,
   "metadata": {
    "collapsed": false
   },
   "outputs": [],
   "source": [
    "# Calculating the c2c and p2p matrices, eigenvalues and left-eigenvectors\n",
    "#(Mc2c, Dc, Vc), (Mp2p, Dp, Vp) = EComm_0001_complexities.ECeigenvecs(Mcp_widedf)\n",
    "(Mc2c, Dc, leftVc, rightVc) = EComm_0001_complexities.ECeigenvecs(Mcp_widedf)\n",
    "minsize = min(Mcp_widedf.shape)\n",
    "print(minsize)\n",
    "\n",
    "# Calculating the right-eigenvectors\n",
    "#rightDc, rightVc = np.linalg.eig(Mc2c)"
   ]
  },
  {
   "cell_type": "code",
   "execution_count": null,
   "metadata": {
    "collapsed": false
   },
   "outputs": [],
   "source": [
    "fig = plt.figure(figsize=(20,5))\n",
    "\n",
    "ax1 = fig.add_subplot(1,3,1)\n",
    "ax1.hist(Dc.real[:minsize])\n",
    "#ax1.set_xscale('log')\n",
    "ax1.set_yscale('log')\n",
    "\n",
    "ax2 = fig.add_subplot(1,3,2)\n",
    "ax2.hist(Dc.imag[:minsize])\n",
    "#ax2.set_xscale('log')\n",
    "ax2.set_yscale('log')\n",
    "\n",
    "ax3 = fig.add_subplot(1,3,3)\n",
    "ax3.scatter(Dc.real[10:minsize], Dc.imag[10:minsize])\n",
    "#ax3.set_xscale('log')\n",
    "#ax3.set_yscale('log')\n",
    "\n",
    "plt.show()"
   ]
  },
  {
   "cell_type": "code",
   "execution_count": null,
   "metadata": {
    "collapsed": false
   },
   "outputs": [],
   "source": [
    "fig = plt.figure(figsize=(16,5))\n",
    "plt.subplots_adjust(wspace=0.2)\n",
    "\n",
    "ax1 = fig.add_subplot(1,2,1)\n",
    "# histogram of country eigenvalues\n",
    "sns.distplot(Dc.real, bins=50, rug=True, kde=False, norm_hist=True, ax=ax1, axlabel=\"Eigen value\")\n",
    "sns.kdeplot(Dc.real, bw=.005, ax=ax1)\n",
    "\n",
    "ax2 = fig.add_subplot(1,2,2)\n",
    "# histogram of country ECI's\n",
    "sns.distplot(leftVc[:,1], bins=40, rug=True, kde=False, norm_hist=True, ax=ax2, axlabel=\"ECI\")\n",
    "sns.kdeplot(leftVc[:,1], bw=.01, ax=ax2)\n",
    "plt.show()"
   ]
  },
  {
   "cell_type": "code",
   "execution_count": null,
   "metadata": {
    "collapsed": false
   },
   "outputs": [],
   "source": [
    "# Counting the number of eigenvalues larger than 0.3~0.4 is a good measure of the number of communities\n",
    "np.sum(Dc>0.2)"
   ]
  },
  {
   "cell_type": "markdown",
   "metadata": {},
   "source": [
    "### Which communities to use?"
   ]
  },
  {
   "cell_type": "code",
   "execution_count": null,
   "metadata": {
    "collapsed": false
   },
   "outputs": [],
   "source": [
    "communitycolumn = 'region'\n",
    "\n",
    "# left-eigenvalue data frame\n",
    "leftVc_df = pd.DataFrame(leftVc, index=Mcp_widedf.index)\n",
    "leftVc_df['Community'] = [ctyregs_df[ctyregs_df['alpha-3']==cname][communitycolumn].values[0] for cname in Mcp_widedf.index.values]\n",
    "\n",
    "# right-eigenvalue data frame\n",
    "rightVc_df = pd.DataFrame(rightVc, index=Mcp_widedf.index)\n",
    "rightVc_df['Community'] = [ctyregs_df[ctyregs_df['alpha-3']==cname][communitycolumn].values[0] for cname in Mcp_widedf.index.values]\n",
    "\n",
    "print(leftVc_df.head())\n",
    "print(rightVc_df.head())"
   ]
  },
  {
   "cell_type": "code",
   "execution_count": null,
   "metadata": {
    "collapsed": false
   },
   "outputs": [],
   "source": [
    "leftVc_df.head()"
   ]
  },
  {
   "cell_type": "code",
   "execution_count": null,
   "metadata": {
    "collapsed": false
   },
   "outputs": [],
   "source": [
    "realcomms = np.unique(leftVc_df['Community'].values)\n",
    "kcomm = len(realcomms)\n",
    "mycolors = sns.color_palette(\"Set1\", n_colors=kcomm, desat=.5)\n",
    "\n",
    "communities_vec = realcomms\n",
    "numcommunities = len(communities_vec)\n",
    "rncomm = np.arange(numcommunities)\n",
    "mycolors = sns.color_palette(\"Set1\", n_colors=numcommunities, desat=.5)\n",
    "\n",
    "(communities_vec, numcommunities, rncomm)\n"
   ]
  },
  {
   "cell_type": "code",
   "execution_count": null,
   "metadata": {
    "collapsed": false
   },
   "outputs": [],
   "source": [
    "cty_marker_sizes = (Mcp_widedf.sum(axis=1).values/(0.8*np.min(Mcp_widedf.sum(axis=1).values)))**1.1\n",
    "(np.min(cty_marker_sizes), np.max(cty_marker_sizes))"
   ]
  },
  {
   "cell_type": "code",
   "execution_count": null,
   "metadata": {
    "collapsed": false
   },
   "outputs": [],
   "source": [
    "fig = plt.figure(figsize=(15,10))\n",
    "\n",
    "#ax1 = fig.add_subplot(131)\n",
    "#ax2 = fig.add_subplot(132)\n",
    "#ax3 = fig.add_subplot(133)\n",
    "\n",
    "\n",
    "#########################################################################\n",
    "# FIRST ROW: LEFT-EIGENVECTORS\n",
    "ax1 = fig.add_subplot(2,3,1)\n",
    "for color, i, target_name in zip(mycolors, rncomm, np.array(communities_vec)):\n",
    "    ax1.scatter(leftVc_df[leftVc_df.Community==target_name][1], leftVc_df[leftVc_df.Community==target_name][2],\n",
    "                c=color, label=target_name, \n",
    "                s=cty_marker_sizes[leftVc_df.Community==target_name])\n",
    "ax1.set_xlabel('2nd left-eigenvector (aka, ECI)', fontsize=16)\n",
    "ax1.set_ylabel('3rd left-eigenvector', fontsize=16)\n",
    "#plt.legend(loc=\"best\", shadow=False, scatterpoints=1)\n",
    "\n",
    "ax2 = fig.add_subplot(2,3,2)\n",
    "for color, i, target_name in zip(mycolors, rncomm, np.array(communities_vec)):\n",
    "    ax2.scatter(leftVc_df[leftVc_df.Community==target_name][1], leftVc_df[leftVc_df.Community==target_name][3],\n",
    "                c=color, label=target_name, \n",
    "                s=cty_marker_sizes[leftVc_df.Community==target_name])\n",
    "ax2.set_xlabel('2nd left-eigenvector (aka, ECI)', fontsize=16)\n",
    "ax2.set_ylabel('4th left-eigenvector', fontsize=16)\n",
    "#plt.legend(loc=\"upper center\", shadow=False, scatterpoints=1, bbox_to_anchor=(0.5, -0.2), ncol=5)\n",
    "\n",
    "ax3 = fig.add_subplot(2,3,3)\n",
    "for color, i, target_name in zip(mycolors, rncomm, np.array(communities_vec)):\n",
    "    ax3.scatter(leftVc_df[leftVc_df.Community==target_name][2], leftVc_df[leftVc_df.Community==target_name][3],\n",
    "                c=color, label=target_name, \n",
    "                s=cty_marker_sizes[leftVc_df.Community==target_name])\n",
    "ax3.set_xlabel('3rd left-eigenvector', fontsize=16)\n",
    "ax3.set_ylabel('4th left-eigenvector', fontsize=16)\n",
    "#plt.legend(loc=\"center left\", shadow=False, scatterpoints=1, bbox_to_anchor=(1.1, 0.5))\n",
    "\n",
    "\n",
    "\n",
    "#########################################################################\n",
    "# SECOND ROW: RIGHT-EIGENVECTORS\n",
    "ax4 = fig.add_subplot(2,3,4)\n",
    "for color, i, target_name in zip(mycolors, rncomm, np.array(communities_vec)):\n",
    "    ax4.scatter(-rightVc_df[rightVc_df.Community==target_name][1], -rightVc_df[rightVc_df.Community==target_name][2],\n",
    "                c=color, label=target_name, \n",
    "                s=cty_marker_sizes[rightVc_df.Community==target_name])\n",
    "ax4.set_xlabel('2nd right-eigenvector', fontsize=16)\n",
    "ax4.set_ylabel('3rd right-eigenvector', fontsize=16)\n",
    "#plt.legend(loc=\"best\", shadow=False, scatterpoints=1)\n",
    "\n",
    "ax5 = fig.add_subplot(2,3,5)\n",
    "for color, i, target_name in zip(mycolors, rncomm, np.array(communities_vec)):\n",
    "    ax5.scatter(-rightVc_df[rightVc_df.Community==target_name][1], rightVc_df[rightVc_df.Community==target_name][3],\n",
    "                c=color, label=target_name, \n",
    "                s=cty_marker_sizes[rightVc_df.Community==target_name])\n",
    "ax5.set_xlabel('2nd right-eigenvector', fontsize=16)\n",
    "ax5.set_ylabel('4th right-eigenvector', fontsize=16)\n",
    "\n",
    "# LEGEND\n",
    "ax5legend = ax5.legend(loc=\"upper center\", shadow=False, scatterpoints=1, bbox_to_anchor=(0.5, -0.2), ncol=6,\n",
    "          title=r'$\\bf{Communities}$', fontsize=16, frameon=True, fancybox=True, markerscale=1)\n",
    "plt.setp(ax5legend.get_title(),fontsize=16)\n",
    "\n",
    "ax6 = fig.add_subplot(2,3,6)\n",
    "for color, i, target_name in zip(mycolors, rncomm, np.array(communities_vec)):\n",
    "    ax6.scatter(-rightVc_df[rightVc_df.Community==target_name][2], rightVc_df[rightVc_df.Community==target_name][3],\n",
    "                c=color, label=target_name, \n",
    "                s=cty_marker_sizes[rightVc_df.Community==target_name])\n",
    "ax6.set_xlabel('3rd right-eigenvector', fontsize=16)\n",
    "ax6.set_ylabel('4th right-eigenvector', fontsize=16)\n",
    "\n",
    "\n",
    "\n",
    "\n",
    "\n",
    "plt.subplots_adjust(wspace=0.4, hspace=0.4)\n",
    "\n",
    "#plt.axis([-2, 3, -3, 3])\n",
    "plt.show()\n",
    "\n"
   ]
  },
  {
   "cell_type": "markdown",
   "metadata": {},
   "source": [
    "# Principal Component Analysis"
   ]
  },
  {
   "cell_type": "code",
   "execution_count": null,
   "metadata": {
    "collapsed": true
   },
   "outputs": [],
   "source": [
    "ncomps = 3\n",
    "pca = PCA(n_components = ncomps, whiten = True)\n",
    "#X_pca = pca.fit_transform(Mc2c)\n",
    "X_pca = pca.fit_transform(Mcp_widedf)"
   ]
  },
  {
   "cell_type": "code",
   "execution_count": null,
   "metadata": {
    "collapsed": false
   },
   "outputs": [],
   "source": [
    "fig = plt.figure(figsize=(15,5))\n",
    "\n",
    "ax1 = fig.add_subplot(1,3,1)\n",
    "for color, i, target_name in zip(mycolors, rncomm, np.array(communities_vec)):\n",
    "    ax1.scatter(X_pca[leftVc_df.Community==target_name, 0], X_pca[leftVc_df.Community==target_name, 1],\n",
    "                c=color, label=target_name)\n",
    "ax1.set_xlabel('PC0', fontsize=16)\n",
    "ax1.set_ylabel('PC1', fontsize=16)\n",
    "#plt.legend(loc=\"best\", shadow=False, scatterpoints=1)\n",
    "\n",
    "ax2 = fig.add_subplot(1,3,2)\n",
    "for color, i, target_name in zip(mycolors, rncomm, np.array(communities_vec)):\n",
    "    ax2.scatter(X_pca[leftVc_df.Community==target_name, 0], X_pca[leftVc_df.Community==target_name, 2],\n",
    "                c=color, label=target_name)\n",
    "ax2.set_xlabel('PC0', fontsize=16)\n",
    "ax2.set_ylabel('PC2', fontsize=16)\n",
    "plt.legend(loc=\"upper center\", shadow=False, scatterpoints=1, bbox_to_anchor=(0.5, -0.2), ncol=5)\n",
    "\n",
    "ax3 = fig.add_subplot(1,3,3)\n",
    "for color, i, target_name in zip(mycolors, rncomm, np.array(communities_vec)):\n",
    "    ax3.scatter(X_pca[leftVc_df.Community==target_name, 1], X_pca[leftVc_df.Community==target_name, 2],\n",
    "                c=color, label=target_name)\n",
    "ax3.set_xlabel('PC1', fontsize=16)\n",
    "ax3.set_ylabel('PC2', fontsize=16)\n",
    "#plt.legend(loc=\"center\", shadow=False, scatterpoints=1, bbox_to_anchor=(0.5, -0.05), ncol=5)\n",
    "\n",
    "\n",
    "#plt.axis([-2, 3, -3, 3])\n",
    "plt.show()"
   ]
  },
  {
   "cell_type": "markdown",
   "metadata": {
    "collapsed": true
   },
   "source": [
    "# Growth regressions"
   ]
  },
  {
   "cell_type": "code",
   "execution_count": null,
   "metadata": {
    "collapsed": false
   },
   "outputs": [],
   "source": [
    "resFA = FactorAnalysis(n_components = ncomps).fit_transform(Mcp_widedf)\n",
    "resFA_df = pd.DataFrame(resFA, index=Mcp_widedf.index, columns = [\"FC\"+str(i) for i in range(ncomps)])"
   ]
  },
  {
   "cell_type": "code",
   "execution_count": null,
   "metadata": {
    "collapsed": false
   },
   "outputs": [],
   "source": [
    "resFA_df.head()"
   ]
  },
  {
   "cell_type": "code",
   "execution_count": null,
   "metadata": {
    "collapsed": true
   },
   "outputs": [],
   "source": []
  },
  {
   "cell_type": "code",
   "execution_count": null,
   "metadata": {
    "collapsed": false
   },
   "outputs": [],
   "source": [
    "dist = EComm_0001_complexities.distance_to_center(Mcp_widedf, kcomm=3)"
   ]
  },
  {
   "cell_type": "code",
   "execution_count": null,
   "metadata": {
    "collapsed": false
   },
   "outputs": [],
   "source": [
    "print((len(dist), len(divty)))"
   ]
  },
  {
   "cell_type": "code",
   "execution_count": null,
   "metadata": {
    "collapsed": false
   },
   "outputs": [],
   "source": [
    "dist.head()"
   ]
  },
  {
   "cell_type": "code",
   "execution_count": null,
   "metadata": {
    "collapsed": false
   },
   "outputs": [],
   "source": [
    "plt.scatter(divty, dist.rightDist2Origin)\n",
    "plt.show()"
   ]
  },
  {
   "cell_type": "code",
   "execution_count": null,
   "metadata": {
    "collapsed": false
   },
   "outputs": [],
   "source": [
    "X_pca_df = pd.DataFrame(X_pca, index=Mcp_widedf.index, columns = [\"PC\" + str(i) for i in range(ncomps)])"
   ]
  },
  {
   "cell_type": "code",
   "execution_count": null,
   "metadata": {
    "collapsed": false
   },
   "outputs": [],
   "source": [
    "X_pca_df.head()"
   ]
  },
  {
   "cell_type": "code",
   "execution_count": null,
   "metadata": {
    "collapsed": false
   },
   "outputs": [],
   "source": []
  },
  {
   "cell_type": "code",
   "execution_count": null,
   "metadata": {
    "collapsed": true
   },
   "outputs": [],
   "source": [
    "originaleci_df = longdf[longdf['year'].astype(str).astype(int)==year][[\"exporter\", \"eci\"]].drop_duplicates()\n",
    "originaleci_df.index = originaleci_df[\"exporter\"].values\n",
    "originaleci_df.index.name = \"exporter\""
   ]
  },
  {
   "cell_type": "code",
   "execution_count": null,
   "metadata": {
    "collapsed": false
   },
   "outputs": [],
   "source": [
    "originaleci_df.head()"
   ]
  },
  {
   "cell_type": "code",
   "execution_count": null,
   "metadata": {
    "collapsed": false
   },
   "outputs": [],
   "source": [
    "gdp2joindf = gdp_longdf[gdp_longdf[\"year\"].astype(str).astype(int)==year]\n",
    "gdp2joindf[\"log_gdppc\"] = np.log(gdp2joindf[\"gdp_per_capita_constant2010USD\"].values)\n",
    "\n",
    "gdp2joindf.index = gdp2joindf[\"iso3c\"].values\n",
    "\n",
    "gdp2joindf.index.name = \"exporter\""
   ]
  },
  {
   "cell_type": "code",
   "execution_count": null,
   "metadata": {
    "collapsed": false
   },
   "outputs": [],
   "source": [
    "gdp2joindf"
   ]
  },
  {
   "cell_type": "code",
   "execution_count": null,
   "metadata": {
    "collapsed": false
   },
   "outputs": [],
   "source": [
    "mydata = dist.join(originaleci_df[[\"eci\"]]).join(leftVc_df[[1,2]]).join(X_pca_df).join(resFA_df).join(gdp2joindf[[\"log_gdppc\"]], how='inner')\n",
    "print(mydata.shape)\n",
    "mydata.head()"
   ]
  },
  {
   "cell_type": "code",
   "execution_count": null,
   "metadata": {
    "collapsed": false
   },
   "outputs": [],
   "source": [
    "g = sns.pairplot(mydata, kind=\"reg\")"
   ]
  },
  {
   "cell_type": "code",
   "execution_count": null,
   "metadata": {
    "collapsed": true
   },
   "outputs": [],
   "source": []
  },
  {
   "cell_type": "code",
   "execution_count": null,
   "metadata": {
    "collapsed": true
   },
   "outputs": [],
   "source": [
    "est = smf.ols(formula='chd ~ C(famhist)', data=df).fit()\n",
    "short_summary(est)"
   ]
  },
  {
   "cell_type": "code",
   "execution_count": null,
   "metadata": {
    "collapsed": true
   },
   "outputs": [],
   "source": []
  },
  {
   "cell_type": "code",
   "execution_count": null,
   "metadata": {
    "collapsed": true
   },
   "outputs": [],
   "source": []
  },
  {
   "cell_type": "code",
   "execution_count": null,
   "metadata": {
    "collapsed": true
   },
   "outputs": [],
   "source": []
  },
  {
   "cell_type": "code",
   "execution_count": null,
   "metadata": {
    "collapsed": true
   },
   "outputs": [],
   "source": []
  },
  {
   "cell_type": "code",
   "execution_count": null,
   "metadata": {
    "collapsed": true
   },
   "outputs": [],
   "source": []
  },
  {
   "cell_type": "code",
   "execution_count": null,
   "metadata": {
    "collapsed": false
   },
   "outputs": [],
   "source": [
    "mat = np.array([[1.0,2,3],[8, 7, 2]])\n",
    "mat_df = pd.DataFrame(mat, index=['c1', 'c2'], columns = ['p1', 'p2', 'p3'])\n",
    "mat_df"
   ]
  },
  {
   "cell_type": "code",
   "execution_count": null,
   "metadata": {
    "collapsed": false
   },
   "outputs": [],
   "source": [
    "mat_df.sum().sum()*(mat_df.T/mat_df.sum(axis=1)).T/mat_df.sum(axis=0)"
   ]
  },
  {
   "cell_type": "code",
   "execution_count": null,
   "metadata": {
    "collapsed": false
   },
   "outputs": [],
   "source": [
    "print(mat_df.sum().sum())\n",
    "print(mat_df.sum(axis=1))\n",
    "print(mat_df.sum(axis=0))"
   ]
  },
  {
   "cell_type": "code",
   "execution_count": null,
   "metadata": {
    "collapsed": false
   },
   "outputs": [],
   "source": [
    "2.0*23.0/(17.0*5.0)"
   ]
  },
  {
   "cell_type": "code",
   "execution_count": null,
   "metadata": {
    "collapsed": false
   },
   "outputs": [],
   "source": [
    "np.floor(mat_df.sum().sum()*(mat_df.T/mat_df.sum(axis=1)).T/mat_df.sum(axis=0)).astype(bool).astype(int)"
   ]
  },
  {
   "cell_type": "code",
   "execution_count": null,
   "metadata": {
    "collapsed": true
   },
   "outputs": [],
   "source": []
  }
 ],
 "metadata": {
  "kernelspec": {
   "display_name": "Python 3",
   "language": "python",
   "name": "python3"
  },
  "language_info": {
   "codemirror_mode": {
    "name": "ipython",
    "version": 3
   },
   "file_extension": ".py",
   "mimetype": "text/x-python",
   "name": "python",
   "nbconvert_exporter": "python",
   "pygments_lexer": "ipython3",
   "version": "3.6.0"
  }
 },
 "nbformat": 4,
 "nbformat_minor": 2
}
