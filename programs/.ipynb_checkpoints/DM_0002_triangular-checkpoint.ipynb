{
 "cells": [
  {
   "cell_type": "code",
   "execution_count": 1,
   "metadata": {
    "collapsed": true
   },
   "outputs": [],
   "source": [
    "%load_ext autoreload\n",
    "%autoreload 2\n",
    "%matplotlib inline\n",
    "\n",
    "import os\n",
    "import sys\n"
   ]
  },
  {
   "cell_type": "code",
   "execution_count": 2,
   "metadata": {},
   "outputs": [
    {
     "data": {
      "text/plain": [
       "['',\n",
       " 'C:\\\\Users\\\\agomez\\\\AppData\\\\Local\\\\Continuum\\\\Anaconda3\\\\python36.zip',\n",
       " 'C:\\\\Users\\\\agomez\\\\AppData\\\\Local\\\\Continuum\\\\Anaconda3\\\\DLLs',\n",
       " 'C:\\\\Users\\\\agomez\\\\AppData\\\\Local\\\\Continuum\\\\Anaconda3\\\\lib',\n",
       " 'C:\\\\Users\\\\agomez\\\\AppData\\\\Local\\\\Continuum\\\\Anaconda3',\n",
       " 'C:\\\\Users\\\\agomez\\\\AppData\\\\Local\\\\Continuum\\\\Anaconda3\\\\lib\\\\site-packages',\n",
       " 'C:\\\\Users\\\\agomez\\\\AppData\\\\Local\\\\Continuum\\\\Anaconda3\\\\lib\\\\site-packages\\\\win32',\n",
       " 'C:\\\\Users\\\\agomez\\\\AppData\\\\Local\\\\Continuum\\\\Anaconda3\\\\lib\\\\site-packages\\\\win32\\\\lib',\n",
       " 'C:\\\\Users\\\\agomez\\\\AppData\\\\Local\\\\Continuum\\\\Anaconda3\\\\lib\\\\site-packages\\\\Pythonwin',\n",
       " 'C:\\\\Users\\\\agomez\\\\AppData\\\\Local\\\\Continuum\\\\Anaconda3\\\\lib\\\\site-packages\\\\IPython\\\\extensions',\n",
       " 'C:\\\\Users\\\\agomez\\\\.ipython',\n",
       " 'C:\\\\Users\\\\agomez\\\\Dropbox\\\\Harvard\\\\LittleProjects\\\\StochasticPS\\\\programs\\\\']"
      ]
     },
     "execution_count": 2,
     "metadata": {},
     "output_type": "execute_result"
    }
   ],
   "source": [
    "# Allow imports from parent directory \n",
    "# https://stackoverflow.com/questions/34478398/import-local-function-from-a-module-housed-in-another-directory-with-relative-im/35273613#35273613\n",
    "#module_path = os.path.abspath(os.path.join(os.pardir))\n",
    "module_path = 'C:\\\\Users\\\\agomez\\\\Dropbox\\\\Harvard\\\\LittleProjects\\\\StochasticPS\\\\programs\\\\'\n",
    "if module_path not in sys.path:\n",
    "    sys.path.append(module_path)\n",
    "sys.path"
   ]
  },
  {
   "cell_type": "code",
   "execution_count": 3,
   "metadata": {
    "collapsed": true
   },
   "outputs": [],
   "source": [
    "import time\n",
    "import datetime\n",
    "\n",
    "import pandas as pd\n",
    "import numpy as np\n",
    "import sympy as sym\n",
    "import matplotlib.pyplot as plt\n",
    "\n",
    "import seaborn as sns\n",
    "\n",
    "import itertools\n",
    "import collections\n",
    "import warnings\n",
    "import IPython.display\n",
    "import scipy.stats\n",
    "import networkx as nx\n",
    "from operator import itemgetter\n",
    "\n",
    "plt.style.use('seaborn-white')\n",
    "plt.rc('font', family='serif', serif='Helvetica')\n",
    "plt.rc('text', usetex=True)\n",
    "plt.rc('xtick', labelsize=8)\n",
    "plt.rc('ytick', labelsize=8)\n",
    "plt.rc('axes', labelsize=16, linewidth=0.5)\n",
    "\n",
    "\n",
    "from sklearn.preprocessing import StandardScaler, RobustScaler, FunctionTransformer, PolynomialFeatures\n",
    "from sklearn.decomposition import PCA, NMF\n",
    "from sklearn.pipeline import Pipeline\n",
    "from sklearn.linear_model import LinearRegression\n",
    "from sklearn.metrics import mean_squared_error, mean_absolute_error\n",
    "from sklearn.metrics.pairwise import pairwise_distances\n",
    "\n",
    "\n",
    "from numpy.random import exponential, negative_binomial, randint, choice, binomial\n",
    "from random import shuffle\n",
    "\n",
    "import statsmodels.formula.api as smf\n",
    "\n",
    "LETTERS = [\"A\", \"B\", \"C\", \"D\", \"E\", \"F\", \"G\", \"H\", \"I\", \"J\", \"K\", \"L\", \"M\", \"N\", \"O\", \"P\", \"Q\", \"R\", \"S\", \"T\", \"U\", \"V\", \"W\", \"X\", \"Y\", \"Z\"]\n",
    "\n",
    "import time\n",
    "from scipy import interpolate\n",
    "\n",
    "import EComm_0001_complexities \n"
   ]
  },
  {
   "cell_type": "code",
   "execution_count": null,
   "metadata": {},
   "outputs": [],
   "source": []
  },
  {
   "cell_type": "code",
   "execution_count": 4,
   "metadata": {
    "collapsed": true
   },
   "outputs": [],
   "source": [
    "\n",
    "# Paths\n",
    "path_fig = 'C:\\\\Users\\\\agomez\\\\Dropbox\\\\Harvard\\\\LittleProjects\\\\StochasticPS\\\\figures\\\\'\n",
    "path_data = 'C:\\\\Users\\\\agomez\\\\Dropbox\\\\Harvard\\\\LittleProjects\\\\StochasticPS\\\\data\\\\'\n",
    "path_outputdata = 'C:\\\\Users\\\\agomez\\\\Dropbox\\\\Harvard\\\\LittleProjects\\\\StochasticPS\\\\outputdata\\\\'\n",
    "path_inputdata = 'C:\\\\Users\\\\agomez\\\\Dropbox\\\\Harvard\\\\LittleProjects\\\\StochasticPS\\\\inputdata\\\\'\n",
    "\n",
    "# format of figures\n",
    "figformat = \"pdf\"\n",
    "save2file = False"
   ]
  },
  {
   "cell_type": "markdown",
   "metadata": {},
   "source": [
    "# Loading Data"
   ]
  },
  {
   "cell_type": "code",
   "execution_count": 5,
   "metadata": {},
   "outputs": [],
   "source": [
    "classtype = \"sitc\"\n",
    "\n",
    "timestring = \"year\"\n",
    "rowvarstring = 'location_code'\n",
    "rowvarstring_name = 'location_name_short_en'\n",
    "colvarstring = '{classification}_product_code'.format(classification=classtype)\n",
    "valtotalstring = 'export_value'\n",
    "valvarstring = 'export_rca'\n"
   ]
  },
  {
   "cell_type": "code",
   "execution_count": 6,
   "metadata": {},
   "outputs": [
    {
     "name": "stdout",
     "output_type": "stream",
     "text": [
      "(248, 11)\n"
     ]
    },
    {
     "name": "stderr",
     "output_type": "stream",
     "text": [
      "C:\\Users\\agomez\\AppData\\Local\\Continuum\\Anaconda3\\lib\\site-packages\\IPython\\core\\interactiveshell.py:2785: DtypeWarning: Columns (13) have mixed types. Specify dtype option on import or set low_memory=False.\n",
      "  interactivity=interactivity, compiler=compiler, result=result)\n"
     ]
    },
    {
     "name": "stdout",
     "output_type": "stream",
     "text": [
      "(8912036, 15)\n"
     ]
    }
   ],
   "source": [
    "#cpy_filepath = \"https://intl-atlas-downloads.s3.amazonaws.com/country_hsproduct4digit_year.csv.zip\"\n",
    "classtype = \"sitc\"\n",
    "cpy_filepath = \"https://intl-atlas-downloads.s3.amazonaws.com/country_{classification}product4digit_year.csv.zip\".format(classification=classtype)\n",
    "ctyregions_filepath = \"https://raw.githubusercontent.com/lukes/ISO-3166-Countries-with-Regional-Codes/master/all/all.csv\"\n",
    "\n",
    "###### LOADING THE DATA #######\n",
    "ctyregs_df = pd.read_csv(ctyregions_filepath)\n",
    "ctyregs_df = ctyregs_df[~ctyregs_df['sub-region'].isnull()]\n",
    "print(ctyregs_df.shape)\n",
    "\n",
    "###### LOADING THE DATA #######\n",
    "longdf = pd.read_csv(cpy_filepath)\n",
    "print(longdf.shape)"
   ]
  },
  {
   "cell_type": "code",
   "execution_count": 7,
   "metadata": {},
   "outputs": [],
   "source": [
    "longdf = longdf.loc[(~(longdf[\"pci\"].isna()))]\n",
    "longdf[colvarstring] = longdf[colvarstring].apply(lambda x: str(x).zfill(4))\n",
    "#longdf[valtotalstring] = longdf[colvarstring].apply(lambda x: str(x).zfill(4))"
   ]
  },
  {
   "cell_type": "code",
   "execution_count": 8,
   "metadata": {},
   "outputs": [],
   "source": [
    "longdf = longdf[[timestring, rowvarstring_name, rowvarstring, colvarstring, valtotalstring, valvarstring]]"
   ]
  },
  {
   "cell_type": "code",
   "execution_count": 9,
   "metadata": {},
   "outputs": [
    {
     "data": {
      "text/html": [
       "<div>\n",
       "<style scoped>\n",
       "    .dataframe tbody tr th:only-of-type {\n",
       "        vertical-align: middle;\n",
       "    }\n",
       "\n",
       "    .dataframe tbody tr th {\n",
       "        vertical-align: top;\n",
       "    }\n",
       "\n",
       "    .dataframe thead th {\n",
       "        text-align: right;\n",
       "    }\n",
       "</style>\n",
       "<table border=\"1\" class=\"dataframe\">\n",
       "  <thead>\n",
       "    <tr style=\"text-align: right;\">\n",
       "      <th></th>\n",
       "      <th>year</th>\n",
       "      <th>location_name_short_en</th>\n",
       "      <th>location_code</th>\n",
       "      <th>sitc_product_code</th>\n",
       "      <th>export_value</th>\n",
       "      <th>export_rca</th>\n",
       "    </tr>\n",
       "  </thead>\n",
       "  <tbody>\n",
       "    <tr>\n",
       "      <th>0</th>\n",
       "      <td>1988</td>\n",
       "      <td>Aruba</td>\n",
       "      <td>ABW</td>\n",
       "      <td>0011</td>\n",
       "      <td>0.0</td>\n",
       "      <td>0.0</td>\n",
       "    </tr>\n",
       "    <tr>\n",
       "      <th>1</th>\n",
       "      <td>1989</td>\n",
       "      <td>Aruba</td>\n",
       "      <td>ABW</td>\n",
       "      <td>0011</td>\n",
       "      <td>0.0</td>\n",
       "      <td>0.0</td>\n",
       "    </tr>\n",
       "    <tr>\n",
       "      <th>2</th>\n",
       "      <td>1990</td>\n",
       "      <td>Aruba</td>\n",
       "      <td>ABW</td>\n",
       "      <td>0011</td>\n",
       "      <td>0.0</td>\n",
       "      <td>0.0</td>\n",
       "    </tr>\n",
       "    <tr>\n",
       "      <th>3</th>\n",
       "      <td>1991</td>\n",
       "      <td>Aruba</td>\n",
       "      <td>ABW</td>\n",
       "      <td>0011</td>\n",
       "      <td>0.0</td>\n",
       "      <td>0.0</td>\n",
       "    </tr>\n",
       "    <tr>\n",
       "      <th>4</th>\n",
       "      <td>1992</td>\n",
       "      <td>Aruba</td>\n",
       "      <td>ABW</td>\n",
       "      <td>0011</td>\n",
       "      <td>0.0</td>\n",
       "      <td>0.0</td>\n",
       "    </tr>\n",
       "  </tbody>\n",
       "</table>\n",
       "</div>"
      ],
      "text/plain": [
       "   year location_name_short_en location_code sitc_product_code  export_value  \\\n",
       "0  1988                  Aruba           ABW              0011           0.0   \n",
       "1  1989                  Aruba           ABW              0011           0.0   \n",
       "2  1990                  Aruba           ABW              0011           0.0   \n",
       "3  1991                  Aruba           ABW              0011           0.0   \n",
       "4  1992                  Aruba           ABW              0011           0.0   \n",
       "\n",
       "   export_rca  \n",
       "0         0.0  \n",
       "1         0.0  \n",
       "2         0.0  \n",
       "3         0.0  \n",
       "4         0.0  "
      ]
     },
     "execution_count": 9,
     "metadata": {},
     "output_type": "execute_result"
    }
   ],
   "source": [
    "longdf.head()"
   ]
  },
  {
   "cell_type": "code",
   "execution_count": 10,
   "metadata": {},
   "outputs": [
    {
     "name": "stdout",
     "output_type": "stream",
     "text": [
      "(8865554, 6)\n"
     ]
    }
   ],
   "source": [
    "print(longdf.shape)"
   ]
  },
  {
   "cell_type": "markdown",
   "metadata": {},
   "source": [
    "## Getting the codes and checking consistency"
   ]
  },
  {
   "cell_type": "code",
   "execution_count": 11,
   "metadata": {},
   "outputs": [
    {
     "name": "stdout",
     "output_type": "stream",
     "text": [
      "239\n",
      "(8618951, 6)\n"
     ]
    }
   ],
   "source": [
    "exp_codes = np.sort(longdf[rowvarstring].unique())\n",
    "prod_codes = np.sort(longdf[colvarstring].unique())\n",
    "iso_codes = np.sort(ctyregs_df['alpha-3'].unique())\n",
    "\n",
    "cty_codes = np.array(list(set(exp_codes) & set(iso_codes)))\n",
    "print(len(cty_codes))\n",
    "\n",
    "longdf = longdf.loc[longdf[rowvarstring].isin(cty_codes)]\n",
    "print(longdf.shape)\n",
    "orig_numrows = longdf.shape[0]"
   ]
  },
  {
   "cell_type": "code",
   "execution_count": 12,
   "metadata": {},
   "outputs": [
    {
     "data": {
      "text/html": [
       "<div>\n",
       "<style scoped>\n",
       "    .dataframe tbody tr th:only-of-type {\n",
       "        vertical-align: middle;\n",
       "    }\n",
       "\n",
       "    .dataframe tbody tr th {\n",
       "        vertical-align: top;\n",
       "    }\n",
       "\n",
       "    .dataframe thead th {\n",
       "        text-align: right;\n",
       "    }\n",
       "</style>\n",
       "<table border=\"1\" class=\"dataframe\">\n",
       "  <thead>\n",
       "    <tr style=\"text-align: right;\">\n",
       "      <th></th>\n",
       "      <th>year</th>\n",
       "      <th>location_name_short_en</th>\n",
       "      <th>location_code</th>\n",
       "      <th>sitc_product_code</th>\n",
       "      <th>export_value</th>\n",
       "      <th>export_rca</th>\n",
       "    </tr>\n",
       "  </thead>\n",
       "  <tbody>\n",
       "    <tr>\n",
       "      <th>0</th>\n",
       "      <td>1988</td>\n",
       "      <td>Aruba</td>\n",
       "      <td>ABW</td>\n",
       "      <td>0011</td>\n",
       "      <td>0.0</td>\n",
       "      <td>0.0</td>\n",
       "    </tr>\n",
       "    <tr>\n",
       "      <th>1</th>\n",
       "      <td>1989</td>\n",
       "      <td>Aruba</td>\n",
       "      <td>ABW</td>\n",
       "      <td>0011</td>\n",
       "      <td>0.0</td>\n",
       "      <td>0.0</td>\n",
       "    </tr>\n",
       "    <tr>\n",
       "      <th>2</th>\n",
       "      <td>1990</td>\n",
       "      <td>Aruba</td>\n",
       "      <td>ABW</td>\n",
       "      <td>0011</td>\n",
       "      <td>0.0</td>\n",
       "      <td>0.0</td>\n",
       "    </tr>\n",
       "    <tr>\n",
       "      <th>3</th>\n",
       "      <td>1991</td>\n",
       "      <td>Aruba</td>\n",
       "      <td>ABW</td>\n",
       "      <td>0011</td>\n",
       "      <td>0.0</td>\n",
       "      <td>0.0</td>\n",
       "    </tr>\n",
       "    <tr>\n",
       "      <th>4</th>\n",
       "      <td>1992</td>\n",
       "      <td>Aruba</td>\n",
       "      <td>ABW</td>\n",
       "      <td>0011</td>\n",
       "      <td>0.0</td>\n",
       "      <td>0.0</td>\n",
       "    </tr>\n",
       "  </tbody>\n",
       "</table>\n",
       "</div>"
      ],
      "text/plain": [
       "   year location_name_short_en location_code sitc_product_code  export_value  \\\n",
       "0  1988                  Aruba           ABW              0011           0.0   \n",
       "1  1989                  Aruba           ABW              0011           0.0   \n",
       "2  1990                  Aruba           ABW              0011           0.0   \n",
       "3  1991                  Aruba           ABW              0011           0.0   \n",
       "4  1992                  Aruba           ABW              0011           0.0   \n",
       "\n",
       "   export_rca  \n",
       "0         0.0  \n",
       "1         0.0  \n",
       "2         0.0  \n",
       "3         0.0  \n",
       "4         0.0  "
      ]
     },
     "execution_count": 12,
     "metadata": {},
     "output_type": "execute_result"
    }
   ],
   "source": [
    "longdf.head()"
   ]
  },
  {
   "cell_type": "markdown",
   "metadata": {},
   "source": [
    "## Preparation"
   ]
  },
  {
   "cell_type": "code",
   "execution_count": 13,
   "metadata": {},
   "outputs": [],
   "source": [
    "# Creating totals\n",
    "rowtotalvar = valtotalstring + \"_{}_tot\".format(rowvarstring)\n",
    "coltotalvar = valtotalstring + \"_{}_tot\".format(colvarstring)\n",
    "totaltotalvar = valtotalstring + \"_year_tot\"\n",
    "\n",
    "# ---------------------\n",
    "longdf[rowtotalvar] = longdf.groupby(by = [\"year\", rowvarstring])[valtotalstring].transform('sum')\n",
    "longdf[coltotalvar] = longdf.groupby(by = [\"year\", colvarstring])[valtotalstring].transform('sum')\n",
    "longdf[totaltotalvar] = longdf.groupby(by = [\"year\"])[valtotalstring].transform('sum')\n",
    "\n",
    "longdf = longdf.loc[(~( (longdf[rowtotalvar]<=1000.0) | (longdf[coltotalvar]<=1000.0) ))]\n",
    "\n"
   ]
  },
  {
   "cell_type": "code",
   "execution_count": 14,
   "metadata": {},
   "outputs": [],
   "source": [
    "# Creating logarithms\n",
    "longdf[\"constant\"] = 1\n",
    "longdf[\"log_\" + valtotalstring] = np.log(1 + longdf[valtotalstring].values)\n",
    "longdf[[\"log_\" + rowtotalvar, \"log_\" + coltotalvar, \"log_\" + totaltotalvar]] = np.log(longdf[[rowtotalvar, coltotalvar, totaltotalvar]])\n"
   ]
  },
  {
   "cell_type": "code",
   "execution_count": 15,
   "metadata": {},
   "outputs": [],
   "source": [
    "Xmat = longdf[[\"log_\" + rowtotalvar, \"log_\" + coltotalvar, \"log_\" + totaltotalvar]].values\n",
    "ymat = longdf[\"log_\" + valtotalstring].values\n",
    "reg = LinearRegression().fit(Xmat, ymat)"
   ]
  },
  {
   "cell_type": "code",
   "execution_count": null,
   "metadata": {},
   "outputs": [],
   "source": []
  },
  {
   "cell_type": "code",
   "execution_count": 16,
   "metadata": {},
   "outputs": [],
   "source": [
    "# creating the residuals of a regression\n",
    "rcaval = \"rca_ols\"\n",
    "mcpval = \"mcp_ols\"\n",
    "mcporigval = \"mcp_orig\"\n",
    "longdf[rcaval] = ymat - reg.predict(Xmat)  \n",
    "longdf[mcpval] = (longdf[rcaval] > 0).astype(int)  \n",
    "longdf[mcporigval] = (longdf[valvarstring] > 1).astype(int)  \n"
   ]
  },
  {
   "cell_type": "code",
   "execution_count": 17,
   "metadata": {},
   "outputs": [
    {
     "data": {
      "text/html": [
       "<div>\n",
       "<style scoped>\n",
       "    .dataframe tbody tr th:only-of-type {\n",
       "        vertical-align: middle;\n",
       "    }\n",
       "\n",
       "    .dataframe tbody tr th {\n",
       "        vertical-align: top;\n",
       "    }\n",
       "\n",
       "    .dataframe thead th {\n",
       "        text-align: right;\n",
       "    }\n",
       "</style>\n",
       "<table border=\"1\" class=\"dataframe\">\n",
       "  <thead>\n",
       "    <tr style=\"text-align: right;\">\n",
       "      <th></th>\n",
       "      <th>export_rca</th>\n",
       "      <th>rca_ols</th>\n",
       "    </tr>\n",
       "  </thead>\n",
       "  <tbody>\n",
       "    <tr>\n",
       "      <th>count</th>\n",
       "      <td>1.113880e+05</td>\n",
       "      <td>111388.000000</td>\n",
       "    </tr>\n",
       "    <tr>\n",
       "      <th>mean</th>\n",
       "      <td>3.221587e+00</td>\n",
       "      <td>2.749653</td>\n",
       "    </tr>\n",
       "    <tr>\n",
       "      <th>std</th>\n",
       "      <td>9.102227e+01</td>\n",
       "      <td>2.896009</td>\n",
       "    </tr>\n",
       "    <tr>\n",
       "      <th>min</th>\n",
       "      <td>1.341076e-07</td>\n",
       "      <td>-12.141843</td>\n",
       "    </tr>\n",
       "    <tr>\n",
       "      <th>25%</th>\n",
       "      <td>1.519501e-02</td>\n",
       "      <td>1.028512</td>\n",
       "    </tr>\n",
       "    <tr>\n",
       "      <th>50%</th>\n",
       "      <td>1.198808e-01</td>\n",
       "      <td>2.961630</td>\n",
       "    </tr>\n",
       "    <tr>\n",
       "      <th>75%</th>\n",
       "      <td>6.586106e-01</td>\n",
       "      <td>4.538631</td>\n",
       "    </tr>\n",
       "    <tr>\n",
       "      <th>max</th>\n",
       "      <td>1.925629e+04</td>\n",
       "      <td>17.506762</td>\n",
       "    </tr>\n",
       "  </tbody>\n",
       "</table>\n",
       "</div>"
      ],
      "text/plain": [
       "         export_rca        rca_ols\n",
       "count  1.113880e+05  111388.000000\n",
       "mean   3.221587e+00       2.749653\n",
       "std    9.102227e+01       2.896009\n",
       "min    1.341076e-07     -12.141843\n",
       "25%    1.519501e-02       1.028512\n",
       "50%    1.198808e-01       2.961630\n",
       "75%    6.586106e-01       4.538631\n",
       "max    1.925629e+04      17.506762"
      ]
     },
     "execution_count": 17,
     "metadata": {},
     "output_type": "execute_result"
    }
   ],
   "source": [
    "longdf.loc[(longdf[\"year\"]==2010)].loc[longdf[valvarstring]>0][[valvarstring,rcaval]].describe()"
   ]
  },
  {
   "cell_type": "code",
   "execution_count": 18,
   "metadata": {},
   "outputs": [
    {
     "data": {
      "image/png": "[encoded data removed]",
      "text/plain": [
       "<matplotlib.figure.Figure at 0xb7009278>"
      ]
     },
     "metadata": {},
     "output_type": "display_data"
    }
   ],
   "source": [
    "sns.distplot(longdf.loc[(longdf[\"year\"]==2010)].loc[longdf[valvarstring]>0][rcaval].values, kde=True, rug=True);"
   ]
  },
  {
   "cell_type": "code",
   "execution_count": 19,
   "metadata": {},
   "outputs": [],
   "source": [
    "x = longdf.loc[(longdf[\"year\"]==2010)][rcaval].values\n",
    "y = longdf.loc[(longdf[\"year\"]==2010)][valvarstring].values"
   ]
  },
  {
   "cell_type": "code",
   "execution_count": 20,
   "metadata": {},
   "outputs": [
    {
     "data": {
      "image/png": "[encoded data removed]",
      "text/plain": [
       "<matplotlib.figure.Figure at 0x2aecef28>"
      ]
     },
     "metadata": {},
     "output_type": "display_data"
    }
   ],
   "source": [
    "plt.semilogy(x, y, marker = '.', linestyle=\"\", markersize=0.5)\n",
    "plt.show()"
   ]
  },
  {
   "cell_type": "markdown",
   "metadata": {},
   "source": [
    "# Dropping countries and products"
   ]
  },
  {
   "cell_type": "code",
   "execution_count": 21,
   "metadata": {},
   "outputs": [
    {
     "name": "stdout",
     "output_type": "stream",
     "text": [
      "1416.0\n",
      "       export_value\n",
      "0.001  3.779596e+05\n",
      "0.010  1.428396e+07\n",
      "0.250  2.834290e+08\n",
      "0.500  1.160202e+09\n",
      "0.750  4.566949e+09\n",
      "0.990  8.282131e+10\n"
     ]
    }
   ],
   "source": [
    "colvals = longdf.groupby(by = [\"year\", colvarstring])[valtotalstring].sum().reset_index()\n",
    "colvals = colvals.drop(columns = [\"year\"])\n",
    "print(min(colvals.iloc[:,1]))\n",
    "colquants = colvals.quantile([0.001, 0.01, .25, .5, .75, 0.99])\n",
    "print(colquants)\n",
    "colq = colquants.iloc[0][0]"
   ]
  },
  {
   "cell_type": "code",
   "execution_count": 22,
   "metadata": {},
   "outputs": [
    {
     "data": {
      "text/plain": [
       "(13,)"
      ]
     },
     "execution_count": 22,
     "metadata": {},
     "output_type": "execute_result"
    }
   ],
   "source": [
    "products2drop = np.unique(colvals.query(\"export_value < @colq\")[colvarstring])\n",
    "products2drop.shape"
   ]
  },
  {
   "cell_type": "code",
   "execution_count": 23,
   "metadata": {},
   "outputs": [
    {
     "name": "stdout",
     "output_type": "stream",
     "text": [
      "       export_value\n",
      "0.005  7.870218e+03\n",
      "0.250  7.514956e+07\n",
      "0.500  7.504555e+08\n",
      "0.750  6.845936e+09\n"
     ]
    }
   ],
   "source": [
    "rowvals = longdf.groupby(by = [\"year\", rowvarstring])[valtotalstring].sum().reset_index()\n",
    "rowvals = rowvals.drop(columns = [\"year\"])\n",
    "rowquants = rowvals.quantile([0.005, .25, .5, .75])\n",
    "print(rowquants)\n",
    "rowq = rowquants.iloc[0][0]"
   ]
  },
  {
   "cell_type": "code",
   "execution_count": 24,
   "metadata": {},
   "outputs": [
    {
     "data": {
      "text/plain": [
       "(46,)"
      ]
     },
     "execution_count": 24,
     "metadata": {},
     "output_type": "execute_result"
    }
   ],
   "source": [
    "countries2drop = np.unique(rowvals.query(\"export_value < @colq\")[rowvarstring])\n",
    "countries2drop.shape"
   ]
  },
  {
   "cell_type": "code",
   "execution_count": 25,
   "metadata": {},
   "outputs": [],
   "source": [
    "#longdf_new = longdf.loc[(~( (longdf[rowtotalvar]<=rowquants[0.05]) | (longdf[coltotalvar]<=colquants[0.05]) ))]\n",
    "longdf_new = longdf.loc[(~(longdf[rowvarstring].isin(countries2drop) | longdf[colvarstring].isin(products2drop)))]"
   ]
  },
  {
   "cell_type": "code",
   "execution_count": 26,
   "metadata": {},
   "outputs": [
    {
     "data": {
      "text/html": [
       "<div>\n",
       "<style scoped>\n",
       "    .dataframe tbody tr th:only-of-type {\n",
       "        vertical-align: middle;\n",
       "    }\n",
       "\n",
       "    .dataframe tbody tr th {\n",
       "        vertical-align: top;\n",
       "    }\n",
       "\n",
       "    .dataframe thead th {\n",
       "        text-align: right;\n",
       "    }\n",
       "</style>\n",
       "<table border=\"1\" class=\"dataframe\">\n",
       "  <thead>\n",
       "    <tr style=\"text-align: right;\">\n",
       "      <th></th>\n",
       "      <th>year</th>\n",
       "      <th>location_name_short_en</th>\n",
       "      <th>location_code</th>\n",
       "      <th>sitc_product_code</th>\n",
       "      <th>export_value</th>\n",
       "      <th>export_rca</th>\n",
       "      <th>export_value_location_code_tot</th>\n",
       "      <th>export_value_sitc_product_code_tot</th>\n",
       "      <th>export_value_year_tot</th>\n",
       "      <th>constant</th>\n",
       "      <th>log_export_value</th>\n",
       "      <th>log_export_value_location_code_tot</th>\n",
       "      <th>log_export_value_sitc_product_code_tot</th>\n",
       "      <th>log_export_value_year_tot</th>\n",
       "      <th>rca_ols</th>\n",
       "      <th>mcp_ols</th>\n",
       "      <th>mcp_orig</th>\n",
       "    </tr>\n",
       "  </thead>\n",
       "  <tbody>\n",
       "    <tr>\n",
       "      <th>29</th>\n",
       "      <td>1988</td>\n",
       "      <td>Afghanistan</td>\n",
       "      <td>AFG</td>\n",
       "      <td>0011</td>\n",
       "      <td>0.0</td>\n",
       "      <td>0.0</td>\n",
       "      <td>1.571028e+08</td>\n",
       "      <td>3.416893e+09</td>\n",
       "      <td>2.674128e+12</td>\n",
       "      <td>1</td>\n",
       "      <td>0.0</td>\n",
       "      <td>18.872411</td>\n",
       "      <td>21.951997</td>\n",
       "      <td>28.614644</td>\n",
       "      <td>-5.806645</td>\n",
       "      <td>0</td>\n",
       "      <td>0</td>\n",
       "    </tr>\n",
       "    <tr>\n",
       "      <th>30</th>\n",
       "      <td>1989</td>\n",
       "      <td>Afghanistan</td>\n",
       "      <td>AFG</td>\n",
       "      <td>0011</td>\n",
       "      <td>0.0</td>\n",
       "      <td>0.0</td>\n",
       "      <td>1.367800e+08</td>\n",
       "      <td>3.569564e+09</td>\n",
       "      <td>2.926856e+12</td>\n",
       "      <td>1</td>\n",
       "      <td>0.0</td>\n",
       "      <td>18.733884</td>\n",
       "      <td>21.995709</td>\n",
       "      <td>28.704950</td>\n",
       "      <td>-5.561268</td>\n",
       "      <td>0</td>\n",
       "      <td>0</td>\n",
       "    </tr>\n",
       "    <tr>\n",
       "      <th>31</th>\n",
       "      <td>1990</td>\n",
       "      <td>Afghanistan</td>\n",
       "      <td>AFG</td>\n",
       "      <td>0011</td>\n",
       "      <td>0.0</td>\n",
       "      <td>0.0</td>\n",
       "      <td>1.319416e+08</td>\n",
       "      <td>3.862940e+09</td>\n",
       "      <td>3.323367e+12</td>\n",
       "      <td>1</td>\n",
       "      <td>0.0</td>\n",
       "      <td>18.697870</td>\n",
       "      <td>22.074694</td>\n",
       "      <td>28.831999</td>\n",
       "      <td>-5.450486</td>\n",
       "      <td>0</td>\n",
       "      <td>0</td>\n",
       "    </tr>\n",
       "    <tr>\n",
       "      <th>32</th>\n",
       "      <td>1991</td>\n",
       "      <td>Afghanistan</td>\n",
       "      <td>AFG</td>\n",
       "      <td>0011</td>\n",
       "      <td>0.0</td>\n",
       "      <td>0.0</td>\n",
       "      <td>1.087892e+08</td>\n",
       "      <td>3.896479e+09</td>\n",
       "      <td>3.408931e+12</td>\n",
       "      <td>1</td>\n",
       "      <td>0.0</td>\n",
       "      <td>18.504922</td>\n",
       "      <td>22.083339</td>\n",
       "      <td>28.857420</td>\n",
       "      <td>-5.169158</td>\n",
       "      <td>0</td>\n",
       "      <td>0</td>\n",
       "    </tr>\n",
       "    <tr>\n",
       "      <th>33</th>\n",
       "      <td>1992</td>\n",
       "      <td>Afghanistan</td>\n",
       "      <td>AFG</td>\n",
       "      <td>0011</td>\n",
       "      <td>0.0</td>\n",
       "      <td>0.0</td>\n",
       "      <td>7.909260e+07</td>\n",
       "      <td>4.541853e+09</td>\n",
       "      <td>3.722004e+12</td>\n",
       "      <td>1</td>\n",
       "      <td>0.0</td>\n",
       "      <td>18.186130</td>\n",
       "      <td>22.236601</td>\n",
       "      <td>28.945283</td>\n",
       "      <td>-4.805923</td>\n",
       "      <td>0</td>\n",
       "      <td>0</td>\n",
       "    </tr>\n",
       "  </tbody>\n",
       "</table>\n",
       "</div>"
      ],
      "text/plain": [
       "    year location_name_short_en location_code sitc_product_code  export_value  \\\n",
       "29  1988            Afghanistan           AFG              0011           0.0   \n",
       "30  1989            Afghanistan           AFG              0011           0.0   \n",
       "31  1990            Afghanistan           AFG              0011           0.0   \n",
       "32  1991            Afghanistan           AFG              0011           0.0   \n",
       "33  1992            Afghanistan           AFG              0011           0.0   \n",
       "\n",
       "    export_rca  export_value_location_code_tot  \\\n",
       "29         0.0                    1.571028e+08   \n",
       "30         0.0                    1.367800e+08   \n",
       "31         0.0                    1.319416e+08   \n",
       "32         0.0                    1.087892e+08   \n",
       "33         0.0                    7.909260e+07   \n",
       "\n",
       "    export_value_sitc_product_code_tot  export_value_year_tot  constant  \\\n",
       "29                        3.416893e+09           2.674128e+12         1   \n",
       "30                        3.569564e+09           2.926856e+12         1   \n",
       "31                        3.862940e+09           3.323367e+12         1   \n",
       "32                        3.896479e+09           3.408931e+12         1   \n",
       "33                        4.541853e+09           3.722004e+12         1   \n",
       "\n",
       "    log_export_value  log_export_value_location_code_tot  \\\n",
       "29               0.0                           18.872411   \n",
       "30               0.0                           18.733884   \n",
       "31               0.0                           18.697870   \n",
       "32               0.0                           18.504922   \n",
       "33               0.0                           18.186130   \n",
       "\n",
       "    log_export_value_sitc_product_code_tot  log_export_value_year_tot  \\\n",
       "29                               21.951997                  28.614644   \n",
       "30                               21.995709                  28.704950   \n",
       "31                               22.074694                  28.831999   \n",
       "32                               22.083339                  28.857420   \n",
       "33                               22.236601                  28.945283   \n",
       "\n",
       "     rca_ols  mcp_ols  mcp_orig  \n",
       "29 -5.806645        0         0  \n",
       "30 -5.561268        0         0  \n",
       "31 -5.450486        0         0  \n",
       "32 -5.169158        0         0  \n",
       "33 -4.805923        0         0  "
      ]
     },
     "execution_count": 26,
     "metadata": {},
     "output_type": "execute_result"
    }
   ],
   "source": [
    "longdf_new.head()"
   ]
  },
  {
   "cell_type": "code",
   "execution_count": 27,
   "metadata": {},
   "outputs": [],
   "source": [
    "longdf_new = longdf_new.drop(columns=[rowtotalvar, coltotalvar, totaltotalvar])\n",
    "# ---------------------\n",
    "longdf_new.loc[:,rowtotalvar] = pd.Series(longdf_new.groupby(by = [\"year\", rowvarstring])[valtotalstring].transform('sum'))\n",
    "longdf_new.loc[:,coltotalvar] = pd.Series(longdf_new.groupby(by = [\"year\", colvarstring])[valtotalstring].transform('sum'))\n",
    "longdf_new.loc[:,totaltotalvar] = pd.Series(longdf_new.groupby(by = [\"year\"])[valtotalstring].transform('sum'))\n"
   ]
  },
  {
   "cell_type": "code",
   "execution_count": 28,
   "metadata": {},
   "outputs": [
    {
     "name": "stdout",
     "output_type": "stream",
     "text": [
      "The number of rows erased was 1734657.\n"
     ]
    },
    {
     "data": {
      "text/plain": [
       "(6884294, 17)"
      ]
     },
     "execution_count": 28,
     "metadata": {},
     "output_type": "execute_result"
    }
   ],
   "source": [
    "longdf_new = longdf_new.loc[(~( (longdf_new[rowtotalvar]<=1000.0) | (longdf_new[coltotalvar]<=1000.0) ))]\n",
    "\n",
    "final_numrows = longdf_new.shape[0]\n",
    "\n",
    "print(\"The number of rows erased was {}.\".format(orig_numrows - final_numrows))\n",
    "longdf_new.shape"
   ]
  },
  {
   "cell_type": "code",
   "execution_count": 29,
   "metadata": {},
   "outputs": [
    {
     "data": {
      "text/html": [
       "<div>\n",
       "<style scoped>\n",
       "    .dataframe tbody tr th:only-of-type {\n",
       "        vertical-align: middle;\n",
       "    }\n",
       "\n",
       "    .dataframe tbody tr th {\n",
       "        vertical-align: top;\n",
       "    }\n",
       "\n",
       "    .dataframe thead th {\n",
       "        text-align: right;\n",
       "    }\n",
       "</style>\n",
       "<table border=\"1\" class=\"dataframe\">\n",
       "  <thead>\n",
       "    <tr style=\"text-align: right;\">\n",
       "      <th></th>\n",
       "      <th>year</th>\n",
       "      <th>location_name_short_en</th>\n",
       "      <th>location_code</th>\n",
       "      <th>sitc_product_code</th>\n",
       "      <th>export_value</th>\n",
       "      <th>export_rca</th>\n",
       "      <th>constant</th>\n",
       "      <th>log_export_value</th>\n",
       "      <th>log_export_value_location_code_tot</th>\n",
       "      <th>log_export_value_sitc_product_code_tot</th>\n",
       "      <th>log_export_value_year_tot</th>\n",
       "      <th>rca_ols</th>\n",
       "      <th>mcp_ols</th>\n",
       "      <th>mcp_orig</th>\n",
       "      <th>export_value_location_code_tot</th>\n",
       "      <th>export_value_sitc_product_code_tot</th>\n",
       "      <th>export_value_year_tot</th>\n",
       "    </tr>\n",
       "  </thead>\n",
       "  <tbody>\n",
       "    <tr>\n",
       "      <th>29</th>\n",
       "      <td>1988</td>\n",
       "      <td>Afghanistan</td>\n",
       "      <td>AFG</td>\n",
       "      <td>0011</td>\n",
       "      <td>0.0</td>\n",
       "      <td>0.0</td>\n",
       "      <td>1</td>\n",
       "      <td>0.0</td>\n",
       "      <td>18.872411</td>\n",
       "      <td>21.951997</td>\n",
       "      <td>28.614644</td>\n",
       "      <td>-5.806645</td>\n",
       "      <td>0</td>\n",
       "      <td>0</td>\n",
       "      <td>1.570270e+08</td>\n",
       "      <td>3.415292e+09</td>\n",
       "      <td>2.648809e+12</td>\n",
       "    </tr>\n",
       "    <tr>\n",
       "      <th>30</th>\n",
       "      <td>1989</td>\n",
       "      <td>Afghanistan</td>\n",
       "      <td>AFG</td>\n",
       "      <td>0011</td>\n",
       "      <td>0.0</td>\n",
       "      <td>0.0</td>\n",
       "      <td>1</td>\n",
       "      <td>0.0</td>\n",
       "      <td>18.733884</td>\n",
       "      <td>21.995709</td>\n",
       "      <td>28.704950</td>\n",
       "      <td>-5.561268</td>\n",
       "      <td>0</td>\n",
       "      <td>0</td>\n",
       "      <td>1.310941e+08</td>\n",
       "      <td>3.567501e+09</td>\n",
       "      <td>2.894499e+12</td>\n",
       "    </tr>\n",
       "    <tr>\n",
       "      <th>31</th>\n",
       "      <td>1990</td>\n",
       "      <td>Afghanistan</td>\n",
       "      <td>AFG</td>\n",
       "      <td>0011</td>\n",
       "      <td>0.0</td>\n",
       "      <td>0.0</td>\n",
       "      <td>1</td>\n",
       "      <td>0.0</td>\n",
       "      <td>18.697870</td>\n",
       "      <td>22.074694</td>\n",
       "      <td>28.831999</td>\n",
       "      <td>-5.450486</td>\n",
       "      <td>0</td>\n",
       "      <td>0</td>\n",
       "      <td>1.295643e+08</td>\n",
       "      <td>3.860479e+09</td>\n",
       "      <td>3.282786e+12</td>\n",
       "    </tr>\n",
       "    <tr>\n",
       "      <th>32</th>\n",
       "      <td>1991</td>\n",
       "      <td>Afghanistan</td>\n",
       "      <td>AFG</td>\n",
       "      <td>0011</td>\n",
       "      <td>0.0</td>\n",
       "      <td>0.0</td>\n",
       "      <td>1</td>\n",
       "      <td>0.0</td>\n",
       "      <td>18.504922</td>\n",
       "      <td>22.083339</td>\n",
       "      <td>28.857420</td>\n",
       "      <td>-5.169158</td>\n",
       "      <td>0</td>\n",
       "      <td>0</td>\n",
       "      <td>1.087336e+08</td>\n",
       "      <td>3.894368e+09</td>\n",
       "      <td>3.373826e+12</td>\n",
       "    </tr>\n",
       "    <tr>\n",
       "      <th>33</th>\n",
       "      <td>1992</td>\n",
       "      <td>Afghanistan</td>\n",
       "      <td>AFG</td>\n",
       "      <td>0011</td>\n",
       "      <td>0.0</td>\n",
       "      <td>0.0</td>\n",
       "      <td>1</td>\n",
       "      <td>0.0</td>\n",
       "      <td>18.186130</td>\n",
       "      <td>22.236601</td>\n",
       "      <td>28.945283</td>\n",
       "      <td>-4.805923</td>\n",
       "      <td>0</td>\n",
       "      <td>0</td>\n",
       "      <td>7.900159e+07</td>\n",
       "      <td>4.540637e+09</td>\n",
       "      <td>3.688189e+12</td>\n",
       "    </tr>\n",
       "  </tbody>\n",
       "</table>\n",
       "</div>"
      ],
      "text/plain": [
       "    year location_name_short_en location_code sitc_product_code  export_value  \\\n",
       "29  1988            Afghanistan           AFG              0011           0.0   \n",
       "30  1989            Afghanistan           AFG              0011           0.0   \n",
       "31  1990            Afghanistan           AFG              0011           0.0   \n",
       "32  1991            Afghanistan           AFG              0011           0.0   \n",
       "33  1992            Afghanistan           AFG              0011           0.0   \n",
       "\n",
       "    export_rca  constant  log_export_value  \\\n",
       "29         0.0         1               0.0   \n",
       "30         0.0         1               0.0   \n",
       "31         0.0         1               0.0   \n",
       "32         0.0         1               0.0   \n",
       "33         0.0         1               0.0   \n",
       "\n",
       "    log_export_value_location_code_tot  \\\n",
       "29                           18.872411   \n",
       "30                           18.733884   \n",
       "31                           18.697870   \n",
       "32                           18.504922   \n",
       "33                           18.186130   \n",
       "\n",
       "    log_export_value_sitc_product_code_tot  log_export_value_year_tot  \\\n",
       "29                               21.951997                  28.614644   \n",
       "30                               21.995709                  28.704950   \n",
       "31                               22.074694                  28.831999   \n",
       "32                               22.083339                  28.857420   \n",
       "33                               22.236601                  28.945283   \n",
       "\n",
       "     rca_ols  mcp_ols  mcp_orig  export_value_location_code_tot  \\\n",
       "29 -5.806645        0         0                    1.570270e+08   \n",
       "30 -5.561268        0         0                    1.310941e+08   \n",
       "31 -5.450486        0         0                    1.295643e+08   \n",
       "32 -5.169158        0         0                    1.087336e+08   \n",
       "33 -4.805923        0         0                    7.900159e+07   \n",
       "\n",
       "    export_value_sitc_product_code_tot  export_value_year_tot  \n",
       "29                        3.415292e+09           2.648809e+12  \n",
       "30                        3.567501e+09           2.894499e+12  \n",
       "31                        3.860479e+09           3.282786e+12  \n",
       "32                        3.894368e+09           3.373826e+12  \n",
       "33                        4.540637e+09           3.688189e+12  "
      ]
     },
     "execution_count": 29,
     "metadata": {},
     "output_type": "execute_result"
    }
   ],
   "source": [
    "longdf_new.head()"
   ]
  },
  {
   "cell_type": "markdown",
   "metadata": {},
   "source": [
    "# Keeping only to those countries and products present in all years"
   ]
  },
  {
   "cell_type": "code",
   "execution_count": 30,
   "metadata": {},
   "outputs": [],
   "source": [
    "# products that are in all years\n",
    "pcodes2keep = longdf_new[longdf_new['year']==2015][colvarstring].unique()\n",
    "\n",
    "# countries that are in all years\n",
    "ccodes2keep = longdf_new[longdf_new['year']==2015][rowvarstring].unique()\n",
    "\n",
    "for yr in longdf_new.year.unique():\n",
    "    pcodesyr = longdf_new[longdf_new['year']==yr][colvarstring].unique()\n",
    "    pcodes2keep = np.array(list(set(pcodes2keep) & set(pcodesyr)))\n",
    "    \n",
    "    ccodesyr = longdf_new[longdf_new['year']==yr][rowvarstring].unique()\n",
    "    ccodes2keep = np.array(list(set(ccodes2keep) & set(ccodesyr)))"
   ]
  },
  {
   "cell_type": "code",
   "execution_count": 31,
   "metadata": {},
   "outputs": [
    {
     "name": "stdout",
     "output_type": "stream",
     "text": [
      "(55, 131, 765)\n"
     ]
    }
   ],
   "source": [
    "longdf_new = longdf_new[longdf_new[rowvarstring].isin(ccodes2keep) & \n",
    "                      longdf_new[colvarstring].isin(pcodes2keep)]\n",
    "print((len(longdf_new.year.unique()), len(longdf_new[rowvarstring].unique()), len(longdf_new[colvarstring].unique())))"
   ]
  },
  {
   "cell_type": "markdown",
   "metadata": {},
   "source": [
    "# Wide matrix version"
   ]
  },
  {
   "cell_type": "code",
   "execution_count": 32,
   "metadata": {},
   "outputs": [],
   "source": [
    "widedf_rca = longdf_new.pivot_table(index=[\"year\", rowvarstring],\n",
    "                            columns=colvarstring,\n",
    "                            values=mcpval).fillna(value=0)\n"
   ]
  },
  {
   "cell_type": "markdown",
   "metadata": {},
   "source": [
    "# Submatrices"
   ]
  },
  {
   "cell_type": "code",
   "execution_count": null,
   "metadata": {},
   "outputs": [],
   "source": [
    "yr = 2015\n",
    "# subsetting to year\n",
    "widemat_yr = widedf_rca.query(\"year == @yr\")\n",
    "rsum = widemat_yr.sum(axis=1)\n",
    "csum = widemat_yr.sum(axis=0)\n",
    "irsum = np.argsort(-rsum)\n",
    "icsum = np.argsort(-csum)\n",
    "ctrylist_inorder = np.array(list(zip(*widemat_yr.index.values))[1])[irsum]\n",
    "prodlist_inorder = widemat_yr.columns.values[icsum]\n",
    "\n",
    "# reordering\n",
    "widemat_yr = widemat_yr.reset_index(level=[\"year\"], drop=True).loc[ctrylist_inorder, prodlist_inorder]\n"
   ]
  },
  {
   "cell_type": "code",
   "execution_count": null,
   "metadata": {},
   "outputs": [],
   "source": [
    "fig, ax0 = plt.subplots(figsize=(8,21))\n",
    "\n",
    "ax0.imshow(widemat_yr, aspect=3)\n",
    "ax0.set_title('Matrix of Presences')\n",
    "\n",
    "plt.tight_layout()\n",
    "plt.show()\n"
   ]
  },
  {
   "cell_type": "code",
   "execution_count": null,
   "metadata": {},
   "outputs": [],
   "source": [
    "jac_sim_prods = 1 - pairwise_distances(widemat_yr.T, metric = \"hamming\")\n",
    "jac_sim_prods = pd.DataFrame(jac_sim_prods, index=widemat_yr.columns, columns=widemat_yr.columns)\n",
    "\n",
    "jac_sim_ctrys = 1 - pairwise_distances(widemat_yr, metric = \"hamming\")\n",
    "jac_sim_ctrys = pd.DataFrame(jac_sim_ctrys, index=list(zip(*widemat_yr.index.values))[1], columns=list(zip(*widemat_yr.index.values))[1])\n",
    "\n",
    "\n",
    "fig, (ax1, ax2) = plt.subplots(ncols=2, figsize=(8,21))\n",
    "\n",
    "ax1.imshow(jac_sim_prods, aspect=1)\n",
    "ax1.set_title('Product-product similarity')\n",
    "\n",
    "ax2.imshow(jac_sim_ctrys, aspect=1)\n",
    "ax2.set_title('Country-country similarity')\n",
    "\n",
    "plt.tight_layout()\n",
    "plt.show()\n"
   ]
  },
  {
   "cell_type": "code",
   "execution_count": null,
   "metadata": {},
   "outputs": [],
   "source": [
    "Pmat = jac_sim_prods/jac_sim_prods.sum(axis=0)\n",
    "Cmat = (jac_sim_ctrys.T/jac_sim_ctrys.sum(axis=1)).T"
   ]
  },
  {
   "cell_type": "code",
   "execution_count": null,
   "metadata": {},
   "outputs": [],
   "source": [
    "(Pmat.sum(axis=0).describe(), Cmat.sum(axis=1).describe())"
   ]
  },
  {
   "cell_type": "code",
   "execution_count": null,
   "metadata": {},
   "outputs": [],
   "source": [
    "Mcpnext_pbased = pd.DataFrame(np.dot(widemat_yr, Pmat), index=widemat_yr.index, columns=widemat_yr.columns)\n",
    "Mcpnext_cbased = pd.DataFrame(np.dot(Cmat, widemat_yr), index=widemat_yr.index, columns=widemat_yr.columns)\n",
    "Mcpnext_multicpbased = pd.DataFrame(np.dot(Cmat, np.dot(widemat_yr, Pmat)), index=widemat_yr.index, columns=widemat_yr.columns)\n",
    "Mcpnext_addedcpbased = pd.DataFrame(Mcpnext_cbased + Mcpnext_pbased, index=widemat_yr.index, columns=widemat_yr.columns)\n",
    "\n",
    "\n",
    "Mcpnext_multicpbased_10 = pd.DataFrame(np.dot(np.linalg.matrix_power(Cmat, 10), np.dot(widemat_yr, np.linalg.matrix_power(Pmat, 10))), \n",
    "                                       index=widemat_yr.index, columns=widemat_yr.columns)\n",
    "\n"
   ]
  },
  {
   "cell_type": "code",
   "execution_count": null,
   "metadata": {},
   "outputs": [],
   "source": [
    "fig, (ax1, ax2) = plt.subplots(ncols=2, figsize=(21,8))\n",
    "\n",
    "ax1.imshow(Mcpnext_multicpbased, aspect=3)\n",
    "ax1.set_title('Matrix of Presences')\n",
    "\n",
    "ax2.imshow(Mcpnext_multicpbased_10, aspect=3)\n",
    "ax2.set_title('Matrix of Presences')\n",
    "\n",
    "plt.tight_layout()\n",
    "plt.show()\n"
   ]
  },
  {
   "cell_type": "code",
   "execution_count": null,
   "metadata": {},
   "outputs": [],
   "source": [
    "namefile = \"DM_0002_Matrices_of_presences\"\n",
    "\n",
    "fig = plt.figure(figsize=(21,10))\n",
    "\n",
    "ax1 = fig.add_subplot(231)\n",
    "ax1.imshow(widemat_yr, aspect=3)\n",
    "ax1.set_title('Matrix of Presences at time t', fontsize=25)\n",
    "ax1 = plt.tight_layout()\n",
    "\n",
    "ax2 = fig.add_subplot(232)\n",
    "ax2.imshow(Mcpnext_pbased, aspect=3)\n",
    "ax2.set_title('Product-based density (predicted at time t+1)', fontsize=25)\n",
    "ax2 = plt.tight_layout()\n",
    "\n",
    "ax3 = fig.add_subplot(233)\n",
    "ax3.imshow(Mcpnext_cbased, aspect=3)\n",
    "ax3.set_title('Country-based density (predicted at time t+1)', fontsize=25)\n",
    "ax3 = plt.tight_layout()\n",
    "\n",
    "ax4 = fig.add_subplot(234)\n",
    "ax4.imshow(Mcpnext_addedcpbased, aspect=3)\n",
    "ax4.set_title('C-P combined additively', fontsize=25)\n",
    "ax4 = plt.tight_layout()\n",
    "\n",
    "ax5 = fig.add_subplot(235)\n",
    "ax5.imshow(Mcpnext_multicpbased, aspect=3)\n",
    "ax5.set_title('C-P combined multiplicatively', fontsize=25)\n",
    "ax5 = plt.tight_layout()\n",
    "\n",
    "\n",
    "plt.show()\n",
    "\n",
    "fig.savefig(path_fig + namefile + \".png\")\n",
    "#fig.close();\n",
    "\n"
   ]
  },
  {
   "cell_type": "markdown",
   "metadata": {},
   "source": [
    "# Complexity Spaces"
   ]
  },
  {
   "cell_type": "code",
   "execution_count": null,
   "metadata": {},
   "outputs": [],
   "source": [
    "(Mc2c, Dc, leftVc, rightVc), (Mp2p, Dp, leftVp, rightVp) = EComm_0001_complexities.ECeigenvecs(widemat_yr)"
   ]
  },
  {
   "cell_type": "code",
   "execution_count": null,
   "metadata": {},
   "outputs": [],
   "source": [
    "fig = plt.figure(figsize=(10,10))\n",
    "plt.subplots_adjust(wspace=0.2)\n",
    "\n",
    "ax1 = fig.add_subplot(2,2,1)\n",
    "# histogram of country eigenvalues\n",
    "sns.distplot(Dc.real, bins=50, rug=True, kde=False, norm_hist=True, ax=ax1, axlabel=\"Eigenvalues\")\n",
    "sns.kdeplot(Dc.real, bw=.005, ax=ax1)\n",
    "ax1.set_ylabel(\"Statistical Frequency\")\n",
    "\n",
    "ax2 = fig.add_subplot(2,2,2)\n",
    "# histogram of country ECI's\n",
    "sns.distplot(leftVc[:,1].real, bins=40, rug=True, kde=False, norm_hist=True, ax=ax2, axlabel=\"2nd left-eigenvector (aka, ECI)\")\n",
    "sns.kdeplot(leftVc[:,1].real, bw=.01, ax=ax2)\n",
    "\n",
    "ax3 = fig.add_subplot(2,2,3)\n",
    "# histogram of country eigenvalues\n",
    "sns.distplot(Dp.real, bins=50, rug=True, kde=False, norm_hist=True, ax=ax3, axlabel=\"Eigenvalues\")\n",
    "sns.kdeplot(Dp.real, bw=.005, ax=ax3)\n",
    "ax3.set_ylabel(\"Statistical Frequency\")\n",
    "\n",
    "ax4 = fig.add_subplot(2,2,4)\n",
    "# histogram of country ECI's\n",
    "sns.distplot(leftVp[:,1].real, bins=40, rug=True, kde=False, norm_hist=True, ax=ax4, axlabel=\"2nd left-eigenvector (aka, PCI)\")\n",
    "sns.kdeplot(leftVp[:,1].real, bw=.01, ax=ax4)\n",
    "\n",
    "\n",
    "plt.show()\n"
   ]
  },
  {
   "cell_type": "code",
   "execution_count": null,
   "metadata": {},
   "outputs": [],
   "source": []
  }
 ],
 "metadata": {
  "kernelspec": {
   "display_name": "Python 3",
   "language": "python",
   "name": "python3"
  },
  "language_info": {
   "codemirror_mode": {
    "name": "ipython",
    "version": 3
   },
   "file_extension": ".py",
   "mimetype": "text/x-python",
   "name": "python",
   "nbconvert_exporter": "python",
   "pygments_lexer": "ipython3",
   "version": "3.6.6"
  }
 },
 "nbformat": 4,
 "nbformat_minor": 2
}
