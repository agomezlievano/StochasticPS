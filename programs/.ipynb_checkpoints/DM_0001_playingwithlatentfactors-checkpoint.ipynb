{
 "cells": [
  {
   "cell_type": "code",
   "execution_count": 1,
   "metadata": {},
   "outputs": [
    {
     "name": "stdout",
     "output_type": "stream",
     "text": [
      "['', 'C:\\\\Users\\\\agomez\\\\AppData\\\\Local\\\\Continuum\\\\Anaconda3\\\\python36.zip', 'C:\\\\Users\\\\agomez\\\\AppData\\\\Local\\\\Continuum\\\\Anaconda3\\\\DLLs', 'C:\\\\Users\\\\agomez\\\\AppData\\\\Local\\\\Continuum\\\\Anaconda3\\\\lib', 'C:\\\\Users\\\\agomez\\\\AppData\\\\Local\\\\Continuum\\\\Anaconda3', 'C:\\\\Users\\\\agomez\\\\AppData\\\\Local\\\\Continuum\\\\Anaconda3\\\\lib\\\\site-packages', 'C:\\\\Users\\\\agomez\\\\AppData\\\\Local\\\\Continuum\\\\Anaconda3\\\\lib\\\\site-packages\\\\win32', 'C:\\\\Users\\\\agomez\\\\AppData\\\\Local\\\\Continuum\\\\Anaconda3\\\\lib\\\\site-packages\\\\win32\\\\lib', 'C:\\\\Users\\\\agomez\\\\AppData\\\\Local\\\\Continuum\\\\Anaconda3\\\\lib\\\\site-packages\\\\Pythonwin', 'C:\\\\Users\\\\agomez\\\\AppData\\\\Local\\\\Continuum\\\\Anaconda3\\\\lib\\\\site-packages\\\\IPython\\\\extensions', 'C:\\\\Users\\\\agomez\\\\.ipython', 'C:\\\\Users\\\\agomez\\\\Dropbox\\\\Harvard\\\\LittleProjects\\\\StochasticPS\\\\programs\\\\']\n"
     ]
    }
   ],
   "source": [
    "%load_ext autoreload\n",
    "%autoreload 2\n",
    "%matplotlib inline\n",
    "\n",
    "import os\n",
    "import sys\n",
    "\n",
    "# Allow imports from parent directory \n",
    "# https://stackoverflow.com/questions/34478398/import-local-function-from-a-module-housed-in-another-directory-with-relative-im/35273613#35273613\n",
    "#module_path = os.path.abspath(os.path.join(os.pardir))\n",
    "module_path = 'C:\\\\Users\\\\agomez\\\\Dropbox\\\\Harvard\\\\LittleProjects\\\\StochasticPS\\\\programs\\\\'\n",
    "if module_path not in sys.path:\n",
    "    sys.path.append(module_path)\n",
    "print(sys.path)\n",
    "\n",
    "import time\n",
    "import datetime\n",
    "\n",
    "import pandas as pd\n",
    "import numpy as np\n",
    "import sympy as sym\n",
    "import scipy.stats\n",
    "from scipy.spatial import distance\n",
    "\n",
    "\n",
    "import matplotlib.pyplot as plt\n",
    "import seaborn as sns\n",
    "\n",
    "import itertools\n",
    "import collections\n",
    "from operator import itemgetter\n",
    "import warnings\n",
    "\n",
    "import networkx as nx\n",
    "\n",
    "from sklearn.preprocessing import StandardScaler, RobustScaler, FunctionTransformer\n",
    "from sklearn.decomposition import PCA, NMF\n",
    "from sklearn.pipeline import Pipeline\n",
    "from sklearn.metrics import mean_squared_error, mean_absolute_error\n",
    "\n",
    "from numpy.random import exponential, negative_binomial, randint, choice, binomial\n",
    "from random import shuffle\n",
    "\n",
    "import statsmodels.formula.api as smf\n",
    "from statsmodels.regression.linear_model import OLS\n",
    "from statsmodels.iolib.summary2 import summary_col\n",
    "\n",
    "plt.style.use('seaborn-white')\n",
    "plt.rc('font', family='serif', serif='Helvetica')\n",
    "plt.rc('text', usetex=True)\n",
    "plt.rc('xtick', labelsize=8)\n",
    "plt.rc('ytick', labelsize=8)\n",
    "plt.rc('axes', labelsize=16, linewidth=0.5)\n",
    "\n",
    "LETTERS = [\"A\", \"B\", \"C\", \"D\", \"E\", \"F\", \"G\", \"H\", \"I\", \"J\", \"K\", \"L\", \"M\", \"N\", \"O\", \"P\", \"Q\", \"R\", \"S\", \"T\", \"U\", \"V\", \"W\", \"X\", \"Y\", \"Z\"]\n"
   ]
  },
  {
   "cell_type": "code",
   "execution_count": null,
   "metadata": {},
   "outputs": [],
   "source": [
    "# "
   ]
  }
 ],
 "metadata": {
  "kernelspec": {
   "display_name": "Python 3",
   "language": "python",
   "name": "python3"
  },
  "language_info": {
   "codemirror_mode": {
    "name": "ipython",
    "version": 3
   },
   "file_extension": ".py",
   "mimetype": "text/x-python",
   "name": "python",
   "nbconvert_exporter": "python",
   "pygments_lexer": "ipython3",
   "version": "3.6.6"
  }
 },
 "nbformat": 4,
 "nbformat_minor": 2
}
