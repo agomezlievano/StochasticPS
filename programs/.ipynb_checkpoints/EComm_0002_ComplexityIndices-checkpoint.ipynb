{
 "cells": [
  {
   "cell_type": "code",
   "execution_count": 3,
   "metadata": {
    "collapsed": false
   },
   "outputs": [
    {
     "name": "stdout",
     "output_type": "stream",
     "text": [
      "The autoreload extension is already loaded. To reload it, use:\n",
      "  %reload_ext autoreload\n"
     ]
    }
   ],
   "source": [
    "%load_ext autoreload\n",
    "%autoreload 2\n",
    "%matplotlib inline\n",
    "\n",
    "import os\n",
    "import sys\n"
   ]
  },
  {
   "cell_type": "code",
   "execution_count": 4,
   "metadata": {
    "collapsed": false
   },
   "outputs": [
    {
     "data": {
      "text/plain": [
       "['',\n",
       " 'C:\\\\Users\\\\agomez\\\\AppData\\\\Local\\\\Continuum\\\\Anaconda3\\\\python36.zip',\n",
       " 'C:\\\\Users\\\\agomez\\\\AppData\\\\Local\\\\Continuum\\\\Anaconda3\\\\DLLs',\n",
       " 'C:\\\\Users\\\\agomez\\\\AppData\\\\Local\\\\Continuum\\\\Anaconda3\\\\lib',\n",
       " 'C:\\\\Users\\\\agomez\\\\AppData\\\\Local\\\\Continuum\\\\Anaconda3',\n",
       " 'C:\\\\Users\\\\agomez\\\\AppData\\\\Local\\\\Continuum\\\\Anaconda3\\\\lib\\\\site-packages',\n",
       " 'C:\\\\Users\\\\agomez\\\\AppData\\\\Local\\\\Continuum\\\\Anaconda3\\\\lib\\\\site-packages\\\\Sphinx-1.5.1-py3.6.egg',\n",
       " 'C:\\\\Users\\\\agomez\\\\AppData\\\\Local\\\\Continuum\\\\Anaconda3\\\\lib\\\\site-packages\\\\win32',\n",
       " 'C:\\\\Users\\\\agomez\\\\AppData\\\\Local\\\\Continuum\\\\Anaconda3\\\\lib\\\\site-packages\\\\win32\\\\lib',\n",
       " 'C:\\\\Users\\\\agomez\\\\AppData\\\\Local\\\\Continuum\\\\Anaconda3\\\\lib\\\\site-packages\\\\Pythonwin',\n",
       " 'C:\\\\Users\\\\agomez\\\\AppData\\\\Local\\\\Continuum\\\\Anaconda3\\\\lib\\\\site-packages\\\\setuptools-27.2.0-py3.6.egg',\n",
       " 'C:\\\\Users\\\\agomez\\\\AppData\\\\Local\\\\Continuum\\\\Anaconda3\\\\lib\\\\site-packages\\\\IPython\\\\extensions',\n",
       " 'C:\\\\Users\\\\agomez\\\\.ipython']"
      ]
     },
     "execution_count": 4,
     "metadata": {},
     "output_type": "execute_result"
    }
   ],
   "source": [
    "sys.path"
   ]
  },
  {
   "cell_type": "code",
   "execution_count": 5,
   "metadata": {
    "collapsed": true
   },
   "outputs": [],
   "source": [
    "# Allow imports from parent directory \n",
    "# https://stackoverflow.com/questions/34478398/import-local-function-from-a-module-housed-in-another-directory-with-relative-im/35273613#35273613\n",
    "#module_path = os.path.abspath(os.path.join(os.pardir))\n",
    "module_path = 'C:\\\\Users\\\\agomez\\\\Dropbox\\\\Identify laws and dynamical systems in socioeconomic data\\\\Code\\\\'\n",
    "if module_path not in sys.path:\n",
    "    sys.path.append(module_path)"
   ]
  },
  {
   "cell_type": "code",
   "execution_count": 6,
   "metadata": {
    "collapsed": false
   },
   "outputs": [
    {
     "data": {
      "text/plain": [
       "['',\n",
       " 'C:\\\\Users\\\\agomez\\\\AppData\\\\Local\\\\Continuum\\\\Anaconda3\\\\python36.zip',\n",
       " 'C:\\\\Users\\\\agomez\\\\AppData\\\\Local\\\\Continuum\\\\Anaconda3\\\\DLLs',\n",
       " 'C:\\\\Users\\\\agomez\\\\AppData\\\\Local\\\\Continuum\\\\Anaconda3\\\\lib',\n",
       " 'C:\\\\Users\\\\agomez\\\\AppData\\\\Local\\\\Continuum\\\\Anaconda3',\n",
       " 'C:\\\\Users\\\\agomez\\\\AppData\\\\Local\\\\Continuum\\\\Anaconda3\\\\lib\\\\site-packages',\n",
       " 'C:\\\\Users\\\\agomez\\\\AppData\\\\Local\\\\Continuum\\\\Anaconda3\\\\lib\\\\site-packages\\\\Sphinx-1.5.1-py3.6.egg',\n",
       " 'C:\\\\Users\\\\agomez\\\\AppData\\\\Local\\\\Continuum\\\\Anaconda3\\\\lib\\\\site-packages\\\\win32',\n",
       " 'C:\\\\Users\\\\agomez\\\\AppData\\\\Local\\\\Continuum\\\\Anaconda3\\\\lib\\\\site-packages\\\\win32\\\\lib',\n",
       " 'C:\\\\Users\\\\agomez\\\\AppData\\\\Local\\\\Continuum\\\\Anaconda3\\\\lib\\\\site-packages\\\\Pythonwin',\n",
       " 'C:\\\\Users\\\\agomez\\\\AppData\\\\Local\\\\Continuum\\\\Anaconda3\\\\lib\\\\site-packages\\\\setuptools-27.2.0-py3.6.egg',\n",
       " 'C:\\\\Users\\\\agomez\\\\AppData\\\\Local\\\\Continuum\\\\Anaconda3\\\\lib\\\\site-packages\\\\IPython\\\\extensions',\n",
       " 'C:\\\\Users\\\\agomez\\\\.ipython',\n",
       " 'C:\\\\Users\\\\agomez\\\\Dropbox\\\\Identify laws and dynamical systems in socioeconomic data\\\\Code\\\\']"
      ]
     },
     "execution_count": 6,
     "metadata": {},
     "output_type": "execute_result"
    }
   ],
   "source": [
    "sys.path"
   ]
  },
  {
   "cell_type": "code",
   "execution_count": 7,
   "metadata": {
    "collapsed": false
   },
   "outputs": [
    {
     "name": "stdout",
     "output_type": "stream",
     "text": [
      "Created directory ..\\..\\World_Bank_Data\n"
     ]
    }
   ],
   "source": [
    "import time\n",
    "import datetime\n",
    "import pickle\n",
    "import pandas as pd\n",
    "import numpy as np\n",
    "import sympy as sym\n",
    "import matplotlib.pyplot as plt\n",
    "import matplotlib as mpl\n",
    "from mpl_toolkits.axes_grid1 import make_axes_locatable\n",
    "from mpl_toolkits.mplot3d import Axes3D\n",
    "import seaborn as sns\n",
    "import itertools\n",
    "import collections\n",
    "import warnings\n",
    "import IPython.display\n",
    "import scipy.stats\n",
    "import networkx as nx\n",
    "from operator import itemgetter\n",
    "\n",
    "plt.style.use('seaborn-white')\n",
    "plt.rc('font', family='serif', serif='Times')\n",
    "plt.rc('text', usetex=True)\n",
    "plt.rc('xtick', labelsize=8)\n",
    "plt.rc('ytick', labelsize=8)\n",
    "plt.rc('axes', labelsize=9)\n",
    "\n",
    "\n",
    "\n",
    "import prepare_data.load_exports_panel_data as loadexp\n",
    "from prepare_data.download_World_Bank_data import convert_country_data_to_dict\n",
    "from prepare_data.download_World_Bank_data import load_gdp_per_capita_data\n",
    "from prepare_data.download_World_Bank_data import download_gdp_per_capita_data\n",
    "from prepare_data.download_World_Bank_data import load_gdp_per_capita_nonmissing\n",
    "\n",
    "\n",
    "from sklearn.preprocessing import StandardScaler, RobustScaler, FunctionTransformer, PolynomialFeatures\n",
    "from sklearn.decomposition import PCA, NMF\n",
    "from sklearn.pipeline import Pipeline\n",
    "from sklearn.linear_model import LinearRegression\n",
    "from sklearn.metrics import mean_squared_error, mean_absolute_error\n",
    "\n",
    "#import ML_SINDy_999_funcs as myfuncs\n",
    "\n",
    "# Load data\n",
    "gdp_per_capita_nonmissing = load_gdp_per_capita_nonmissing()\n",
    "\n"
   ]
  },
  {
   "cell_type": "markdown",
   "metadata": {},
   "source": [
    "### Load GDPpc"
   ]
  },
  {
   "cell_type": "code",
   "execution_count": 8,
   "metadata": {
    "collapsed": true
   },
   "outputs": [],
   "source": [
    "def append_gdppc(df):\n",
    "    df_copy = df.copy()\n",
    "    if 'product_code' in df_copy.columns.names:\n",
    "        df_copy.columns = [int(product_code) for product_code in df.columns.get_level_values('product_code')]\n",
    "    result = pd.merge(\n",
    "        df_copy.reset_index(),\n",
    "        gdp_per_capita_nonmissing.apply(np.log).reset_index(),\n",
    "        on=['country_code', 'year']).set_index(['country_code', 'year'])\n",
    "    result.name = df.name\n",
    "    result.filename = df.filename\n",
    "    return result"
   ]
  },
  {
   "cell_type": "code",
   "execution_count": 9,
   "metadata": {
    "collapsed": true
   },
   "outputs": [],
   "source": [
    "def list_wrap(x):\n",
    "    if isinstance(x, str):\n",
    "        return [x]\n",
    "    try:\n",
    "        return list(x)\n",
    "    except TypeError:\n",
    "        return [x]"
   ]
  },
  {
   "cell_type": "code",
   "execution_count": 10,
   "metadata": {
    "collapsed": true
   },
   "outputs": [],
   "source": [
    "class PCAsomeColumns(PCA):\n",
    "    \"\"\"PCA that doesn't transform some columns. Works only with DataFrames.\"\"\"\n",
    "    def __init__(self, exclude_columns=None, n_components=None,\n",
    "                 copy=True, whiten=False, svd_solver='auto', tol=0.0,\n",
    "                 iterated_power='auto', random_state=None):\n",
    "        if exclude_columns is None:\n",
    "            self.exclude_columns = []\n",
    "        else:\n",
    "            self.exclude_columns = list_wrap(exclude_columns)\n",
    "        super(PCAsomeColumns, self).__init__(\n",
    "            n_components=n_components,\n",
    "            copy=True, whiten=whiten,\n",
    "            svd_solver=svd_solver, tol=tol,\n",
    "            iterated_power=iterated_power,\n",
    "            random_state=random_state)\n",
    "    \n",
    "    def fit(self, X, y=None):\n",
    "        self.include_columns = [\n",
    "            c for c in X.columns if c not in self.exclude_columns]\n",
    "        super(PCAsomeColumns, self).fit(X.loc[:, self.include_columns])\n",
    "    \n",
    "    def transform(self, X, y=None):\n",
    "        X_transformed = super(PCAsomeColumns, self).transform(\n",
    "            X.loc[:, self.include_columns], y)\n",
    "        transformed_by_pca = pd.DataFrame(\n",
    "            X_transformed,\n",
    "            columns=['component_{}'.format(i) for i in range(self.n_components)],\n",
    "            index=X.index)\n",
    "        result = pd.concat(\n",
    "            [transformed_by_pca, X.loc[:, self.exclude_columns]], axis=1)\n",
    "        return result\n",
    "\n",
    "    def inverse_transform(self, X, y=None):\n",
    "        X_inverse_transformed = super(PCAsomeColumns, self).inverse_transform(\n",
    "            X.loc[:, [c for c in X.columns if c not in self.exclude_columns]], y)\n",
    "        X_inverse_transformed = pd.DataFrame(\n",
    "            X_inverse_transformed,\n",
    "            columns=self.include_columns,\n",
    "            index=X.index)\n",
    "        result = pd.concat(\n",
    "            [X_inverse_transformed, X.loc[:, self.exclude_columns]], axis=1)\n",
    "        return result"
   ]
  },
  {
   "cell_type": "code",
   "execution_count": 11,
   "metadata": {
    "collapsed": false
   },
   "outputs": [
    {
     "name": "stdout",
     "output_type": "stream",
     "text": [
      "Created directory ..\\..\\Population Data\n",
      "0 countries with population < 1250000.0 in year 2008: set()\n",
      "\n",
      "If countries and products were removed now, this is the number of products with zero global exports in at least one year: 9\n",
      "\n",
      "\n",
      "\n",
      "77 countries with exports < 1000000000.0 in year 2008: {'MWI', 'SHN', 'PLW', 'MNP', 'ESH', 'ANT', 'ABW', 'GNB', 'STP', 'ASM', 'CYM', 'FLK', 'FSM', 'MDV', 'SLB', 'SWZ', 'SPM', 'TUV', 'TCA', 'WLF', 'BFA', 'AIA', 'SGS', 'ATA', 'GRD', 'BDI', 'ERI', 'MYT', 'PSE', 'MNE', 'GUY', 'BTN', 'LCA', 'PCN', 'VCT', 'RWA', 'BRB', 'SLE', 'ATG', 'CXR', 'NER', 'FJI', 'DJI', 'VAT', 'BEN', 'NIU', 'KNA', 'AND', 'CAF', 'SOM', 'PYF', 'TLS', 'COK', 'AFG', 'MSR', 'TKL', 'UMI', 'NPL', 'CCK', 'GMB', 'SYC', 'GUM', 'NFK', 'GRL', 'LSO', 'KIR', 'TON', 'VUT', 'HTI', 'NRU', 'SMR', 'CPV', 'COM', 'BVT', 'DMA', 'WSM', 'GIB'}\n",
      "\n",
      "If countries and products were removed now, this is the number of products with zero global exports in at least one year: 9\n",
      "\n",
      "\n",
      "\n",
      "Excluding countries: IRQ, TCD, AFG\n",
      "\n",
      "If countries and products were removed now, this is the number of products with zero global exports in at least one year: 9\n",
      "\n",
      "\n",
      "\n",
      "95 products not exported by > 0.8 countries in some year: {'2114', '6831', '2614', '5723', '6642', '2876', '0452', '5323', '6646', '2519', '6674', '0482', '7911', '6880', '6112', '4233', '2860', '3344', '7912', '2655', '7913', '6591', '2741', '6647', '6641', '2714', '4245', '2234', '3510', '2231', '5241', '0451', '7213', '0742', '6713', '2872', '2654', '5161', '7112', '7187', '4236', '2671', '7914', '6793', '2652', '2659', '8941', '9110', '3224', '2223', '7524', '2518', '5623', '7933', '3231', '2232', '2634', '3343', '2685', '6645', '5163', '2814', '5223', '2235', '5249', '1122', '6727', '0019', '3342', '6632', '8821', '3415', '6281', '3341', '6912', '6872', '2512', '6546', '2613', '7931', '2816', '4244', '0115', '0223', '6832', '3223', '2712', '2742', '2516', '6113', '4241', '0013', '7521', '6121', '6344'}\n",
      "\n",
      "If countries and products were removed now, this is the number of products with zero global exports in at least one year: 1\n",
      "\n",
      "\n",
      "\n",
      "42 countries with zero export value for > 0.95 products in some year: {'PLW', 'MNP', 'ESH', 'COM', 'GNB', 'STP', 'FLK', 'FSM', 'GNQ', 'GUF', 'MDV', 'YEM', 'TUV', 'TCA', 'WLF', 'AIA', 'BDI', 'ERI', 'BTN', 'PCN', 'RWA', 'CXR', 'HMD', 'NIU', 'MTQ', 'MHL', 'PYF', 'TLS', 'COK', 'UMI', 'CCK', 'SYC', 'NFK', 'KIR', 'TON', 'VUT', 'NRU', 'MNG', 'CPV', 'LCA', 'BVT', 'WSM'}\n",
      "\n",
      "If countries and products were removed now, this is the number of products with zero global exports in at least one year: 1\n",
      "\n",
      "\n",
      "\n",
      "41 products with global exports < 10000000.0 in some year: {'2114', '8941', '0019', '9110', '3415', '6912', '3224', '5723', '2711', '7524', '8981', '6642', '6122', '5323', '6546', '6646', '7213', '2232', '6674', '0742', '2634', '7931', '6880', '3343', '2654', '6349', '6112', '3223', '7187', '5223', '2239', '2235', '6422', '2655', '5249', '4311', '2652', '1122', '2659', '6121', '2714'}\n",
      "\n",
      "If countries and products were removed now, this is the number of products with zero global exports in at least one year: 1\n",
      "\n",
      "\n",
      "\n",
      "min_market_share_quantile == 0, so no products will be removed due to having too small a market share in year 2008\n",
      "\n",
      "If countries and products were removed now, this is the number of products with zero global exports in at least one year: 1\n",
      "\n",
      "\n",
      "\n",
      "In the end, 102 products are removed: {'2114', '6831', '2614', '5723', '2711', '8981', '6642', '6122', '2876', '0452', '5323', '6646', '2519', '6674', '0482', '7911', '6880', '6349', '6112', '4233', '2860', '3344', '7912', '2655', '7913', '6591', '2741', '6647', '6641', '2714', '4245', '2234', '3510', '2231', '5241', '0451', '7213', '0742', '6713', '2872', '2654', '5161', '7112', '7187', '4236', '2671', '7914', '6422', '6793', '4311', '2652', '2659', '8941', '9110', '3224', '2223', '7524', '2518', '5623', '7933', '3231', '2232', '2634', '3343', '2685', '6645', '5163', '2814', '5223', '2235', '5249', '1122', '6727', '0019', '3342', '6632', '8821', '3415', '6281', '3341', '6912', '6872', '2512', '6546', '2613', '7931', '2816', '4244', '0115', '0223', '6832', '3223', '2712', '2742', '2516', '2239', '6113', '4241', '0013', '7521', '6121', '6344'}\n",
      "\n",
      "And 86 countries are removed: {'PLW', 'SWZ', 'CYM', 'MDV', 'TUV', 'BFA', 'ATA', 'ERI', 'PSE', 'GUY', 'BRB', 'ATG', 'FJI', 'PYF', 'MSR', 'UMI', 'NPL', 'GUM', 'SMR', 'MNG', 'IRQ', 'GIB', 'MNP', 'ESH', 'GNB', 'STP', 'SPM', 'AIA', 'SGS', 'TCD', 'MYT', 'VCT', 'PCN', 'HMD', 'KNA', 'SOM', 'MHL', 'NFK', 'VUT', 'HTI', 'CPV', 'COM', 'MWI', 'SHN', 'GUF', 'YEM', 'SLB', 'WLF', 'MNE', 'BTN', 'SLE', 'VAT', 'BEN', 'MTQ', 'COK', 'TKL', 'CCK', 'GMB', 'LSO', 'KIR', 'TON', 'NRU', 'LCA', 'TLS', 'BVT', 'WSM', 'ANT', 'ABW', 'ASM', 'FLK', 'FSM', 'TCA', 'GRD', 'BDI', 'RWA', 'CXR', 'NER', 'DJI', 'NIU', 'AND', 'CAF', 'AFG', 'SYC', 'GRL', 'DMA', 'GNQ'}\n",
      "\n",
      "1659628 (21.1%) of (country, product) pairs have export_value < 5000 and so will get rounded to 0.0\n",
      "\n",
      "The resulting data has 145 countries, 680 products, and 6794 (country, year) pairs\n"
     ]
    }
   ],
   "source": [
    "# Load data\n",
    "#country_names = loadexp.load_SITC_country_names_from_MIT_Atlas()\n",
    "#product_names = loadexp.load_SITC_product_names_from_MIT_Atlas()\n",
    "#exports_sitc = loadexp.load_SITC_rev2_exports_from_MIT_Atlas()\n",
    "\n",
    "# Filter data using Hidalgo filters\n",
    "#exports_long_hidalgo_filter = loadexp.hidalgo_filter(exports_sitc)\n",
    "\n",
    "\n",
    "exports_long = loadexp.load_exports_long()\n",
    "exports_long_hidalgo_filter = loadexp.hidalgo_filter(exports_long)\n",
    "\n"
   ]
  },
  {
   "cell_type": "code",
   "execution_count": 49,
   "metadata": {
    "collapsed": false
   },
   "outputs": [],
   "source": [
    "#exports_long = loadexp.load_exports_long()\n",
    "\n",
    "#exports_long_hidalgo_filter = loadexp.hidalgo_filter(exports_long, verbose=1)\n"
   ]
  },
  {
   "cell_type": "code",
   "execution_count": 13,
   "metadata": {
    "collapsed": false
   },
   "outputs": [
    {
     "data": {
      "text/plain": [
       "(231, 782)"
      ]
     },
     "execution_count": 13,
     "metadata": {},
     "output_type": "execute_result"
    }
   ],
   "source": [
    "(len(exports_long.country_code.unique()), len(exports_long.product_code.unique()))"
   ]
  },
  {
   "cell_type": "code",
   "execution_count": 14,
   "metadata": {
    "collapsed": false
   },
   "outputs": [
    {
     "data": {
      "text/plain": [
       "(145, 680)"
      ]
     },
     "execution_count": 14,
     "metadata": {},
     "output_type": "execute_result"
    }
   ],
   "source": [
    "(len(exports_long_hidalgo_filter.country_code.unique()), len(exports_long_hidalgo_filter.product_code.unique()))"
   ]
  },
  {
   "cell_type": "code",
   "execution_count": 15,
   "metadata": {
    "collapsed": false
   },
   "outputs": [
    {
     "data": {
      "text/plain": [
       "(4634006, 10)"
      ]
     },
     "execution_count": 15,
     "metadata": {},
     "output_type": "execute_result"
    }
   ],
   "source": [
    "exports_long_hidalgo_filter.shape"
   ]
  },
  {
   "cell_type": "code",
   "execution_count": 16,
   "metadata": {
    "collapsed": false
   },
   "outputs": [
    {
     "data": {
      "text/html": [
       "<div>\n",
       "<table border=\"1\" class=\"dataframe\">\n",
       "  <thead>\n",
       "    <tr style=\"text-align: right;\">\n",
       "      <th></th>\n",
       "      <th>country_code</th>\n",
       "      <th>product_code</th>\n",
       "      <th>year</th>\n",
       "      <th>export_value</th>\n",
       "      <th>export_rca</th>\n",
       "      <th>country_group</th>\n",
       "      <th>country_name</th>\n",
       "      <th>product_group</th>\n",
       "      <th>product_name</th>\n",
       "      <th>export_value_is_zero</th>\n",
       "    </tr>\n",
       "  </thead>\n",
       "  <tbody>\n",
       "    <tr>\n",
       "      <th>0</th>\n",
       "      <td>ARG</td>\n",
       "      <td>0011</td>\n",
       "      <td>1962</td>\n",
       "      <td>28100000.0</td>\n",
       "      <td>5.875502</td>\n",
       "      <td>Americas</td>\n",
       "      <td>Argentina</td>\n",
       "      <td>81.0</td>\n",
       "      <td>Live bovines</td>\n",
       "      <td>False</td>\n",
       "    </tr>\n",
       "    <tr>\n",
       "      <th>2</th>\n",
       "      <td>PNG</td>\n",
       "      <td>0011</td>\n",
       "      <td>1962</td>\n",
       "      <td>0.0</td>\n",
       "      <td>0.000000</td>\n",
       "      <td>Oceania</td>\n",
       "      <td>Papua New Guinea</td>\n",
       "      <td>81.0</td>\n",
       "      <td>Live bovines</td>\n",
       "      <td>True</td>\n",
       "    </tr>\n",
       "    <tr>\n",
       "      <th>4</th>\n",
       "      <td>MDG</td>\n",
       "      <td>0011</td>\n",
       "      <td>1962</td>\n",
       "      <td>339762.0</td>\n",
       "      <td>0.996669</td>\n",
       "      <td>Africa</td>\n",
       "      <td>Madagascar</td>\n",
       "      <td>81.0</td>\n",
       "      <td>Live bovines</td>\n",
       "      <td>False</td>\n",
       "    </tr>\n",
       "    <tr>\n",
       "      <th>5</th>\n",
       "      <td>COG</td>\n",
       "      <td>0011</td>\n",
       "      <td>1962</td>\n",
       "      <td>0.0</td>\n",
       "      <td>0.000000</td>\n",
       "      <td>Africa</td>\n",
       "      <td>Congo</td>\n",
       "      <td>81.0</td>\n",
       "      <td>Live bovines</td>\n",
       "      <td>True</td>\n",
       "    </tr>\n",
       "    <tr>\n",
       "      <th>6</th>\n",
       "      <td>ZWE</td>\n",
       "      <td>0011</td>\n",
       "      <td>1962</td>\n",
       "      <td>0.0</td>\n",
       "      <td>0.000000</td>\n",
       "      <td>Africa</td>\n",
       "      <td>Zimbabwe</td>\n",
       "      <td>81.0</td>\n",
       "      <td>Live bovines</td>\n",
       "      <td>True</td>\n",
       "    </tr>\n",
       "  </tbody>\n",
       "</table>\n",
       "</div>"
      ],
      "text/plain": [
       "  country_code product_code  year  export_value  export_rca country_group  \\\n",
       "0          ARG         0011  1962    28100000.0    5.875502      Americas   \n",
       "2          PNG         0011  1962           0.0    0.000000       Oceania   \n",
       "4          MDG         0011  1962      339762.0    0.996669        Africa   \n",
       "5          COG         0011  1962           0.0    0.000000        Africa   \n",
       "6          ZWE         0011  1962           0.0    0.000000        Africa   \n",
       "\n",
       "       country_name  product_group  product_name export_value_is_zero  \n",
       "0         Argentina           81.0  Live bovines                False  \n",
       "2  Papua New Guinea           81.0  Live bovines                 True  \n",
       "4        Madagascar           81.0  Live bovines                False  \n",
       "5             Congo           81.0  Live bovines                 True  \n",
       "6          Zimbabwe           81.0  Live bovines                 True  "
      ]
     },
     "execution_count": 16,
     "metadata": {},
     "output_type": "execute_result"
    }
   ],
   "source": [
    "exports_long_hidalgo_filter.head()"
   ]
  },
  {
   "cell_type": "markdown",
   "metadata": {},
   "source": [
    "## Question: If, for each country, for each year, I compute a complexity-type measure, and then I calculate the PCA of the country vector including all products, how many components do I get?"
   ]
  },
  {
   "cell_type": "code",
   "execution_count": 7,
   "metadata": {
    "collapsed": true
   },
   "outputs": [],
   "source": [
    "Xcp_df = pd.pivot_table(exports_long_hidalgo_filter,\n",
    "                        index = ['country_code','year'], \n",
    "                        columns = 'product_code', \n",
    "                        values = 'export_value',\n",
    "                        fill_value=0.0)\n",
    "Xcp_df.name = 'ExportValues'\n",
    "Xcp_df.filename = 'None'"
   ]
  },
  {
   "cell_type": "code",
   "execution_count": 99,
   "metadata": {
    "collapsed": false
   },
   "outputs": [
    {
     "data": {
      "text/html": [
       "<div>\n",
       "<table border=\"1\" class=\"dataframe\">\n",
       "  <thead>\n",
       "    <tr style=\"text-align: right;\">\n",
       "      <th></th>\n",
       "      <th>product_code</th>\n",
       "      <th>11</th>\n",
       "      <th>12</th>\n",
       "      <th>13</th>\n",
       "      <th>14</th>\n",
       "      <th>15</th>\n",
       "      <th>111</th>\n",
       "      <th>112</th>\n",
       "      <th>113</th>\n",
       "      <th>114</th>\n",
       "      <th>115</th>\n",
       "      <th>...</th>\n",
       "      <th>8993</th>\n",
       "      <th>8994</th>\n",
       "      <th>8996</th>\n",
       "      <th>8997</th>\n",
       "      <th>8998</th>\n",
       "      <th>8999</th>\n",
       "      <th>9310</th>\n",
       "      <th>9410</th>\n",
       "      <th>9510</th>\n",
       "      <th>9610</th>\n",
       "    </tr>\n",
       "    <tr>\n",
       "      <th>country_code</th>\n",
       "      <th>year</th>\n",
       "      <th></th>\n",
       "      <th></th>\n",
       "      <th></th>\n",
       "      <th></th>\n",
       "      <th></th>\n",
       "      <th></th>\n",
       "      <th></th>\n",
       "      <th></th>\n",
       "      <th></th>\n",
       "      <th></th>\n",
       "      <th></th>\n",
       "      <th></th>\n",
       "      <th></th>\n",
       "      <th></th>\n",
       "      <th></th>\n",
       "      <th></th>\n",
       "      <th></th>\n",
       "      <th></th>\n",
       "      <th></th>\n",
       "      <th></th>\n",
       "      <th></th>\n",
       "    </tr>\n",
       "  </thead>\n",
       "  <tbody>\n",
       "    <tr>\n",
       "      <th rowspan=\"5\" valign=\"top\">AGO</th>\n",
       "      <th>1962</th>\n",
       "      <td>0</td>\n",
       "      <td>0</td>\n",
       "      <td>0</td>\n",
       "      <td>0</td>\n",
       "      <td>0</td>\n",
       "      <td>139000</td>\n",
       "      <td>0</td>\n",
       "      <td>0</td>\n",
       "      <td>0</td>\n",
       "      <td>0</td>\n",
       "      <td>...</td>\n",
       "      <td>11000</td>\n",
       "      <td>0</td>\n",
       "      <td>0</td>\n",
       "      <td>0</td>\n",
       "      <td>0</td>\n",
       "      <td>0</td>\n",
       "      <td>81000</td>\n",
       "      <td>5000</td>\n",
       "      <td>0</td>\n",
       "      <td>0</td>\n",
       "    </tr>\n",
       "    <tr>\n",
       "      <th>1963</th>\n",
       "      <td>0</td>\n",
       "      <td>0</td>\n",
       "      <td>0</td>\n",
       "      <td>0</td>\n",
       "      <td>0</td>\n",
       "      <td>550000</td>\n",
       "      <td>0</td>\n",
       "      <td>0</td>\n",
       "      <td>0</td>\n",
       "      <td>0</td>\n",
       "      <td>...</td>\n",
       "      <td>0</td>\n",
       "      <td>0</td>\n",
       "      <td>0</td>\n",
       "      <td>0</td>\n",
       "      <td>0</td>\n",
       "      <td>0</td>\n",
       "      <td>95000</td>\n",
       "      <td>0</td>\n",
       "      <td>0</td>\n",
       "      <td>0</td>\n",
       "    </tr>\n",
       "    <tr>\n",
       "      <th>1964</th>\n",
       "      <td>0</td>\n",
       "      <td>0</td>\n",
       "      <td>0</td>\n",
       "      <td>0</td>\n",
       "      <td>0</td>\n",
       "      <td>572000</td>\n",
       "      <td>0</td>\n",
       "      <td>0</td>\n",
       "      <td>0</td>\n",
       "      <td>0</td>\n",
       "      <td>...</td>\n",
       "      <td>0</td>\n",
       "      <td>0</td>\n",
       "      <td>0</td>\n",
       "      <td>0</td>\n",
       "      <td>0</td>\n",
       "      <td>0</td>\n",
       "      <td>52000</td>\n",
       "      <td>0</td>\n",
       "      <td>0</td>\n",
       "      <td>0</td>\n",
       "    </tr>\n",
       "    <tr>\n",
       "      <th>1965</th>\n",
       "      <td>0</td>\n",
       "      <td>0</td>\n",
       "      <td>0</td>\n",
       "      <td>0</td>\n",
       "      <td>0</td>\n",
       "      <td>899000</td>\n",
       "      <td>0</td>\n",
       "      <td>0</td>\n",
       "      <td>11000</td>\n",
       "      <td>0</td>\n",
       "      <td>...</td>\n",
       "      <td>0</td>\n",
       "      <td>0</td>\n",
       "      <td>0</td>\n",
       "      <td>0</td>\n",
       "      <td>0</td>\n",
       "      <td>0</td>\n",
       "      <td>142000</td>\n",
       "      <td>0</td>\n",
       "      <td>0</td>\n",
       "      <td>0</td>\n",
       "    </tr>\n",
       "    <tr>\n",
       "      <th>1966</th>\n",
       "      <td>0</td>\n",
       "      <td>0</td>\n",
       "      <td>0</td>\n",
       "      <td>0</td>\n",
       "      <td>0</td>\n",
       "      <td>1090000</td>\n",
       "      <td>0</td>\n",
       "      <td>0</td>\n",
       "      <td>0</td>\n",
       "      <td>0</td>\n",
       "      <td>...</td>\n",
       "      <td>0</td>\n",
       "      <td>0</td>\n",
       "      <td>0</td>\n",
       "      <td>0</td>\n",
       "      <td>0</td>\n",
       "      <td>0</td>\n",
       "      <td>106000</td>\n",
       "      <td>15000</td>\n",
       "      <td>0</td>\n",
       "      <td>0</td>\n",
       "    </tr>\n",
       "  </tbody>\n",
       "</table>\n",
       "<p>5 rows × 709 columns</p>\n",
       "</div>"
      ],
      "text/plain": [
       "product_code       11    12    13    14    15       111   112   113    114   \\\n",
       "country_code year                                                             \n",
       "AGO          1962     0     0     0     0     0   139000     0     0      0   \n",
       "             1963     0     0     0     0     0   550000     0     0      0   \n",
       "             1964     0     0     0     0     0   572000     0     0      0   \n",
       "             1965     0     0     0     0     0   899000     0     0  11000   \n",
       "             1966     0     0     0     0     0  1090000     0     0      0   \n",
       "\n",
       "product_code       115   ...    8993  8994  8996  8997  8998  8999    9310  \\\n",
       "country_code year        ...                                                 \n",
       "AGO          1962     0  ...   11000     0     0     0     0     0   81000   \n",
       "             1963     0  ...       0     0     0     0     0     0   95000   \n",
       "             1964     0  ...       0     0     0     0     0     0   52000   \n",
       "             1965     0  ...       0     0     0     0     0     0  142000   \n",
       "             1966     0  ...       0     0     0     0     0     0  106000   \n",
       "\n",
       "product_code        9410  9510  9610  \n",
       "country_code year                     \n",
       "AGO          1962   5000     0     0  \n",
       "             1963      0     0     0  \n",
       "             1964      0     0     0  \n",
       "             1965      0     0     0  \n",
       "             1966  15000     0     0  \n",
       "\n",
       "[5 rows x 709 columns]"
      ]
     },
     "execution_count": 99,
     "metadata": {},
     "output_type": "execute_result"
    }
   ],
   "source": [
    "Xcp_df.head()"
   ]
  },
  {
   "cell_type": "code",
   "execution_count": 100,
   "metadata": {
    "collapsed": false
   },
   "outputs": [
    {
     "data": {
      "text/html": [
       "<div>\n",
       "<table border=\"1\" class=\"dataframe\">\n",
       "  <thead>\n",
       "    <tr style=\"text-align: right;\">\n",
       "      <th></th>\n",
       "      <th>product_code</th>\n",
       "      <th>11</th>\n",
       "      <th>12</th>\n",
       "      <th>13</th>\n",
       "      <th>14</th>\n",
       "      <th>15</th>\n",
       "      <th>111</th>\n",
       "      <th>112</th>\n",
       "      <th>113</th>\n",
       "      <th>114</th>\n",
       "      <th>115</th>\n",
       "      <th>...</th>\n",
       "      <th>8993</th>\n",
       "      <th>8994</th>\n",
       "      <th>8996</th>\n",
       "      <th>8997</th>\n",
       "      <th>8998</th>\n",
       "      <th>8999</th>\n",
       "      <th>9310</th>\n",
       "      <th>9410</th>\n",
       "      <th>9510</th>\n",
       "      <th>9610</th>\n",
       "    </tr>\n",
       "    <tr>\n",
       "      <th>country_code</th>\n",
       "      <th>year</th>\n",
       "      <th></th>\n",
       "      <th></th>\n",
       "      <th></th>\n",
       "      <th></th>\n",
       "      <th></th>\n",
       "      <th></th>\n",
       "      <th></th>\n",
       "      <th></th>\n",
       "      <th></th>\n",
       "      <th></th>\n",
       "      <th></th>\n",
       "      <th></th>\n",
       "      <th></th>\n",
       "      <th></th>\n",
       "      <th></th>\n",
       "      <th></th>\n",
       "      <th></th>\n",
       "      <th></th>\n",
       "      <th></th>\n",
       "      <th></th>\n",
       "      <th></th>\n",
       "    </tr>\n",
       "  </thead>\n",
       "  <tbody>\n",
       "    <tr>\n",
       "      <th>AGO</th>\n",
       "      <th>1962</th>\n",
       "      <td>0</td>\n",
       "      <td>0</td>\n",
       "      <td>0</td>\n",
       "      <td>0</td>\n",
       "      <td>0</td>\n",
       "      <td>139000</td>\n",
       "      <td>0</td>\n",
       "      <td>0</td>\n",
       "      <td>0</td>\n",
       "      <td>0</td>\n",
       "      <td>...</td>\n",
       "      <td>11000</td>\n",
       "      <td>0</td>\n",
       "      <td>0</td>\n",
       "      <td>0</td>\n",
       "      <td>0</td>\n",
       "      <td>0</td>\n",
       "      <td>81000</td>\n",
       "      <td>5000</td>\n",
       "      <td>0</td>\n",
       "      <td>0</td>\n",
       "    </tr>\n",
       "    <tr>\n",
       "      <th>ALB</th>\n",
       "      <th>1962</th>\n",
       "      <td>0</td>\n",
       "      <td>0</td>\n",
       "      <td>0</td>\n",
       "      <td>0</td>\n",
       "      <td>0</td>\n",
       "      <td>0</td>\n",
       "      <td>0</td>\n",
       "      <td>0</td>\n",
       "      <td>0</td>\n",
       "      <td>0</td>\n",
       "      <td>...</td>\n",
       "      <td>21000</td>\n",
       "      <td>0</td>\n",
       "      <td>0</td>\n",
       "      <td>0</td>\n",
       "      <td>0</td>\n",
       "      <td>0</td>\n",
       "      <td>0</td>\n",
       "      <td>0</td>\n",
       "      <td>0</td>\n",
       "      <td>0</td>\n",
       "    </tr>\n",
       "    <tr>\n",
       "      <th>ARE</th>\n",
       "      <th>1962</th>\n",
       "      <td>0</td>\n",
       "      <td>0</td>\n",
       "      <td>0</td>\n",
       "      <td>0</td>\n",
       "      <td>0</td>\n",
       "      <td>0</td>\n",
       "      <td>0</td>\n",
       "      <td>0</td>\n",
       "      <td>0</td>\n",
       "      <td>0</td>\n",
       "      <td>...</td>\n",
       "      <td>0</td>\n",
       "      <td>0</td>\n",
       "      <td>0</td>\n",
       "      <td>0</td>\n",
       "      <td>0</td>\n",
       "      <td>0</td>\n",
       "      <td>0</td>\n",
       "      <td>0</td>\n",
       "      <td>0</td>\n",
       "      <td>0</td>\n",
       "    </tr>\n",
       "    <tr>\n",
       "      <th>ARG</th>\n",
       "      <th>1962</th>\n",
       "      <td>31225000</td>\n",
       "      <td>196000</td>\n",
       "      <td>33000</td>\n",
       "      <td>0</td>\n",
       "      <td>1312000</td>\n",
       "      <td>161662000</td>\n",
       "      <td>12860000</td>\n",
       "      <td>2004000</td>\n",
       "      <td>78000</td>\n",
       "      <td>7173000</td>\n",
       "      <td>...</td>\n",
       "      <td>27000</td>\n",
       "      <td>0</td>\n",
       "      <td>0</td>\n",
       "      <td>13000</td>\n",
       "      <td>0</td>\n",
       "      <td>23000</td>\n",
       "      <td>2535000</td>\n",
       "      <td>88000</td>\n",
       "      <td>5000</td>\n",
       "      <td>0</td>\n",
       "    </tr>\n",
       "    <tr>\n",
       "      <th>AUS</th>\n",
       "      <th>1962</th>\n",
       "      <td>1286000</td>\n",
       "      <td>2600000</td>\n",
       "      <td>26000</td>\n",
       "      <td>375000</td>\n",
       "      <td>837000</td>\n",
       "      <td>164298000</td>\n",
       "      <td>31156000</td>\n",
       "      <td>205000</td>\n",
       "      <td>6000</td>\n",
       "      <td>0</td>\n",
       "      <td>...</td>\n",
       "      <td>16000</td>\n",
       "      <td>10000</td>\n",
       "      <td>23000</td>\n",
       "      <td>28000</td>\n",
       "      <td>10000</td>\n",
       "      <td>343000</td>\n",
       "      <td>5523000</td>\n",
       "      <td>199000</td>\n",
       "      <td>1665000</td>\n",
       "      <td>0</td>\n",
       "    </tr>\n",
       "  </tbody>\n",
       "</table>\n",
       "<p>5 rows × 709 columns</p>\n",
       "</div>"
      ],
      "text/plain": [
       "product_code           11       12     13      14       15         111   \\\n",
       "country_code year                                                         \n",
       "AGO          1962         0        0      0       0        0     139000   \n",
       "ALB          1962         0        0      0       0        0          0   \n",
       "ARE          1962         0        0      0       0        0          0   \n",
       "ARG          1962  31225000   196000  33000       0  1312000  161662000   \n",
       "AUS          1962   1286000  2600000  26000  375000   837000  164298000   \n",
       "\n",
       "product_code           112      113    114      115   ...    8993   8994  \\\n",
       "country_code year                                     ...                  \n",
       "AGO          1962         0        0      0        0  ...   11000      0   \n",
       "ALB          1962         0        0      0        0  ...   21000      0   \n",
       "ARE          1962         0        0      0        0  ...       0      0   \n",
       "ARG          1962  12860000  2004000  78000  7173000  ...   27000      0   \n",
       "AUS          1962  31156000   205000   6000        0  ...   16000  10000   \n",
       "\n",
       "product_code        8996   8997   8998    8999     9310    9410     9510  9610  \n",
       "country_code year                                                               \n",
       "AGO          1962      0      0      0       0    81000    5000        0     0  \n",
       "ALB          1962      0      0      0       0        0       0        0     0  \n",
       "ARE          1962      0      0      0       0        0       0        0     0  \n",
       "ARG          1962      0  13000      0   23000  2535000   88000     5000     0  \n",
       "AUS          1962  23000  28000  10000  343000  5523000  199000  1665000     0  \n",
       "\n",
       "[5 rows x 709 columns]"
      ]
     },
     "execution_count": 100,
     "metadata": {},
     "output_type": "execute_result"
    }
   ],
   "source": [
    "Xcp_df.query('year==1962').head()"
   ]
  },
  {
   "cell_type": "code",
   "execution_count": 86,
   "metadata": {
    "collapsed": false
   },
   "outputs": [
    {
     "data": {
      "text/plain": [
       "(127, 709)"
      ]
     },
     "execution_count": 86,
     "metadata": {},
     "output_type": "execute_result"
    }
   ],
   "source": [
    "Xcp_df.query('year==2010').shape"
   ]
  },
  {
   "cell_type": "code",
   "execution_count": 8,
   "metadata": {
    "collapsed": false
   },
   "outputs": [],
   "source": [
    "yr = 2010\n",
    "indices = list(map(itemgetter(0), Xcp_df.query('year=={:d}'.format(yr)).index.values))\n",
    "cols = list(Xcp_df.query('year=={:d}'.format(yr)).columns.values)"
   ]
  },
  {
   "cell_type": "code",
   "execution_count": null,
   "metadata": {
    "collapsed": true
   },
   "outputs": [],
   "source": []
  },
  {
   "cell_type": "code",
   "execution_count": 9,
   "metadata": {
    "collapsed": false
   },
   "outputs": [],
   "source": [
    "newXcp = pd.DataFrame(data=Xcp_df.query('year==2010').values, index=list(indices), columns=cols)\n",
    "newXcp.index.name = 'country_code'\n",
    "newXcp.columns.name = 'product_code'\n"
   ]
  },
  {
   "cell_type": "code",
   "execution_count": 108,
   "metadata": {
    "collapsed": false
   },
   "outputs": [
    {
     "data": {
      "text/html": [
       "<div>\n",
       "<table border=\"1\" class=\"dataframe\">\n",
       "  <thead>\n",
       "    <tr style=\"text-align: right;\">\n",
       "      <th>product_code</th>\n",
       "      <th>11.0</th>\n",
       "      <th>12.0</th>\n",
       "      <th>14.0</th>\n",
       "      <th>15.0</th>\n",
       "      <th>111.0</th>\n",
       "      <th>112.0</th>\n",
       "      <th>113.0</th>\n",
       "      <th>114.0</th>\n",
       "      <th>116.0</th>\n",
       "      <th>118.0</th>\n",
       "      <th>...</th>\n",
       "      <th>8994.0</th>\n",
       "      <th>8996.0</th>\n",
       "      <th>8997.0</th>\n",
       "      <th>8998.0</th>\n",
       "      <th>8999.0</th>\n",
       "      <th>9310.0</th>\n",
       "      <th>9410.0</th>\n",
       "      <th>9510.0</th>\n",
       "      <th>9610.0</th>\n",
       "      <th>9710.0</th>\n",
       "    </tr>\n",
       "    <tr>\n",
       "      <th>country_code</th>\n",
       "      <th></th>\n",
       "      <th></th>\n",
       "      <th></th>\n",
       "      <th></th>\n",
       "      <th></th>\n",
       "      <th></th>\n",
       "      <th></th>\n",
       "      <th></th>\n",
       "      <th></th>\n",
       "      <th></th>\n",
       "      <th></th>\n",
       "      <th></th>\n",
       "      <th></th>\n",
       "      <th></th>\n",
       "      <th></th>\n",
       "      <th></th>\n",
       "      <th></th>\n",
       "      <th></th>\n",
       "      <th></th>\n",
       "      <th></th>\n",
       "      <th></th>\n",
       "    </tr>\n",
       "  </thead>\n",
       "  <tbody>\n",
       "    <tr>\n",
       "      <th>AGO</th>\n",
       "      <td>0</td>\n",
       "      <td>0</td>\n",
       "      <td>0</td>\n",
       "      <td>0</td>\n",
       "      <td>0</td>\n",
       "      <td>0</td>\n",
       "      <td>0</td>\n",
       "      <td>0</td>\n",
       "      <td>0</td>\n",
       "      <td>0</td>\n",
       "      <td>...</td>\n",
       "      <td>0</td>\n",
       "      <td>0</td>\n",
       "      <td>15910</td>\n",
       "      <td>242117</td>\n",
       "      <td>0</td>\n",
       "      <td>10600000</td>\n",
       "      <td>0</td>\n",
       "      <td>0</td>\n",
       "      <td>0</td>\n",
       "      <td>0</td>\n",
       "    </tr>\n",
       "    <tr>\n",
       "      <th>ALB</th>\n",
       "      <td>0</td>\n",
       "      <td>0</td>\n",
       "      <td>0</td>\n",
       "      <td>0</td>\n",
       "      <td>0</td>\n",
       "      <td>0</td>\n",
       "      <td>0</td>\n",
       "      <td>0</td>\n",
       "      <td>574589</td>\n",
       "      <td>1228488</td>\n",
       "      <td>...</td>\n",
       "      <td>27909</td>\n",
       "      <td>536645</td>\n",
       "      <td>14378</td>\n",
       "      <td>83827</td>\n",
       "      <td>83347</td>\n",
       "      <td>7552363</td>\n",
       "      <td>706721</td>\n",
       "      <td>599766</td>\n",
       "      <td>0</td>\n",
       "      <td>1336793</td>\n",
       "    </tr>\n",
       "    <tr>\n",
       "      <th>ARE</th>\n",
       "      <td>851982</td>\n",
       "      <td>2331864</td>\n",
       "      <td>691507</td>\n",
       "      <td>70300000</td>\n",
       "      <td>89700000</td>\n",
       "      <td>12600000</td>\n",
       "      <td>907229</td>\n",
       "      <td>53900000</td>\n",
       "      <td>118574</td>\n",
       "      <td>464907</td>\n",
       "      <td>...</td>\n",
       "      <td>4065222</td>\n",
       "      <td>11700000</td>\n",
       "      <td>17700000</td>\n",
       "      <td>12000000</td>\n",
       "      <td>15800000</td>\n",
       "      <td>1140000000</td>\n",
       "      <td>20200000</td>\n",
       "      <td>10900000</td>\n",
       "      <td>4945109</td>\n",
       "      <td>10000000000</td>\n",
       "    </tr>\n",
       "    <tr>\n",
       "      <th>ARG</th>\n",
       "      <td>1658141</td>\n",
       "      <td>195492</td>\n",
       "      <td>912249</td>\n",
       "      <td>26800000</td>\n",
       "      <td>1040000000</td>\n",
       "      <td>35300000</td>\n",
       "      <td>458892</td>\n",
       "      <td>401000000</td>\n",
       "      <td>130000000</td>\n",
       "      <td>12300000</td>\n",
       "      <td>...</td>\n",
       "      <td>309406</td>\n",
       "      <td>14900000</td>\n",
       "      <td>4169253</td>\n",
       "      <td>9122005</td>\n",
       "      <td>2144361</td>\n",
       "      <td>159000000</td>\n",
       "      <td>1330043</td>\n",
       "      <td>14900000</td>\n",
       "      <td>5697</td>\n",
       "      <td>2010000000</td>\n",
       "    </tr>\n",
       "    <tr>\n",
       "      <th>ARM</th>\n",
       "      <td>0</td>\n",
       "      <td>23400000</td>\n",
       "      <td>414368</td>\n",
       "      <td>0</td>\n",
       "      <td>42293</td>\n",
       "      <td>0</td>\n",
       "      <td>0</td>\n",
       "      <td>0</td>\n",
       "      <td>0</td>\n",
       "      <td>0</td>\n",
       "      <td>...</td>\n",
       "      <td>53816</td>\n",
       "      <td>7314</td>\n",
       "      <td>10534</td>\n",
       "      <td>0</td>\n",
       "      <td>0</td>\n",
       "      <td>20300000</td>\n",
       "      <td>8736</td>\n",
       "      <td>92530</td>\n",
       "      <td>0</td>\n",
       "      <td>34000000</td>\n",
       "    </tr>\n",
       "  </tbody>\n",
       "</table>\n",
       "<p>5 rows × 679 columns</p>\n",
       "</div>"
      ],
      "text/plain": [
       "product_code   11.0      12.0    14.0      15.0        111.0     112.0   \\\n",
       "country_code                                                              \n",
       "AGO                 0         0       0         0           0         0   \n",
       "ALB                 0         0       0         0           0         0   \n",
       "ARE            851982   2331864  691507  70300000    89700000  12600000   \n",
       "ARG           1658141    195492  912249  26800000  1040000000  35300000   \n",
       "ARM                 0  23400000  414368         0       42293         0   \n",
       "\n",
       "product_code  113.0      114.0      116.0     118.0      ...        8994.0  \\\n",
       "country_code                                             ...                 \n",
       "AGO                0          0          0         0     ...             0   \n",
       "ALB                0          0     574589   1228488     ...         27909   \n",
       "ARE           907229   53900000     118574    464907     ...       4065222   \n",
       "ARG           458892  401000000  130000000  12300000     ...        309406   \n",
       "ARM                0          0          0         0     ...         53816   \n",
       "\n",
       "product_code    8996.0    8997.0    8998.0    8999.0      9310.0    9410.0  \\\n",
       "country_code                                                                 \n",
       "AGO                  0     15910    242117         0    10600000         0   \n",
       "ALB             536645     14378     83827     83347     7552363    706721   \n",
       "ARE           11700000  17700000  12000000  15800000  1140000000  20200000   \n",
       "ARG           14900000   4169253   9122005   2144361   159000000   1330043   \n",
       "ARM               7314     10534         0         0    20300000      8736   \n",
       "\n",
       "product_code    9510.0   9610.0       9710.0  \n",
       "country_code                                  \n",
       "AGO                  0        0            0  \n",
       "ALB             599766        0      1336793  \n",
       "ARE           10900000  4945109  10000000000  \n",
       "ARG           14900000     5697   2010000000  \n",
       "ARM              92530        0     34000000  \n",
       "\n",
       "[5 rows x 679 columns]"
      ]
     },
     "execution_count": 108,
     "metadata": {},
     "output_type": "execute_result"
    }
   ],
   "source": [
    "newXcp.head()"
   ]
  },
  {
   "cell_type": "code",
   "execution_count": 10,
   "metadata": {
    "collapsed": false
   },
   "outputs": [],
   "source": [
    "rca = myfuncs.RCAcalculate(newXcp+0.0)"
   ]
  },
  {
   "cell_type": "code",
   "execution_count": 11,
   "metadata": {
    "collapsed": false
   },
   "outputs": [],
   "source": [
    "mcp = myfuncs.McpCalculate(np.array(rca), threshold=1.0)"
   ]
  },
  {
   "cell_type": "code",
   "execution_count": 12,
   "metadata": {
    "collapsed": false
   },
   "outputs": [
    {
     "data": {
      "text/plain": [
       "array([[ 0.,  0.,  0., ...,  0.,  0.,  0.],\n",
       "       [ 0.,  0.,  0., ...,  0.,  0.,  0.],\n",
       "       [ 0.,  0.,  0., ...,  0.,  0.,  1.],\n",
       "       ..., \n",
       "       [ 0.,  0.,  0., ...,  1.,  1.,  1.],\n",
       "       [ 0.,  0.,  0., ...,  0.,  0.,  0.],\n",
       "       [ 0.,  0.,  1., ...,  0.,  0.,  1.]])"
      ]
     },
     "execution_count": 12,
     "metadata": {},
     "output_type": "execute_result"
    }
   ],
   "source": [
    "mcp"
   ]
  },
  {
   "cell_type": "code",
   "execution_count": 13,
   "metadata": {
    "collapsed": false
   },
   "outputs": [
    {
     "data": {
      "text/plain": [
       "array([   3.,  107.,   81.,  136.,   71.,   88.,  250.,   18.,  244.,\n",
       "         62.,  218.,  169.,  128.,   59.,  136.,   70.,  163.,  156.,\n",
       "         84.,  264.,   49.,   35.,   60.,   19.,   89.,   61.,   38.,\n",
       "        215.,  295.,  217.,  105.,   17.,   60.,  166.,  302.,  202.,\n",
       "         62.,  167.,  277.,   14.,  203.,   79.,   71.,   23.,  208.,\n",
       "        134.,  163.,   92.,  203.,  171.,  168.,  247.,   75.,   44.,\n",
       "        142.,  318.,   69.,  122.,  204.,   41.,  140.,   92.,   58.,\n",
       "        126.,   13.,   68.,  161.,   16.,    9.,  117.,  220.,  187.,\n",
       "        102.,  120.,  140.,  106.,  117.,  132.,   31.,   67.,   43.,\n",
       "         17.,  117.,   68.,   20.,   73.,  252.,   74.,  134.,   38.,\n",
       "        126.,  119.,  110.,  102.,   28.,  236.,  241.,   66.,   19.,\n",
       "        190.,   69.,   22.,   25.,  102.,  114.,  115.,  211.,  154.,\n",
       "        210.,  212.,  124.,   69.,  182.,   43.,   32.,   26.,  145.,\n",
       "        241.,  100.,   90.,  162.,  115.,  292.,   81.,   22.,  154.,\n",
       "        143.,   41.,   80.])"
      ]
     },
     "execution_count": 13,
     "metadata": {},
     "output_type": "execute_result"
    }
   ],
   "source": [
    "np.sum(mcp, axis=1)"
   ]
  },
  {
   "cell_type": "code",
   "execution_count": 14,
   "metadata": {
    "collapsed": false
   },
   "outputs": [
    {
     "data": {
      "text/plain": [
       "(0, 0)"
      ]
     },
     "execution_count": 14,
     "metadata": {},
     "output_type": "execute_result"
    }
   ],
   "source": [
    "(np.sum(np.sum(mcp, axis=0)==0), np.sum(np.sum(newXcp, axis=0)==0))"
   ]
  },
  {
   "cell_type": "code",
   "execution_count": 15,
   "metadata": {
    "collapsed": false
   },
   "outputs": [
    {
     "data": {
      "text/plain": [
       "(129, 679)"
      ]
     },
     "execution_count": 15,
     "metadata": {},
     "output_type": "execute_result"
    }
   ],
   "source": [
    "mcp.shape"
   ]
  },
  {
   "cell_type": "code",
   "execution_count": 16,
   "metadata": {
    "collapsed": false
   },
   "outputs": [
    {
     "ename": "TypeError",
     "evalue": "only length-1 arrays can be converted to Python scalars",
     "output_type": "error",
     "traceback": [
      "\u001b[0;31m---------------------------------------------------------------------------\u001b[0m",
      "\u001b[0;31mAttributeError\u001b[0m                            Traceback (most recent call last)",
      "\u001b[0;32mC:\\Users\\agomez\\AppData\\Local\\Continuum\\Anaconda3\\lib\\site-packages\\numpy\\core\\fromnumeric.py\u001b[0m in \u001b[0;36mamax\u001b[0;34m(a, axis, out, keepdims)\u001b[0m\n\u001b[1;32m   2289\u001b[0m         \u001b[1;32mtry\u001b[0m\u001b[1;33m:\u001b[0m\u001b[1;33m\u001b[0m\u001b[0m\n\u001b[0;32m-> 2290\u001b[0;31m             \u001b[0mamax\u001b[0m \u001b[1;33m=\u001b[0m \u001b[0ma\u001b[0m\u001b[1;33m.\u001b[0m\u001b[0mmax\u001b[0m\u001b[1;33m\u001b[0m\u001b[0m\n\u001b[0m\u001b[1;32m   2291\u001b[0m         \u001b[1;32mexcept\u001b[0m \u001b[0mAttributeError\u001b[0m\u001b[1;33m:\u001b[0m\u001b[1;33m\u001b[0m\u001b[0m\n",
      "\u001b[0;31mAttributeError\u001b[0m: 'float' object has no attribute 'max'",
      "\nDuring handling of the above exception, another exception occurred:\n",
      "\u001b[0;31mTypeError\u001b[0m                                 Traceback (most recent call last)",
      "\u001b[0;32m<ipython-input-16-609df54a2419>\u001b[0m in \u001b[0;36m<module>\u001b[0;34m()\u001b[0m\n\u001b[1;32m      1\u001b[0m \u001b[0meci\u001b[0m \u001b[1;33m=\u001b[0m \u001b[0mmyfuncs\u001b[0m\u001b[1;33m.\u001b[0m\u001b[0mECIcalculate\u001b[0m\u001b[1;33m(\u001b[0m\u001b[0mmcp\u001b[0m\u001b[1;33m)\u001b[0m\u001b[1;33m\u001b[0m\u001b[0m\n\u001b[0;32m----> 2\u001b[0;31m \u001b[0mfitness\u001b[0m \u001b[1;33m=\u001b[0m \u001b[0mmyfuncs\u001b[0m\u001b[1;33m.\u001b[0m\u001b[0mFITNESScalculate\u001b[0m\u001b[1;33m(\u001b[0m\u001b[0mmcp\u001b[0m\u001b[1;33m,\u001b[0m \u001b[0mnumiter\u001b[0m\u001b[1;33m=\u001b[0m\u001b[1;36m1000\u001b[0m\u001b[1;33m)\u001b[0m\u001b[1;33m\u001b[0m\u001b[0m\n\u001b[0m\u001b[1;32m      3\u001b[0m \u001b[0meciplus\u001b[0m \u001b[1;33m=\u001b[0m \u001b[0mmyfuncs\u001b[0m\u001b[1;33m.\u001b[0m\u001b[0mECIPLUScalculate\u001b[0m\u001b[1;33m(\u001b[0m\u001b[0mnewXcp\u001b[0m\u001b[1;33m.\u001b[0m\u001b[0mvalues\u001b[0m\u001b[1;33m,\u001b[0m \u001b[0mnumiter\u001b[0m\u001b[1;33m=\u001b[0m\u001b[1;36m1000\u001b[0m\u001b[1;33m)\u001b[0m\u001b[1;33m\u001b[0m\u001b[0m\n",
      "\u001b[0;32mC:\\Users\\agomez\\Dropbox\\Identify laws and dynamical systems in socioeconomic data\\Code\\NeuralNets\\ML_SINDy_999_funcs.py\u001b[0m in \u001b[0;36mFITNESScalculate\u001b[0;34m(McpMatrix, numiter)\u001b[0m\n\u001b[1;32m   1087\u001b[0m         \u001b[0mFcnew\u001b[0m \u001b[1;33m=\u001b[0m \u001b[0mnp\u001b[0m\u001b[1;33m.\u001b[0m\u001b[0mdot\u001b[0m\u001b[1;33m(\u001b[0m\u001b[0mMcpMatrix\u001b[0m \u001b[1;33m+\u001b[0m \u001b[1;36m0.0\u001b[0m\u001b[1;33m,\u001b[0m \u001b[0mQp\u001b[0m\u001b[1;33m)\u001b[0m\u001b[1;33m\u001b[0m\u001b[0m\n\u001b[1;32m   1088\u001b[0m         \u001b[0mFcnew\u001b[0m \u001b[1;33m=\u001b[0m \u001b[0mReplace\u001b[0m\u001b[1;33m(\u001b[0m\u001b[0mFcnew\u001b[0m\u001b[1;33m,\u001b[0m \u001b[1;36m0.0\u001b[0m\u001b[1;33m,\u001b[0m \u001b[1;36m1.0\u001b[0m\u001b[1;33m)\u001b[0m\u001b[1;33m\u001b[0m\u001b[0m\n\u001b[0;32m-> 1089\u001b[0;31m         \u001b[0mQpnew\u001b[0m \u001b[1;33m=\u001b[0m \u001b[1;36m1.0\u001b[0m\u001b[1;33m/\u001b[0m\u001b[0mnp\u001b[0m\u001b[1;33m.\u001b[0m\u001b[0mmax\u001b[0m\u001b[1;33m(\u001b[0m\u001b[1;36m10\u001b[0m\u001b[1;33m**\u001b[0m\u001b[1;33m(\u001b[0m\u001b[1;33m-\u001b[0m\u001b[1;36m10\u001b[0m\u001b[1;33m)\u001b[0m\u001b[1;33m,\u001b[0m\u001b[0mnp\u001b[0m\u001b[1;33m.\u001b[0m\u001b[0mdot\u001b[0m\u001b[1;33m(\u001b[0m\u001b[0mnp\u001b[0m\u001b[1;33m.\u001b[0m\u001b[0mtranspose\u001b[0m\u001b[1;33m(\u001b[0m\u001b[0mMcpMatrix\u001b[0m \u001b[1;33m+\u001b[0m \u001b[1;36m0.0\u001b[0m\u001b[1;33m)\u001b[0m\u001b[1;33m,\u001b[0m \u001b[1;36m1.0\u001b[0m\u001b[1;33m/\u001b[0m\u001b[0mFc\u001b[0m\u001b[1;33m)\u001b[0m\u001b[1;33m)\u001b[0m\u001b[1;33m\u001b[0m\u001b[0m\n\u001b[0m\u001b[1;32m   1090\u001b[0m \u001b[1;33m\u001b[0m\u001b[0m\n\u001b[1;32m   1091\u001b[0m         \u001b[1;31m#normalize after step\u001b[0m\u001b[1;33m\u001b[0m\u001b[1;33m\u001b[0m\u001b[0m\n",
      "\u001b[0;32mC:\\Users\\agomez\\AppData\\Local\\Continuum\\Anaconda3\\lib\\site-packages\\numpy\\core\\fromnumeric.py\u001b[0m in \u001b[0;36mamax\u001b[0;34m(a, axis, out, keepdims)\u001b[0m\n\u001b[1;32m   2291\u001b[0m         \u001b[1;32mexcept\u001b[0m \u001b[0mAttributeError\u001b[0m\u001b[1;33m:\u001b[0m\u001b[1;33m\u001b[0m\u001b[0m\n\u001b[1;32m   2292\u001b[0m             return _methods._amax(a, axis=axis,\n\u001b[0;32m-> 2293\u001b[0;31m                                 out=out, **kwargs)\n\u001b[0m\u001b[1;32m   2294\u001b[0m         \u001b[1;32mreturn\u001b[0m \u001b[0mamax\u001b[0m\u001b[1;33m(\u001b[0m\u001b[0maxis\u001b[0m\u001b[1;33m=\u001b[0m\u001b[0maxis\u001b[0m\u001b[1;33m,\u001b[0m \u001b[0mout\u001b[0m\u001b[1;33m=\u001b[0m\u001b[0mout\u001b[0m\u001b[1;33m,\u001b[0m \u001b[1;33m**\u001b[0m\u001b[0mkwargs\u001b[0m\u001b[1;33m)\u001b[0m\u001b[1;33m\u001b[0m\u001b[0m\n\u001b[1;32m   2295\u001b[0m     \u001b[1;32melse\u001b[0m\u001b[1;33m:\u001b[0m\u001b[1;33m\u001b[0m\u001b[0m\n",
      "\u001b[0;32mC:\\Users\\agomez\\AppData\\Local\\Continuum\\Anaconda3\\lib\\site-packages\\numpy\\core\\_methods.py\u001b[0m in \u001b[0;36m_amax\u001b[0;34m(a, axis, out, keepdims)\u001b[0m\n\u001b[1;32m     24\u001b[0m \u001b[1;31m# small reductions\u001b[0m\u001b[1;33m\u001b[0m\u001b[1;33m\u001b[0m\u001b[0m\n\u001b[1;32m     25\u001b[0m \u001b[1;32mdef\u001b[0m \u001b[0m_amax\u001b[0m\u001b[1;33m(\u001b[0m\u001b[0ma\u001b[0m\u001b[1;33m,\u001b[0m \u001b[0maxis\u001b[0m\u001b[1;33m=\u001b[0m\u001b[1;32mNone\u001b[0m\u001b[1;33m,\u001b[0m \u001b[0mout\u001b[0m\u001b[1;33m=\u001b[0m\u001b[1;32mNone\u001b[0m\u001b[1;33m,\u001b[0m \u001b[0mkeepdims\u001b[0m\u001b[1;33m=\u001b[0m\u001b[1;32mFalse\u001b[0m\u001b[1;33m)\u001b[0m\u001b[1;33m:\u001b[0m\u001b[1;33m\u001b[0m\u001b[0m\n\u001b[0;32m---> 26\u001b[0;31m     \u001b[1;32mreturn\u001b[0m \u001b[0mumr_maximum\u001b[0m\u001b[1;33m(\u001b[0m\u001b[0ma\u001b[0m\u001b[1;33m,\u001b[0m \u001b[0maxis\u001b[0m\u001b[1;33m,\u001b[0m \u001b[1;32mNone\u001b[0m\u001b[1;33m,\u001b[0m \u001b[0mout\u001b[0m\u001b[1;33m,\u001b[0m \u001b[0mkeepdims\u001b[0m\u001b[1;33m)\u001b[0m\u001b[1;33m\u001b[0m\u001b[0m\n\u001b[0m\u001b[1;32m     27\u001b[0m \u001b[1;33m\u001b[0m\u001b[0m\n\u001b[1;32m     28\u001b[0m \u001b[1;32mdef\u001b[0m \u001b[0m_amin\u001b[0m\u001b[1;33m(\u001b[0m\u001b[0ma\u001b[0m\u001b[1;33m,\u001b[0m \u001b[0maxis\u001b[0m\u001b[1;33m=\u001b[0m\u001b[1;32mNone\u001b[0m\u001b[1;33m,\u001b[0m \u001b[0mout\u001b[0m\u001b[1;33m=\u001b[0m\u001b[1;32mNone\u001b[0m\u001b[1;33m,\u001b[0m \u001b[0mkeepdims\u001b[0m\u001b[1;33m=\u001b[0m\u001b[1;32mFalse\u001b[0m\u001b[1;33m)\u001b[0m\u001b[1;33m:\u001b[0m\u001b[1;33m\u001b[0m\u001b[0m\n",
      "\u001b[0;31mTypeError\u001b[0m: only length-1 arrays can be converted to Python scalars"
     ]
    }
   ],
   "source": [
    "eci = myfuncs.ECIcalculate(mcp)\n",
    "fitness = myfuncs.FITNESScalculate(mcp, numiter=1000)\n",
    "eciplus = myfuncs.ECIPLUScalculate(newXcp.values, numiter=1000)"
   ]
  },
  {
   "cell_type": "code",
   "execution_count": null,
   "metadata": {
    "collapsed": false
   },
   "outputs": [],
   "source": [
    "np.corrcoef([eci, fitness, eciplus])"
   ]
  },
  {
   "cell_type": "code",
   "execution_count": null,
   "metadata": {
    "collapsed": false
   },
   "outputs": [],
   "source": [
    "# Countries of maximum ECI, FITNESS or ECIplus\n",
    "[(cty,eci[i],fitness[i],eciplus[i]) for i,cty in enumerate(indices) if (eci[i]==max(eci) or fitness[i]==max(fitness) or eciplus[i]==max(eciplus))]"
   ]
  },
  {
   "cell_type": "code",
   "execution_count": 118,
   "metadata": {
    "collapsed": false
   },
   "outputs": [],
   "source": [
    "newXcp['ECI'] = eci\n",
    "newXcp['FITNESS'] = fitness\n",
    "newXcp['ECIplus'] = eciplus"
   ]
  },
  {
   "cell_type": "code",
   "execution_count": 119,
   "metadata": {
    "collapsed": false
   },
   "outputs": [
    {
     "data": {
      "text/html": [
       "<div>\n",
       "<table border=\"1\" class=\"dataframe\">\n",
       "  <thead>\n",
       "    <tr style=\"text-align: right;\">\n",
       "      <th>product_code</th>\n",
       "      <th>11.0</th>\n",
       "      <th>12.0</th>\n",
       "      <th>14.0</th>\n",
       "      <th>15.0</th>\n",
       "      <th>111.0</th>\n",
       "      <th>112.0</th>\n",
       "      <th>113.0</th>\n",
       "      <th>114.0</th>\n",
       "      <th>116.0</th>\n",
       "      <th>118.0</th>\n",
       "      <th>...</th>\n",
       "      <th>8998.0</th>\n",
       "      <th>8999.0</th>\n",
       "      <th>9310.0</th>\n",
       "      <th>9410.0</th>\n",
       "      <th>9510.0</th>\n",
       "      <th>9610.0</th>\n",
       "      <th>9710.0</th>\n",
       "      <th>ECI</th>\n",
       "      <th>FITNESS</th>\n",
       "      <th>ECIplus</th>\n",
       "    </tr>\n",
       "    <tr>\n",
       "      <th>country_code</th>\n",
       "      <th></th>\n",
       "      <th></th>\n",
       "      <th></th>\n",
       "      <th></th>\n",
       "      <th></th>\n",
       "      <th></th>\n",
       "      <th></th>\n",
       "      <th></th>\n",
       "      <th></th>\n",
       "      <th></th>\n",
       "      <th></th>\n",
       "      <th></th>\n",
       "      <th></th>\n",
       "      <th></th>\n",
       "      <th></th>\n",
       "      <th></th>\n",
       "      <th></th>\n",
       "      <th></th>\n",
       "      <th></th>\n",
       "      <th></th>\n",
       "      <th></th>\n",
       "    </tr>\n",
       "  </thead>\n",
       "  <tbody>\n",
       "    <tr>\n",
       "      <th>AGO</th>\n",
       "      <td>0</td>\n",
       "      <td>0</td>\n",
       "      <td>0</td>\n",
       "      <td>0</td>\n",
       "      <td>0</td>\n",
       "      <td>0</td>\n",
       "      <td>0</td>\n",
       "      <td>0</td>\n",
       "      <td>0</td>\n",
       "      <td>0</td>\n",
       "      <td>...</td>\n",
       "      <td>242117</td>\n",
       "      <td>0</td>\n",
       "      <td>10600000</td>\n",
       "      <td>0</td>\n",
       "      <td>0</td>\n",
       "      <td>0</td>\n",
       "      <td>0</td>\n",
       "      <td>-2.048323</td>\n",
       "      <td>5.387534e-126</td>\n",
       "      <td>0.030170</td>\n",
       "    </tr>\n",
       "    <tr>\n",
       "      <th>ALB</th>\n",
       "      <td>0</td>\n",
       "      <td>0</td>\n",
       "      <td>0</td>\n",
       "      <td>0</td>\n",
       "      <td>0</td>\n",
       "      <td>0</td>\n",
       "      <td>0</td>\n",
       "      <td>0</td>\n",
       "      <td>574589</td>\n",
       "      <td>1228488</td>\n",
       "      <td>...</td>\n",
       "      <td>83827</td>\n",
       "      <td>83347</td>\n",
       "      <td>7552363</td>\n",
       "      <td>706721</td>\n",
       "      <td>599766</td>\n",
       "      <td>0</td>\n",
       "      <td>1336793</td>\n",
       "      <td>-0.569134</td>\n",
       "      <td>4.081223e-01</td>\n",
       "      <td>0.103254</td>\n",
       "    </tr>\n",
       "    <tr>\n",
       "      <th>ARE</th>\n",
       "      <td>851982</td>\n",
       "      <td>2331864</td>\n",
       "      <td>691507</td>\n",
       "      <td>70300000</td>\n",
       "      <td>89700000</td>\n",
       "      <td>12600000</td>\n",
       "      <td>907229</td>\n",
       "      <td>53900000</td>\n",
       "      <td>118574</td>\n",
       "      <td>464907</td>\n",
       "      <td>...</td>\n",
       "      <td>12000000</td>\n",
       "      <td>15800000</td>\n",
       "      <td>1140000000</td>\n",
       "      <td>20200000</td>\n",
       "      <td>10900000</td>\n",
       "      <td>4945109</td>\n",
       "      <td>10000000000</td>\n",
       "      <td>0.183152</td>\n",
       "      <td>5.002252e-01</td>\n",
       "      <td>6.664590</td>\n",
       "    </tr>\n",
       "    <tr>\n",
       "      <th>ARG</th>\n",
       "      <td>1658141</td>\n",
       "      <td>195492</td>\n",
       "      <td>912249</td>\n",
       "      <td>26800000</td>\n",
       "      <td>1040000000</td>\n",
       "      <td>35300000</td>\n",
       "      <td>458892</td>\n",
       "      <td>401000000</td>\n",
       "      <td>130000000</td>\n",
       "      <td>12300000</td>\n",
       "      <td>...</td>\n",
       "      <td>9122005</td>\n",
       "      <td>2144361</td>\n",
       "      <td>159000000</td>\n",
       "      <td>1330043</td>\n",
       "      <td>14900000</td>\n",
       "      <td>5697</td>\n",
       "      <td>2010000000</td>\n",
       "      <td>0.066474</td>\n",
       "      <td>9.215365e-01</td>\n",
       "      <td>4.937538</td>\n",
       "    </tr>\n",
       "    <tr>\n",
       "      <th>ARM</th>\n",
       "      <td>0</td>\n",
       "      <td>23400000</td>\n",
       "      <td>414368</td>\n",
       "      <td>0</td>\n",
       "      <td>42293</td>\n",
       "      <td>0</td>\n",
       "      <td>0</td>\n",
       "      <td>0</td>\n",
       "      <td>0</td>\n",
       "      <td>0</td>\n",
       "      <td>...</td>\n",
       "      <td>0</td>\n",
       "      <td>0</td>\n",
       "      <td>20300000</td>\n",
       "      <td>8736</td>\n",
       "      <td>92530</td>\n",
       "      <td>0</td>\n",
       "      <td>34000000</td>\n",
       "      <td>-0.039385</td>\n",
       "      <td>3.297608e-01</td>\n",
       "      <td>0.039150</td>\n",
       "    </tr>\n",
       "  </tbody>\n",
       "</table>\n",
       "<p>5 rows × 682 columns</p>\n",
       "</div>"
      ],
      "text/plain": [
       "product_code     11.0      12.0    14.0      15.0       111.0     112.0  \\\n",
       "country_code                                                              \n",
       "AGO                 0         0       0         0           0         0   \n",
       "ALB                 0         0       0         0           0         0   \n",
       "ARE            851982   2331864  691507  70300000    89700000  12600000   \n",
       "ARG           1658141    195492  912249  26800000  1040000000  35300000   \n",
       "ARM                 0  23400000  414368         0       42293         0   \n",
       "\n",
       "product_code   113.0      114.0      116.0     118.0    ...       8998.0  \\\n",
       "country_code                                            ...                \n",
       "AGO                0          0          0         0    ...       242117   \n",
       "ALB                0          0     574589   1228488    ...        83827   \n",
       "ARE           907229   53900000     118574    464907    ...     12000000   \n",
       "ARG           458892  401000000  130000000  12300000    ...      9122005   \n",
       "ARM                0          0          0         0    ...            0   \n",
       "\n",
       "product_code    8999.0      9310.0    9410.0    9510.0   9610.0       9710.0  \\\n",
       "country_code                                                                   \n",
       "AGO                  0    10600000         0         0        0            0   \n",
       "ALB              83347     7552363    706721    599766        0      1336793   \n",
       "ARE           15800000  1140000000  20200000  10900000  4945109  10000000000   \n",
       "ARG            2144361   159000000   1330043  14900000     5697   2010000000   \n",
       "ARM                  0    20300000      8736     92530        0     34000000   \n",
       "\n",
       "product_code       ECI        FITNESS   ECIplus  \n",
       "country_code                                     \n",
       "AGO          -2.048323  5.387534e-126  0.030170  \n",
       "ALB          -0.569134   4.081223e-01  0.103254  \n",
       "ARE           0.183152   5.002252e-01  6.664590  \n",
       "ARG           0.066474   9.215365e-01  4.937538  \n",
       "ARM          -0.039385   3.297608e-01  0.039150  \n",
       "\n",
       "[5 rows x 682 columns]"
      ]
     },
     "execution_count": 119,
     "metadata": {},
     "output_type": "execute_result"
    }
   ],
   "source": [
    "newXcp.head()"
   ]
  },
  {
   "cell_type": "code",
   "execution_count": 120,
   "metadata": {
    "collapsed": false
   },
   "outputs": [
    {
     "name": "stdout",
     "output_type": "stream",
     "text": [
      "[  3.42388863e-01   3.07566374e-01   1.64152636e-01   4.07991164e-02\n",
      "   3.77707355e-02   2.19106002e-02   1.32173537e-02   1.02566462e-02\n",
      "   8.41866003e-03   7.28821043e-03   5.92793270e-03   4.99854832e-03\n",
      "   4.44160770e-03   4.04616174e-03   3.62069351e-03   3.17240800e-03\n",
      "   2.67317342e-03   2.62397467e-03   1.86040865e-03   1.58174468e-03\n",
      "   1.40471368e-03   1.14850462e-03   9.01697650e-04   8.34170765e-04\n",
      "   7.08410013e-04   5.84786526e-04   5.11202267e-04   4.57315647e-04\n",
      "   4.31190348e-04   3.85034684e-04   3.45988084e-04   3.11384944e-04\n",
      "   2.98131974e-04   2.61708132e-04   2.34558731e-04   2.18703921e-04\n",
      "   1.85865969e-04   1.81146327e-04   1.66642580e-04   1.40041863e-04\n",
      "   1.36552834e-04   1.29957662e-04   1.16341379e-04   1.14137301e-04\n",
      "   1.03730556e-04   9.25070527e-05   8.33316175e-05   7.55697626e-05\n",
      "   6.68659071e-05   6.35315379e-05   6.15064692e-05   5.57453212e-05\n",
      "   5.26229632e-05   4.01201876e-05   3.67778661e-05   3.18323731e-05\n",
      "   2.64301602e-05   2.52542259e-05   2.29967332e-05   2.04159982e-05\n",
      "   1.85768603e-05   1.66115702e-05   1.50585446e-05   1.31874924e-05\n",
      "   1.20554875e-05   1.09852258e-05   1.03771757e-05   8.81724182e-06\n",
      "   7.95266587e-06   7.50829043e-06   6.53150194e-06   6.06971484e-06\n",
      "   6.01244302e-06   5.56135210e-06   5.26209453e-06   4.72031353e-06\n",
      "   4.37105266e-06   4.13195474e-06   3.99734189e-06   3.65518363e-06\n",
      "   3.53352516e-06   3.38206213e-06   3.19813243e-06   2.99694471e-06\n",
      "   2.93017252e-06   2.64755588e-06   2.18503394e-06   2.08132556e-06\n",
      "   2.01580414e-06   1.69738110e-06   1.62726267e-06   1.51170988e-06\n",
      "   1.23946735e-06   1.20109075e-06   1.13235926e-06   1.06609884e-06\n",
      "   1.02940053e-06   9.44874359e-07   8.46911452e-07   7.70635786e-07]\n"
     ]
    }
   ],
   "source": [
    "pca = PCA(n_components=100)\n",
    "pca.fit(newXcp)\n",
    "print(pca.explained_variance_ratio_) \n",
    "pcaall = pca.fit_transform(newXcp)"
   ]
  },
  {
   "cell_type": "code",
   "execution_count": 121,
   "metadata": {
    "collapsed": false
   },
   "outputs": [
    {
     "data": {
      "text/plain": [
       "array([ 0.34238886,  0.64995524,  0.81410787,  0.85490699,  0.89267772,\n",
       "        0.91458832,  0.92780568,  0.93806232,  0.94648098,  0.95376919,\n",
       "        0.95969713,  0.96469568,  0.96913728,  0.97318345,  0.97680414,\n",
       "        0.97997655,  0.98264972,  0.98527369,  0.9871341 ,  0.98871585,\n",
       "        0.99012056,  0.99126907,  0.99217076,  0.99300493,  0.99371334,\n",
       "        0.99429813,  0.99480933,  0.99526665,  0.99569784,  0.99608287,\n",
       "        0.99642886,  0.99674025,  0.99703838,  0.99730009,  0.99753465,\n",
       "        0.99775335,  0.99793922,  0.99812036,  0.99828701,  0.99842705,\n",
       "        0.9985636 ,  0.99869356,  0.9988099 ,  0.99892404,  0.99902777,\n",
       "        0.99912027,  0.99920361,  0.99927918,  0.99934604,  0.99940957,\n",
       "        0.99947108,  0.99952682,  0.99957945,  0.99961957,  0.99965635,\n",
       "        0.99968818,  0.99971461,  0.99973986,  0.99976286,  0.99978327,\n",
       "        0.99980185,  0.99981846,  0.99983352,  0.99984671,  0.99985876,\n",
       "        0.99986975,  0.99988013,  0.99988894,  0.9998969 ,  0.99990441,\n",
       "        0.99991094,  0.99991701,  0.99992302,  0.99992858,  0.99993384,\n",
       "        0.99993856,  0.99994293,  0.99994707,  0.99995106,  0.99995472,\n",
       "        0.99995825,  0.99996163,  0.99996483,  0.99996783,  0.99997076,\n",
       "        0.99997341,  0.99997559,  0.99997767,  0.99997969,  0.99998139,\n",
       "        0.99998301,  0.99998453,  0.99998576,  0.99998697,  0.9999881 ,\n",
       "        0.99998916,  0.99999019,  0.99999114,  0.99999199,  0.99999276])"
      ]
     },
     "execution_count": 121,
     "metadata": {},
     "output_type": "execute_result"
    }
   ],
   "source": [
    "np.cumsum(pca.explained_variance_ratio_)"
   ]
  },
  {
   "cell_type": "code",
   "execution_count": null,
   "metadata": {
    "collapsed": true
   },
   "outputs": [],
   "source": []
  },
  {
   "cell_type": "code",
   "execution_count": null,
   "metadata": {
    "collapsed": true
   },
   "outputs": [],
   "source": [
    "allyears = e"
   ]
  },
  {
   "cell_type": "code",
   "execution_count": null,
   "metadata": {
    "collapsed": true
   },
   "outputs": [],
   "source": []
  },
  {
   "cell_type": "code",
   "execution_count": null,
   "metadata": {
    "collapsed": true
   },
   "outputs": [],
   "source": []
  },
  {
   "cell_type": "code",
   "execution_count": null,
   "metadata": {
    "collapsed": true
   },
   "outputs": [],
   "source": []
  },
  {
   "cell_type": "code",
   "execution_count": null,
   "metadata": {
    "collapsed": true
   },
   "outputs": [],
   "source": []
  },
  {
   "cell_type": "code",
   "execution_count": null,
   "metadata": {
    "collapsed": true
   },
   "outputs": [],
   "source": []
  },
  {
   "cell_type": "code",
   "execution_count": null,
   "metadata": {
    "collapsed": true
   },
   "outputs": [],
   "source": []
  },
  {
   "cell_type": "code",
   "execution_count": null,
   "metadata": {
    "collapsed": true
   },
   "outputs": [],
   "source": []
  },
  {
   "cell_type": "code",
   "execution_count": 81,
   "metadata": {
    "collapsed": false
   },
   "outputs": [],
   "source": [
    "pca = PCAsomeColumns(n_components=100, exclude_columns=['ECI','FITNESS','ECIplus','gdp_per_capita_constant2010USD'])\n",
    "pca.fit(newXcp)"
   ]
  },
  {
   "cell_type": "code",
   "execution_count": 82,
   "metadata": {
    "collapsed": false
   },
   "outputs": [],
   "source": [
    "pcaXcp = pca.transform(newXcp)"
   ]
  },
  {
   "cell_type": "code",
   "execution_count": 83,
   "metadata": {
    "collapsed": false
   },
   "outputs": [
    {
     "data": {
      "text/html": [
       "<div>\n",
       "<table border=\"1\" class=\"dataframe\">\n",
       "  <thead>\n",
       "    <tr style=\"text-align: right;\">\n",
       "      <th></th>\n",
       "      <th>component_0</th>\n",
       "      <th>component_1</th>\n",
       "      <th>component_2</th>\n",
       "      <th>component_3</th>\n",
       "      <th>component_4</th>\n",
       "      <th>component_5</th>\n",
       "      <th>component_6</th>\n",
       "      <th>component_7</th>\n",
       "      <th>component_8</th>\n",
       "      <th>component_9</th>\n",
       "      <th>...</th>\n",
       "      <th>component_94</th>\n",
       "      <th>component_95</th>\n",
       "      <th>component_96</th>\n",
       "      <th>component_97</th>\n",
       "      <th>component_98</th>\n",
       "      <th>component_99</th>\n",
       "      <th>ECI</th>\n",
       "      <th>FITNESS</th>\n",
       "      <th>ECIplus</th>\n",
       "      <th>gdp_per_capita_constant2010USD</th>\n",
       "    </tr>\n",
       "    <tr>\n",
       "      <th>country_code</th>\n",
       "      <th></th>\n",
       "      <th></th>\n",
       "      <th></th>\n",
       "      <th></th>\n",
       "      <th></th>\n",
       "      <th></th>\n",
       "      <th></th>\n",
       "      <th></th>\n",
       "      <th></th>\n",
       "      <th></th>\n",
       "      <th></th>\n",
       "      <th></th>\n",
       "      <th></th>\n",
       "      <th></th>\n",
       "      <th></th>\n",
       "      <th></th>\n",
       "      <th></th>\n",
       "      <th></th>\n",
       "      <th></th>\n",
       "      <th></th>\n",
       "      <th></th>\n",
       "    </tr>\n",
       "  </thead>\n",
       "  <tbody>\n",
       "    <tr>\n",
       "      <th>AGO</th>\n",
       "      <td>3.789522e+10</td>\n",
       "      <td>-1.198160e+09</td>\n",
       "      <td>2.346072e+09</td>\n",
       "      <td>3.093261e+09</td>\n",
       "      <td>-1.673358e+09</td>\n",
       "      <td>-2.300230e+09</td>\n",
       "      <td>2.466142e+09</td>\n",
       "      <td>2.694947e+09</td>\n",
       "      <td>2.097258e+09</td>\n",
       "      <td>8.966507e+08</td>\n",
       "      <td>...</td>\n",
       "      <td>-8.109786e+07</td>\n",
       "      <td>1.310464e+07</td>\n",
       "      <td>1.020001e+07</td>\n",
       "      <td>-9.975966e+07</td>\n",
       "      <td>1.000211e+08</td>\n",
       "      <td>-5.800755e+07</td>\n",
       "      <td>-2.048323</td>\n",
       "      <td>5.387534e-126</td>\n",
       "      <td>0.030170</td>\n",
       "      <td>NaN</td>\n",
       "    </tr>\n",
       "    <tr>\n",
       "      <th>ALB</th>\n",
       "      <td>-6.583406e+09</td>\n",
       "      <td>-9.408946e+09</td>\n",
       "      <td>1.140975e+08</td>\n",
       "      <td>9.104405e+08</td>\n",
       "      <td>-1.138158e+09</td>\n",
       "      <td>-7.108619e+08</td>\n",
       "      <td>-9.324158e+08</td>\n",
       "      <td>4.572604e+08</td>\n",
       "      <td>2.611165e+07</td>\n",
       "      <td>-1.140224e+08</td>\n",
       "      <td>...</td>\n",
       "      <td>1.267570e+07</td>\n",
       "      <td>-1.846345e+07</td>\n",
       "      <td>-5.517370e+06</td>\n",
       "      <td>2.551297e+07</td>\n",
       "      <td>2.841779e+07</td>\n",
       "      <td>1.743074e+07</td>\n",
       "      <td>-0.569134</td>\n",
       "      <td>4.081223e-01</td>\n",
       "      <td>0.103254</td>\n",
       "      <td>NaN</td>\n",
       "    </tr>\n",
       "    <tr>\n",
       "      <th>ARE</th>\n",
       "      <td>4.905488e+10</td>\n",
       "      <td>4.352715e+09</td>\n",
       "      <td>2.343394e+09</td>\n",
       "      <td>-2.444212e+08</td>\n",
       "      <td>-5.281466e+07</td>\n",
       "      <td>-5.349801e+08</td>\n",
       "      <td>7.843376e+09</td>\n",
       "      <td>-6.522266e+09</td>\n",
       "      <td>5.973439e+09</td>\n",
       "      <td>9.112417e+09</td>\n",
       "      <td>...</td>\n",
       "      <td>1.914958e+07</td>\n",
       "      <td>4.749911e+05</td>\n",
       "      <td>7.704267e+06</td>\n",
       "      <td>5.821223e+06</td>\n",
       "      <td>-1.049110e+07</td>\n",
       "      <td>-3.780435e+05</td>\n",
       "      <td>0.183152</td>\n",
       "      <td>5.002252e-01</td>\n",
       "      <td>6.664590</td>\n",
       "      <td>NaN</td>\n",
       "    </tr>\n",
       "    <tr>\n",
       "      <th>ARG</th>\n",
       "      <td>-4.901347e+09</td>\n",
       "      <td>-5.285624e+09</td>\n",
       "      <td>-2.075047e+09</td>\n",
       "      <td>4.865089e+08</td>\n",
       "      <td>-1.252599e+09</td>\n",
       "      <td>5.600065e+08</td>\n",
       "      <td>-9.605362e+08</td>\n",
       "      <td>1.405252e+09</td>\n",
       "      <td>2.478278e+09</td>\n",
       "      <td>1.358068e+09</td>\n",
       "      <td>...</td>\n",
       "      <td>5.241578e+06</td>\n",
       "      <td>-2.360703e+06</td>\n",
       "      <td>2.285528e+05</td>\n",
       "      <td>1.526852e+06</td>\n",
       "      <td>-7.085762e+05</td>\n",
       "      <td>-1.768887e+06</td>\n",
       "      <td>0.066474</td>\n",
       "      <td>9.215365e-01</td>\n",
       "      <td>4.937538</td>\n",
       "      <td>NaN</td>\n",
       "    </tr>\n",
       "    <tr>\n",
       "      <th>ARM</th>\n",
       "      <td>-6.780889e+09</td>\n",
       "      <td>-9.466055e+09</td>\n",
       "      <td>4.323049e+07</td>\n",
       "      <td>8.836952e+08</td>\n",
       "      <td>-1.106337e+09</td>\n",
       "      <td>-6.888760e+08</td>\n",
       "      <td>-9.377713e+08</td>\n",
       "      <td>3.905712e+08</td>\n",
       "      <td>2.885948e+07</td>\n",
       "      <td>-7.620994e+07</td>\n",
       "      <td>...</td>\n",
       "      <td>3.376778e+07</td>\n",
       "      <td>-9.508960e+06</td>\n",
       "      <td>-3.497521e+06</td>\n",
       "      <td>-2.061773e+07</td>\n",
       "      <td>-1.857950e+07</td>\n",
       "      <td>5.558141e+06</td>\n",
       "      <td>-0.039385</td>\n",
       "      <td>3.297608e-01</td>\n",
       "      <td>0.039150</td>\n",
       "      <td>NaN</td>\n",
       "    </tr>\n",
       "  </tbody>\n",
       "</table>\n",
       "<p>5 rows × 104 columns</p>\n",
       "</div>"
      ],
      "text/plain": [
       "               component_0   component_1   component_2   component_3  \\\n",
       "country_code                                                           \n",
       "AGO           3.789522e+10 -1.198160e+09  2.346072e+09  3.093261e+09   \n",
       "ALB          -6.583406e+09 -9.408946e+09  1.140975e+08  9.104405e+08   \n",
       "ARE           4.905488e+10  4.352715e+09  2.343394e+09 -2.444212e+08   \n",
       "ARG          -4.901347e+09 -5.285624e+09 -2.075047e+09  4.865089e+08   \n",
       "ARM          -6.780889e+09 -9.466055e+09  4.323049e+07  8.836952e+08   \n",
       "\n",
       "               component_4   component_5   component_6   component_7  \\\n",
       "country_code                                                           \n",
       "AGO          -1.673358e+09 -2.300230e+09  2.466142e+09  2.694947e+09   \n",
       "ALB          -1.138158e+09 -7.108619e+08 -9.324158e+08  4.572604e+08   \n",
       "ARE          -5.281466e+07 -5.349801e+08  7.843376e+09 -6.522266e+09   \n",
       "ARG          -1.252599e+09  5.600065e+08 -9.605362e+08  1.405252e+09   \n",
       "ARM          -1.106337e+09 -6.888760e+08 -9.377713e+08  3.905712e+08   \n",
       "\n",
       "               component_8   component_9               ...                \\\n",
       "country_code                                           ...                 \n",
       "AGO           2.097258e+09  8.966507e+08               ...                 \n",
       "ALB           2.611165e+07 -1.140224e+08               ...                 \n",
       "ARE           5.973439e+09  9.112417e+09               ...                 \n",
       "ARG           2.478278e+09  1.358068e+09               ...                 \n",
       "ARM           2.885948e+07 -7.620994e+07               ...                 \n",
       "\n",
       "              component_94  component_95  component_96  component_97  \\\n",
       "country_code                                                           \n",
       "AGO          -8.109786e+07  1.310464e+07  1.020001e+07 -9.975966e+07   \n",
       "ALB           1.267570e+07 -1.846345e+07 -5.517370e+06  2.551297e+07   \n",
       "ARE           1.914958e+07  4.749911e+05  7.704267e+06  5.821223e+06   \n",
       "ARG           5.241578e+06 -2.360703e+06  2.285528e+05  1.526852e+06   \n",
       "ARM           3.376778e+07 -9.508960e+06 -3.497521e+06 -2.061773e+07   \n",
       "\n",
       "              component_98  component_99       ECI        FITNESS   ECIplus  \\\n",
       "country_code                                                                  \n",
       "AGO           1.000211e+08 -5.800755e+07 -2.048323  5.387534e-126  0.030170   \n",
       "ALB           2.841779e+07  1.743074e+07 -0.569134   4.081223e-01  0.103254   \n",
       "ARE          -1.049110e+07 -3.780435e+05  0.183152   5.002252e-01  6.664590   \n",
       "ARG          -7.085762e+05 -1.768887e+06  0.066474   9.215365e-01  4.937538   \n",
       "ARM          -1.857950e+07  5.558141e+06 -0.039385   3.297608e-01  0.039150   \n",
       "\n",
       "              gdp_per_capita_constant2010USD  \n",
       "country_code                                  \n",
       "AGO                                      NaN  \n",
       "ALB                                      NaN  \n",
       "ARE                                      NaN  \n",
       "ARG                                      NaN  \n",
       "ARM                                      NaN  \n",
       "\n",
       "[5 rows x 104 columns]"
      ]
     },
     "execution_count": 83,
     "metadata": {},
     "output_type": "execute_result"
    }
   ],
   "source": [
    "pcaXcp.head()"
   ]
  },
  {
   "cell_type": "code",
   "execution_count": null,
   "metadata": {
    "collapsed": true
   },
   "outputs": [],
   "source": []
  },
  {
   "cell_type": "code",
   "execution_count": null,
   "metadata": {
    "collapsed": true
   },
   "outputs": [],
   "source": []
  },
  {
   "cell_type": "code",
   "execution_count": null,
   "metadata": {
    "collapsed": true
   },
   "outputs": [],
   "source": []
  },
  {
   "cell_type": "code",
   "execution_count": null,
   "metadata": {
    "collapsed": true
   },
   "outputs": [],
   "source": []
  },
  {
   "cell_type": "code",
   "execution_count": null,
   "metadata": {
    "collapsed": true
   },
   "outputs": [],
   "source": []
  },
  {
   "cell_type": "code",
   "execution_count": null,
   "metadata": {
    "collapsed": true
   },
   "outputs": [],
   "source": []
  },
  {
   "cell_type": "code",
   "execution_count": 42,
   "metadata": {
    "collapsed": true
   },
   "outputs": [],
   "source": [
    "exports_long_hidalgo_filter.name = 'Hidalgo'\n",
    "exports_long_hidalgo_filter.filename = 'None'"
   ]
  },
  {
   "cell_type": "code",
   "execution_count": 70,
   "metadata": {
    "collapsed": false
   },
   "outputs": [
    {
     "data": {
      "text/html": [
       "<div>\n",
       "<table border=\"1\" class=\"dataframe\">\n",
       "  <thead>\n",
       "    <tr style=\"text-align: right;\">\n",
       "      <th></th>\n",
       "      <th></th>\n",
       "      <th>gdp_per_capita_constant2010USD</th>\n",
       "    </tr>\n",
       "    <tr>\n",
       "      <th>country_code</th>\n",
       "      <th>year</th>\n",
       "      <th></th>\n",
       "    </tr>\n",
       "  </thead>\n",
       "  <tbody>\n",
       "    <tr>\n",
       "      <th>ABW</th>\n",
       "      <th>2010</th>\n",
       "      <td>24271.940421</td>\n",
       "    </tr>\n",
       "    <tr>\n",
       "      <th rowspan=\"4\" valign=\"top\">AFG</th>\n",
       "      <th>2002</th>\n",
       "      <td>364.570573</td>\n",
       "    </tr>\n",
       "    <tr>\n",
       "      <th>2003</th>\n",
       "      <td>376.758714</td>\n",
       "    </tr>\n",
       "    <tr>\n",
       "      <th>2004</th>\n",
       "      <td>364.095436</td>\n",
       "    </tr>\n",
       "    <tr>\n",
       "      <th>2005</th>\n",
       "      <td>389.416358</td>\n",
       "    </tr>\n",
       "  </tbody>\n",
       "</table>\n",
       "</div>"
      ],
      "text/plain": [
       "                   gdp_per_capita_constant2010USD\n",
       "country_code year                                \n",
       "ABW          2010                    24271.940421\n",
       "AFG          2002                      364.570573\n",
       "             2003                      376.758714\n",
       "             2004                      364.095436\n",
       "             2005                      389.416358"
      ]
     },
     "execution_count": 70,
     "metadata": {},
     "output_type": "execute_result"
    }
   ],
   "source": [
    "pd.DataFrame(gdp_per_capita_nonmissing).head()"
   ]
  },
  {
   "cell_type": "code",
   "execution_count": 72,
   "metadata": {
    "collapsed": false
   },
   "outputs": [
    {
     "data": {
      "text/html": [
       "<div>\n",
       "<table border=\"1\" class=\"dataframe\">\n",
       "  <thead>\n",
       "    <tr style=\"text-align: right;\">\n",
       "      <th></th>\n",
       "      <th>country_code</th>\n",
       "      <th>year</th>\n",
       "      <th>gdp_per_capita_constant2010USD</th>\n",
       "    </tr>\n",
       "  </thead>\n",
       "  <tbody>\n",
       "    <tr>\n",
       "      <th>0</th>\n",
       "      <td>ABW</td>\n",
       "      <td>2010</td>\n",
       "      <td>24271.940421</td>\n",
       "    </tr>\n",
       "    <tr>\n",
       "      <th>1</th>\n",
       "      <td>AFG</td>\n",
       "      <td>2002</td>\n",
       "      <td>364.570573</td>\n",
       "    </tr>\n",
       "    <tr>\n",
       "      <th>2</th>\n",
       "      <td>AFG</td>\n",
       "      <td>2003</td>\n",
       "      <td>376.758714</td>\n",
       "    </tr>\n",
       "    <tr>\n",
       "      <th>3</th>\n",
       "      <td>AFG</td>\n",
       "      <td>2004</td>\n",
       "      <td>364.095436</td>\n",
       "    </tr>\n",
       "    <tr>\n",
       "      <th>4</th>\n",
       "      <td>AFG</td>\n",
       "      <td>2005</td>\n",
       "      <td>389.416358</td>\n",
       "    </tr>\n",
       "    <tr>\n",
       "      <th>5</th>\n",
       "      <td>AFG</td>\n",
       "      <td>2006</td>\n",
       "      <td>397.985905</td>\n",
       "    </tr>\n",
       "    <tr>\n",
       "      <th>6</th>\n",
       "      <td>AFG</td>\n",
       "      <td>2007</td>\n",
       "      <td>440.368155</td>\n",
       "    </tr>\n",
       "    <tr>\n",
       "      <th>7</th>\n",
       "      <td>AFG</td>\n",
       "      <td>2008</td>\n",
       "      <td>444.950138</td>\n",
       "    </tr>\n",
       "    <tr>\n",
       "      <th>8</th>\n",
       "      <td>AFG</td>\n",
       "      <td>2009</td>\n",
       "      <td>524.823533</td>\n",
       "    </tr>\n",
       "    <tr>\n",
       "      <th>9</th>\n",
       "      <td>AFG</td>\n",
       "      <td>2010</td>\n",
       "      <td>553.300289</td>\n",
       "    </tr>\n",
       "    <tr>\n",
       "      <th>10</th>\n",
       "      <td>AFG</td>\n",
       "      <td>2011</td>\n",
       "      <td>569.233388</td>\n",
       "    </tr>\n",
       "    <tr>\n",
       "      <th>11</th>\n",
       "      <td>AFG</td>\n",
       "      <td>2012</td>\n",
       "      <td>630.427413</td>\n",
       "    </tr>\n",
       "    <tr>\n",
       "      <th>12</th>\n",
       "      <td>AFG</td>\n",
       "      <td>2013</td>\n",
       "      <td>621.818079</td>\n",
       "    </tr>\n",
       "    <tr>\n",
       "      <th>13</th>\n",
       "      <td>AFG</td>\n",
       "      <td>2014</td>\n",
       "      <td>610.241924</td>\n",
       "    </tr>\n",
       "    <tr>\n",
       "      <th>14</th>\n",
       "      <td>AFG</td>\n",
       "      <td>2015</td>\n",
       "      <td>599.135196</td>\n",
       "    </tr>\n",
       "    <tr>\n",
       "      <th>15</th>\n",
       "      <td>AGO</td>\n",
       "      <td>1985</td>\n",
       "      <td>2574.051243</td>\n",
       "    </tr>\n",
       "    <tr>\n",
       "      <th>16</th>\n",
       "      <td>AGO</td>\n",
       "      <td>1986</td>\n",
       "      <td>2570.529506</td>\n",
       "    </tr>\n",
       "    <tr>\n",
       "      <th>17</th>\n",
       "      <td>AGO</td>\n",
       "      <td>1987</td>\n",
       "      <td>2700.114031</td>\n",
       "    </tr>\n",
       "    <tr>\n",
       "      <th>18</th>\n",
       "      <td>AGO</td>\n",
       "      <td>1988</td>\n",
       "      <td>2778.093232</td>\n",
       "    </tr>\n",
       "    <tr>\n",
       "      <th>19</th>\n",
       "      <td>AGO</td>\n",
       "      <td>1989</td>\n",
       "      <td>2715.327687</td>\n",
       "    </tr>\n",
       "    <tr>\n",
       "      <th>20</th>\n",
       "      <td>AGO</td>\n",
       "      <td>1990</td>\n",
       "      <td>2630.623573</td>\n",
       "    </tr>\n",
       "    <tr>\n",
       "      <th>21</th>\n",
       "      <td>AGO</td>\n",
       "      <td>1991</td>\n",
       "      <td>2519.966060</td>\n",
       "    </tr>\n",
       "    <tr>\n",
       "      <th>22</th>\n",
       "      <td>AGO</td>\n",
       "      <td>1992</td>\n",
       "      <td>2271.029500</td>\n",
       "    </tr>\n",
       "    <tr>\n",
       "      <th>23</th>\n",
       "      <td>AGO</td>\n",
       "      <td>1993</td>\n",
       "      <td>1654.537089</td>\n",
       "    </tr>\n",
       "    <tr>\n",
       "      <th>24</th>\n",
       "      <td>AGO</td>\n",
       "      <td>1994</td>\n",
       "      <td>1658.310094</td>\n",
       "    </tr>\n",
       "    <tr>\n",
       "      <th>25</th>\n",
       "      <td>AGO</td>\n",
       "      <td>1995</td>\n",
       "      <td>1775.899461</td>\n",
       "    </tr>\n",
       "    <tr>\n",
       "      <th>26</th>\n",
       "      <td>AGO</td>\n",
       "      <td>1996</td>\n",
       "      <td>1919.211766</td>\n",
       "    </tr>\n",
       "    <tr>\n",
       "      <th>27</th>\n",
       "      <td>AGO</td>\n",
       "      <td>1997</td>\n",
       "      <td>2015.013922</td>\n",
       "    </tr>\n",
       "    <tr>\n",
       "      <th>28</th>\n",
       "      <td>AGO</td>\n",
       "      <td>1998</td>\n",
       "      <td>2094.478528</td>\n",
       "    </tr>\n",
       "    <tr>\n",
       "      <th>29</th>\n",
       "      <td>AGO</td>\n",
       "      <td>1999</td>\n",
       "      <td>2101.945334</td>\n",
       "    </tr>\n",
       "    <tr>\n",
       "      <th>...</th>\n",
       "      <td>...</td>\n",
       "      <td>...</td>\n",
       "      <td>...</td>\n",
       "    </tr>\n",
       "    <tr>\n",
       "      <th>10423</th>\n",
       "      <td>ZWE</td>\n",
       "      <td>1986</td>\n",
       "      <td>1173.811942</td>\n",
       "    </tr>\n",
       "    <tr>\n",
       "      <th>10424</th>\n",
       "      <td>ZWE</td>\n",
       "      <td>1987</td>\n",
       "      <td>1146.809220</td>\n",
       "    </tr>\n",
       "    <tr>\n",
       "      <th>10425</th>\n",
       "      <td>ZWE</td>\n",
       "      <td>1988</td>\n",
       "      <td>1193.478318</td>\n",
       "    </tr>\n",
       "    <tr>\n",
       "      <th>10426</th>\n",
       "      <td>ZWE</td>\n",
       "      <td>1989</td>\n",
       "      <td>1217.723007</td>\n",
       "    </tr>\n",
       "    <tr>\n",
       "      <th>10427</th>\n",
       "      <td>ZWE</td>\n",
       "      <td>1990</td>\n",
       "      <td>1266.927804</td>\n",
       "    </tr>\n",
       "    <tr>\n",
       "      <th>10428</th>\n",
       "      <td>ZWE</td>\n",
       "      <td>1991</td>\n",
       "      <td>1303.732933</td>\n",
       "    </tr>\n",
       "    <tr>\n",
       "      <th>10429</th>\n",
       "      <td>ZWE</td>\n",
       "      <td>1992</td>\n",
       "      <td>1159.564523</td>\n",
       "    </tr>\n",
       "    <tr>\n",
       "      <th>10430</th>\n",
       "      <td>ZWE</td>\n",
       "      <td>1993</td>\n",
       "      <td>1147.808909</td>\n",
       "    </tr>\n",
       "    <tr>\n",
       "      <th>10431</th>\n",
       "      <td>ZWE</td>\n",
       "      <td>1994</td>\n",
       "      <td>1229.992312</td>\n",
       "    </tr>\n",
       "    <tr>\n",
       "      <th>10432</th>\n",
       "      <td>ZWE</td>\n",
       "      <td>1995</td>\n",
       "      <td>1209.801241</td>\n",
       "    </tr>\n",
       "    <tr>\n",
       "      <th>10433</th>\n",
       "      <td>ZWE</td>\n",
       "      <td>1996</td>\n",
       "      <td>1312.203547</td>\n",
       "    </tr>\n",
       "    <tr>\n",
       "      <th>10434</th>\n",
       "      <td>ZWE</td>\n",
       "      <td>1997</td>\n",
       "      <td>1325.316942</td>\n",
       "    </tr>\n",
       "    <tr>\n",
       "      <th>10435</th>\n",
       "      <td>ZWE</td>\n",
       "      <td>1998</td>\n",
       "      <td>1342.542796</td>\n",
       "    </tr>\n",
       "    <tr>\n",
       "      <th>10436</th>\n",
       "      <td>ZWE</td>\n",
       "      <td>1999</td>\n",
       "      <td>1312.660679</td>\n",
       "    </tr>\n",
       "    <tr>\n",
       "      <th>10437</th>\n",
       "      <td>ZWE</td>\n",
       "      <td>2000</td>\n",
       "      <td>1256.083710</td>\n",
       "    </tr>\n",
       "    <tr>\n",
       "      <th>10438</th>\n",
       "      <td>ZWE</td>\n",
       "      <td>2001</td>\n",
       "      <td>1259.338084</td>\n",
       "    </tr>\n",
       "    <tr>\n",
       "      <th>10439</th>\n",
       "      <td>ZWE</td>\n",
       "      <td>2002</td>\n",
       "      <td>1135.000333</td>\n",
       "    </tr>\n",
       "    <tr>\n",
       "      <th>10440</th>\n",
       "      <td>ZWE</td>\n",
       "      <td>2003</td>\n",
       "      <td>932.160668</td>\n",
       "    </tr>\n",
       "    <tr>\n",
       "      <th>10441</th>\n",
       "      <td>ZWE</td>\n",
       "      <td>2004</td>\n",
       "      <td>868.156437</td>\n",
       "    </tr>\n",
       "    <tr>\n",
       "      <th>10442</th>\n",
       "      <td>ZWE</td>\n",
       "      <td>2005</td>\n",
       "      <td>808.294356</td>\n",
       "    </tr>\n",
       "    <tr>\n",
       "      <th>10443</th>\n",
       "      <td>ZWE</td>\n",
       "      <td>2006</td>\n",
       "      <td>769.361427</td>\n",
       "    </tr>\n",
       "    <tr>\n",
       "      <th>10444</th>\n",
       "      <td>ZWE</td>\n",
       "      <td>2007</td>\n",
       "      <td>729.818727</td>\n",
       "    </tr>\n",
       "    <tr>\n",
       "      <th>10445</th>\n",
       "      <td>ZWE</td>\n",
       "      <td>2008</td>\n",
       "      <td>590.738407</td>\n",
       "    </tr>\n",
       "    <tr>\n",
       "      <th>10446</th>\n",
       "      <td>ZWE</td>\n",
       "      <td>2009</td>\n",
       "      <td>630.463205</td>\n",
       "    </tr>\n",
       "    <tr>\n",
       "      <th>10447</th>\n",
       "      <td>ZWE</td>\n",
       "      <td>2010</td>\n",
       "      <td>713.603506</td>\n",
       "    </tr>\n",
       "    <tr>\n",
       "      <th>10448</th>\n",
       "      <td>ZWE</td>\n",
       "      <td>2011</td>\n",
       "      <td>812.822513</td>\n",
       "    </tr>\n",
       "    <tr>\n",
       "      <th>10449</th>\n",
       "      <td>ZWE</td>\n",
       "      <td>2012</td>\n",
       "      <td>903.091388</td>\n",
       "    </tr>\n",
       "    <tr>\n",
       "      <th>10450</th>\n",
       "      <td>ZWE</td>\n",
       "      <td>2013</td>\n",
       "      <td>928.984217</td>\n",
       "    </tr>\n",
       "    <tr>\n",
       "      <th>10451</th>\n",
       "      <td>ZWE</td>\n",
       "      <td>2014</td>\n",
       "      <td>932.548383</td>\n",
       "    </tr>\n",
       "    <tr>\n",
       "      <th>10452</th>\n",
       "      <td>ZWE</td>\n",
       "      <td>2015</td>\n",
       "      <td>923.899697</td>\n",
       "    </tr>\n",
       "  </tbody>\n",
       "</table>\n",
       "<p>10453 rows × 3 columns</p>\n",
       "</div>"
      ],
      "text/plain": [
       "      country_code year  gdp_per_capita_constant2010USD\n",
       "0              ABW 2010                    24271.940421\n",
       "1              AFG 2002                      364.570573\n",
       "2              AFG 2003                      376.758714\n",
       "3              AFG 2004                      364.095436\n",
       "4              AFG 2005                      389.416358\n",
       "5              AFG 2006                      397.985905\n",
       "6              AFG 2007                      440.368155\n",
       "7              AFG 2008                      444.950138\n",
       "8              AFG 2009                      524.823533\n",
       "9              AFG 2010                      553.300289\n",
       "10             AFG 2011                      569.233388\n",
       "11             AFG 2012                      630.427413\n",
       "12             AFG 2013                      621.818079\n",
       "13             AFG 2014                      610.241924\n",
       "14             AFG 2015                      599.135196\n",
       "15             AGO 1985                     2574.051243\n",
       "16             AGO 1986                     2570.529506\n",
       "17             AGO 1987                     2700.114031\n",
       "18             AGO 1988                     2778.093232\n",
       "19             AGO 1989                     2715.327687\n",
       "20             AGO 1990                     2630.623573\n",
       "21             AGO 1991                     2519.966060\n",
       "22             AGO 1992                     2271.029500\n",
       "23             AGO 1993                     1654.537089\n",
       "24             AGO 1994                     1658.310094\n",
       "25             AGO 1995                     1775.899461\n",
       "26             AGO 1996                     1919.211766\n",
       "27             AGO 1997                     2015.013922\n",
       "28             AGO 1998                     2094.478528\n",
       "29             AGO 1999                     2101.945334\n",
       "...            ...  ...                             ...\n",
       "10423          ZWE 1986                     1173.811942\n",
       "10424          ZWE 1987                     1146.809220\n",
       "10425          ZWE 1988                     1193.478318\n",
       "10426          ZWE 1989                     1217.723007\n",
       "10427          ZWE 1990                     1266.927804\n",
       "10428          ZWE 1991                     1303.732933\n",
       "10429          ZWE 1992                     1159.564523\n",
       "10430          ZWE 1993                     1147.808909\n",
       "10431          ZWE 1994                     1229.992312\n",
       "10432          ZWE 1995                     1209.801241\n",
       "10433          ZWE 1996                     1312.203547\n",
       "10434          ZWE 1997                     1325.316942\n",
       "10435          ZWE 1998                     1342.542796\n",
       "10436          ZWE 1999                     1312.660679\n",
       "10437          ZWE 2000                     1256.083710\n",
       "10438          ZWE 2001                     1259.338084\n",
       "10439          ZWE 2002                     1135.000333\n",
       "10440          ZWE 2003                      932.160668\n",
       "10441          ZWE 2004                      868.156437\n",
       "10442          ZWE 2005                      808.294356\n",
       "10443          ZWE 2006                      769.361427\n",
       "10444          ZWE 2007                      729.818727\n",
       "10445          ZWE 2008                      590.738407\n",
       "10446          ZWE 2009                      630.463205\n",
       "10447          ZWE 2010                      713.603506\n",
       "10448          ZWE 2011                      812.822513\n",
       "10449          ZWE 2012                      903.091388\n",
       "10450          ZWE 2013                      928.984217\n",
       "10451          ZWE 2014                      932.548383\n",
       "10452          ZWE 2015                      923.899697\n",
       "\n",
       "[10453 rows x 3 columns]"
      ]
     },
     "execution_count": 72,
     "metadata": {},
     "output_type": "execute_result"
    }
   ],
   "source": [
    "pd.DataFrame(gdp_per_capita_nonmissing.reset_index())"
   ]
  },
  {
   "cell_type": "code",
   "execution_count": 75,
   "metadata": {
    "collapsed": false
   },
   "outputs": [
    {
     "ename": "KeyError",
     "evalue": "'country_code'",
     "output_type": "error",
     "traceback": [
      "\u001b[0;31m---------------------------------------------------------------------------\u001b[0m",
      "\u001b[0;31mTypeError\u001b[0m                                 Traceback (most recent call last)",
      "\u001b[0;32mpandas\\index.pyx\u001b[0m in \u001b[0;36mpandas.index.IndexEngine.get_loc (pandas\\index.c:4279)\u001b[0;34m()\u001b[0m\n",
      "\u001b[0;32mpandas\\src\\hashtable_class_helper.pxi\u001b[0m in \u001b[0;36mpandas.hashtable.Float64HashTable.get_item (pandas\\hashtable.c:5110)\u001b[0;34m()\u001b[0m\n",
      "\u001b[0;31mTypeError\u001b[0m: must be real number, not str",
      "\nDuring handling of the above exception, another exception occurred:\n",
      "\u001b[0;31mKeyError\u001b[0m                                  Traceback (most recent call last)",
      "\u001b[0;32mC:\\Users\\agomez\\AppData\\Local\\Continuum\\Anaconda3\\lib\\site-packages\\pandas\\indexes\\base.py\u001b[0m in \u001b[0;36mget_loc\u001b[0;34m(self, key, method, tolerance)\u001b[0m\n\u001b[1;32m   2133\u001b[0m             \u001b[1;32mtry\u001b[0m\u001b[1;33m:\u001b[0m\u001b[1;33m\u001b[0m\u001b[0m\n\u001b[0;32m-> 2134\u001b[0;31m                 \u001b[1;32mreturn\u001b[0m \u001b[0mself\u001b[0m\u001b[1;33m.\u001b[0m\u001b[0m_engine\u001b[0m\u001b[1;33m.\u001b[0m\u001b[0mget_loc\u001b[0m\u001b[1;33m(\u001b[0m\u001b[0mkey\u001b[0m\u001b[1;33m)\u001b[0m\u001b[1;33m\u001b[0m\u001b[0m\n\u001b[0m\u001b[1;32m   2135\u001b[0m             \u001b[1;32mexcept\u001b[0m \u001b[0mKeyError\u001b[0m\u001b[1;33m:\u001b[0m\u001b[1;33m\u001b[0m\u001b[0m\n",
      "\u001b[0;32mpandas\\index.pyx\u001b[0m in \u001b[0;36mpandas.index.IndexEngine.get_loc (pandas\\index.c:4433)\u001b[0;34m()\u001b[0m\n",
      "\u001b[0;32mpandas\\index.pyx\u001b[0m in \u001b[0;36mpandas.index.IndexEngine.get_loc (pandas\\index.c:4363)\u001b[0;34m()\u001b[0m\n",
      "\u001b[0;31mKeyError\u001b[0m: 'country_code'",
      "\nDuring handling of the above exception, another exception occurred:\n",
      "\u001b[0;31mTypeError\u001b[0m                                 Traceback (most recent call last)",
      "\u001b[0;32mpandas\\index.pyx\u001b[0m in \u001b[0;36mpandas.index.IndexEngine.get_loc (pandas\\index.c:4279)\u001b[0;34m()\u001b[0m\n",
      "\u001b[0;32mpandas\\src\\hashtable_class_helper.pxi\u001b[0m in \u001b[0;36mpandas.hashtable.Float64HashTable.get_item (pandas\\hashtable.c:5110)\u001b[0;34m()\u001b[0m\n",
      "\u001b[0;31mTypeError\u001b[0m: must be real number, not str",
      "\nDuring handling of the above exception, another exception occurred:\n",
      "\u001b[0;31mKeyError\u001b[0m                                  Traceback (most recent call last)",
      "\u001b[0;32m<ipython-input-75-7f04f5cfab2e>\u001b[0m in \u001b[0;36m<module>\u001b[0;34m()\u001b[0m\n\u001b[1;32m      2\u001b[0m         \u001b[0mpd\u001b[0m\u001b[1;33m.\u001b[0m\u001b[0mDataFrame\u001b[0m\u001b[1;33m(\u001b[0m\u001b[0mXcp_df\u001b[0m\u001b[1;33m)\u001b[0m\u001b[1;33m,\u001b[0m\u001b[1;33m\u001b[0m\u001b[0m\n\u001b[1;32m      3\u001b[0m         \u001b[0mpd\u001b[0m\u001b[1;33m.\u001b[0m\u001b[0mDataFrame\u001b[0m\u001b[1;33m(\u001b[0m\u001b[0mgdp_per_capita_nonmissing\u001b[0m\u001b[1;33m.\u001b[0m\u001b[0mapply\u001b[0m\u001b[1;33m(\u001b[0m\u001b[0mnp\u001b[0m\u001b[1;33m.\u001b[0m\u001b[0mlog\u001b[0m\u001b[1;33m)\u001b[0m\u001b[1;33m.\u001b[0m\u001b[0mreset_index\u001b[0m\u001b[1;33m(\u001b[0m\u001b[1;33m)\u001b[0m\u001b[1;33m)\u001b[0m\u001b[1;33m,\u001b[0m\u001b[1;33m\u001b[0m\u001b[0m\n\u001b[0;32m----> 4\u001b[0;31m         on=['country_code', 'year'])\n\u001b[0m",
      "\u001b[0;32mC:\\Users\\agomez\\AppData\\Local\\Continuum\\Anaconda3\\lib\\site-packages\\pandas\\tools\\merge.py\u001b[0m in \u001b[0;36mmerge\u001b[0;34m(left, right, how, on, left_on, right_on, left_index, right_index, sort, suffixes, copy, indicator)\u001b[0m\n\u001b[1;32m     59\u001b[0m                          \u001b[0mright_on\u001b[0m\u001b[1;33m=\u001b[0m\u001b[0mright_on\u001b[0m\u001b[1;33m,\u001b[0m \u001b[0mleft_index\u001b[0m\u001b[1;33m=\u001b[0m\u001b[0mleft_index\u001b[0m\u001b[1;33m,\u001b[0m\u001b[1;33m\u001b[0m\u001b[0m\n\u001b[1;32m     60\u001b[0m                          \u001b[0mright_index\u001b[0m\u001b[1;33m=\u001b[0m\u001b[0mright_index\u001b[0m\u001b[1;33m,\u001b[0m \u001b[0msort\u001b[0m\u001b[1;33m=\u001b[0m\u001b[0msort\u001b[0m\u001b[1;33m,\u001b[0m \u001b[0msuffixes\u001b[0m\u001b[1;33m=\u001b[0m\u001b[0msuffixes\u001b[0m\u001b[1;33m,\u001b[0m\u001b[1;33m\u001b[0m\u001b[0m\n\u001b[0;32m---> 61\u001b[0;31m                          copy=copy, indicator=indicator)\n\u001b[0m\u001b[1;32m     62\u001b[0m     \u001b[1;32mreturn\u001b[0m \u001b[0mop\u001b[0m\u001b[1;33m.\u001b[0m\u001b[0mget_result\u001b[0m\u001b[1;33m(\u001b[0m\u001b[1;33m)\u001b[0m\u001b[1;33m\u001b[0m\u001b[0m\n\u001b[1;32m     63\u001b[0m \u001b[1;32mif\u001b[0m \u001b[0m__debug__\u001b[0m\u001b[1;33m:\u001b[0m\u001b[1;33m\u001b[0m\u001b[0m\n",
      "\u001b[0;32mC:\\Users\\agomez\\AppData\\Local\\Continuum\\Anaconda3\\lib\\site-packages\\pandas\\tools\\merge.py\u001b[0m in \u001b[0;36m__init__\u001b[0;34m(self, left, right, how, on, left_on, right_on, axis, left_index, right_index, sort, suffixes, copy, indicator)\u001b[0m\n\u001b[1;32m    541\u001b[0m         (self.left_join_keys,\n\u001b[1;32m    542\u001b[0m          \u001b[0mself\u001b[0m\u001b[1;33m.\u001b[0m\u001b[0mright_join_keys\u001b[0m\u001b[1;33m,\u001b[0m\u001b[1;33m\u001b[0m\u001b[0m\n\u001b[0;32m--> 543\u001b[0;31m          self.join_names) = self._get_merge_keys()\n\u001b[0m\u001b[1;32m    544\u001b[0m \u001b[1;33m\u001b[0m\u001b[0m\n\u001b[1;32m    545\u001b[0m     \u001b[1;32mdef\u001b[0m \u001b[0mget_result\u001b[0m\u001b[1;33m(\u001b[0m\u001b[0mself\u001b[0m\u001b[1;33m)\u001b[0m\u001b[1;33m:\u001b[0m\u001b[1;33m\u001b[0m\u001b[0m\n",
      "\u001b[0;32mC:\\Users\\agomez\\AppData\\Local\\Continuum\\Anaconda3\\lib\\site-packages\\pandas\\tools\\merge.py\u001b[0m in \u001b[0;36m_get_merge_keys\u001b[0;34m(self)\u001b[0m\n\u001b[1;32m    821\u001b[0m                         \u001b[0mright_keys\u001b[0m\u001b[1;33m.\u001b[0m\u001b[0mappend\u001b[0m\u001b[1;33m(\u001b[0m\u001b[0mrk\u001b[0m\u001b[1;33m)\u001b[0m\u001b[1;33m\u001b[0m\u001b[0m\n\u001b[1;32m    822\u001b[0m                     \u001b[1;32mif\u001b[0m \u001b[0mlk\u001b[0m \u001b[1;32mis\u001b[0m \u001b[1;32mnot\u001b[0m \u001b[1;32mNone\u001b[0m\u001b[1;33m:\u001b[0m\u001b[1;33m\u001b[0m\u001b[0m\n\u001b[0;32m--> 823\u001b[0;31m                         \u001b[0mleft_keys\u001b[0m\u001b[1;33m.\u001b[0m\u001b[0mappend\u001b[0m\u001b[1;33m(\u001b[0m\u001b[0mleft\u001b[0m\u001b[1;33m[\u001b[0m\u001b[0mlk\u001b[0m\u001b[1;33m]\u001b[0m\u001b[1;33m.\u001b[0m\u001b[0m_values\u001b[0m\u001b[1;33m)\u001b[0m\u001b[1;33m\u001b[0m\u001b[0m\n\u001b[0m\u001b[1;32m    824\u001b[0m                         \u001b[0mjoin_names\u001b[0m\u001b[1;33m.\u001b[0m\u001b[0mappend\u001b[0m\u001b[1;33m(\u001b[0m\u001b[0mlk\u001b[0m\u001b[1;33m)\u001b[0m\u001b[1;33m\u001b[0m\u001b[0m\n\u001b[1;32m    825\u001b[0m                     \u001b[1;32melse\u001b[0m\u001b[1;33m:\u001b[0m\u001b[1;33m\u001b[0m\u001b[0m\n",
      "\u001b[0;32mC:\\Users\\agomez\\AppData\\Local\\Continuum\\Anaconda3\\lib\\site-packages\\pandas\\core\\frame.py\u001b[0m in \u001b[0;36m__getitem__\u001b[0;34m(self, key)\u001b[0m\n\u001b[1;32m   2057\u001b[0m             \u001b[1;32mreturn\u001b[0m \u001b[0mself\u001b[0m\u001b[1;33m.\u001b[0m\u001b[0m_getitem_multilevel\u001b[0m\u001b[1;33m(\u001b[0m\u001b[0mkey\u001b[0m\u001b[1;33m)\u001b[0m\u001b[1;33m\u001b[0m\u001b[0m\n\u001b[1;32m   2058\u001b[0m         \u001b[1;32melse\u001b[0m\u001b[1;33m:\u001b[0m\u001b[1;33m\u001b[0m\u001b[0m\n\u001b[0;32m-> 2059\u001b[0;31m             \u001b[1;32mreturn\u001b[0m \u001b[0mself\u001b[0m\u001b[1;33m.\u001b[0m\u001b[0m_getitem_column\u001b[0m\u001b[1;33m(\u001b[0m\u001b[0mkey\u001b[0m\u001b[1;33m)\u001b[0m\u001b[1;33m\u001b[0m\u001b[0m\n\u001b[0m\u001b[1;32m   2060\u001b[0m \u001b[1;33m\u001b[0m\u001b[0m\n\u001b[1;32m   2061\u001b[0m     \u001b[1;32mdef\u001b[0m \u001b[0m_getitem_column\u001b[0m\u001b[1;33m(\u001b[0m\u001b[0mself\u001b[0m\u001b[1;33m,\u001b[0m \u001b[0mkey\u001b[0m\u001b[1;33m)\u001b[0m\u001b[1;33m:\u001b[0m\u001b[1;33m\u001b[0m\u001b[0m\n",
      "\u001b[0;32mC:\\Users\\agomez\\AppData\\Local\\Continuum\\Anaconda3\\lib\\site-packages\\pandas\\core\\frame.py\u001b[0m in \u001b[0;36m_getitem_column\u001b[0;34m(self, key)\u001b[0m\n\u001b[1;32m   2064\u001b[0m         \u001b[1;31m# get column\u001b[0m\u001b[1;33m\u001b[0m\u001b[1;33m\u001b[0m\u001b[0m\n\u001b[1;32m   2065\u001b[0m         \u001b[1;32mif\u001b[0m \u001b[0mself\u001b[0m\u001b[1;33m.\u001b[0m\u001b[0mcolumns\u001b[0m\u001b[1;33m.\u001b[0m\u001b[0mis_unique\u001b[0m\u001b[1;33m:\u001b[0m\u001b[1;33m\u001b[0m\u001b[0m\n\u001b[0;32m-> 2066\u001b[0;31m             \u001b[1;32mreturn\u001b[0m \u001b[0mself\u001b[0m\u001b[1;33m.\u001b[0m\u001b[0m_get_item_cache\u001b[0m\u001b[1;33m(\u001b[0m\u001b[0mkey\u001b[0m\u001b[1;33m)\u001b[0m\u001b[1;33m\u001b[0m\u001b[0m\n\u001b[0m\u001b[1;32m   2067\u001b[0m \u001b[1;33m\u001b[0m\u001b[0m\n\u001b[1;32m   2068\u001b[0m         \u001b[1;31m# duplicate columns & possible reduce dimensionality\u001b[0m\u001b[1;33m\u001b[0m\u001b[1;33m\u001b[0m\u001b[0m\n",
      "\u001b[0;32mC:\\Users\\agomez\\AppData\\Local\\Continuum\\Anaconda3\\lib\\site-packages\\pandas\\core\\generic.py\u001b[0m in \u001b[0;36m_get_item_cache\u001b[0;34m(self, item)\u001b[0m\n\u001b[1;32m   1384\u001b[0m         \u001b[0mres\u001b[0m \u001b[1;33m=\u001b[0m \u001b[0mcache\u001b[0m\u001b[1;33m.\u001b[0m\u001b[0mget\u001b[0m\u001b[1;33m(\u001b[0m\u001b[0mitem\u001b[0m\u001b[1;33m)\u001b[0m\u001b[1;33m\u001b[0m\u001b[0m\n\u001b[1;32m   1385\u001b[0m         \u001b[1;32mif\u001b[0m \u001b[0mres\u001b[0m \u001b[1;32mis\u001b[0m \u001b[1;32mNone\u001b[0m\u001b[1;33m:\u001b[0m\u001b[1;33m\u001b[0m\u001b[0m\n\u001b[0;32m-> 1386\u001b[0;31m             \u001b[0mvalues\u001b[0m \u001b[1;33m=\u001b[0m \u001b[0mself\u001b[0m\u001b[1;33m.\u001b[0m\u001b[0m_data\u001b[0m\u001b[1;33m.\u001b[0m\u001b[0mget\u001b[0m\u001b[1;33m(\u001b[0m\u001b[0mitem\u001b[0m\u001b[1;33m)\u001b[0m\u001b[1;33m\u001b[0m\u001b[0m\n\u001b[0m\u001b[1;32m   1387\u001b[0m             \u001b[0mres\u001b[0m \u001b[1;33m=\u001b[0m \u001b[0mself\u001b[0m\u001b[1;33m.\u001b[0m\u001b[0m_box_item_values\u001b[0m\u001b[1;33m(\u001b[0m\u001b[0mitem\u001b[0m\u001b[1;33m,\u001b[0m \u001b[0mvalues\u001b[0m\u001b[1;33m)\u001b[0m\u001b[1;33m\u001b[0m\u001b[0m\n\u001b[1;32m   1388\u001b[0m             \u001b[0mcache\u001b[0m\u001b[1;33m[\u001b[0m\u001b[0mitem\u001b[0m\u001b[1;33m]\u001b[0m \u001b[1;33m=\u001b[0m \u001b[0mres\u001b[0m\u001b[1;33m\u001b[0m\u001b[0m\n",
      "\u001b[0;32mC:\\Users\\agomez\\AppData\\Local\\Continuum\\Anaconda3\\lib\\site-packages\\pandas\\core\\internals.py\u001b[0m in \u001b[0;36mget\u001b[0;34m(self, item, fastpath)\u001b[0m\n\u001b[1;32m   3541\u001b[0m \u001b[1;33m\u001b[0m\u001b[0m\n\u001b[1;32m   3542\u001b[0m             \u001b[1;32mif\u001b[0m \u001b[1;32mnot\u001b[0m \u001b[0misnull\u001b[0m\u001b[1;33m(\u001b[0m\u001b[0mitem\u001b[0m\u001b[1;33m)\u001b[0m\u001b[1;33m:\u001b[0m\u001b[1;33m\u001b[0m\u001b[0m\n\u001b[0;32m-> 3543\u001b[0;31m                 \u001b[0mloc\u001b[0m \u001b[1;33m=\u001b[0m \u001b[0mself\u001b[0m\u001b[1;33m.\u001b[0m\u001b[0mitems\u001b[0m\u001b[1;33m.\u001b[0m\u001b[0mget_loc\u001b[0m\u001b[1;33m(\u001b[0m\u001b[0mitem\u001b[0m\u001b[1;33m)\u001b[0m\u001b[1;33m\u001b[0m\u001b[0m\n\u001b[0m\u001b[1;32m   3544\u001b[0m             \u001b[1;32melse\u001b[0m\u001b[1;33m:\u001b[0m\u001b[1;33m\u001b[0m\u001b[0m\n\u001b[1;32m   3545\u001b[0m                 \u001b[0mindexer\u001b[0m \u001b[1;33m=\u001b[0m \u001b[0mnp\u001b[0m\u001b[1;33m.\u001b[0m\u001b[0marange\u001b[0m\u001b[1;33m(\u001b[0m\u001b[0mlen\u001b[0m\u001b[1;33m(\u001b[0m\u001b[0mself\u001b[0m\u001b[1;33m.\u001b[0m\u001b[0mitems\u001b[0m\u001b[1;33m)\u001b[0m\u001b[1;33m)\u001b[0m\u001b[1;33m[\u001b[0m\u001b[0misnull\u001b[0m\u001b[1;33m(\u001b[0m\u001b[0mself\u001b[0m\u001b[1;33m.\u001b[0m\u001b[0mitems\u001b[0m\u001b[1;33m)\u001b[0m\u001b[1;33m]\u001b[0m\u001b[1;33m\u001b[0m\u001b[0m\n",
      "\u001b[0;32mC:\\Users\\agomez\\AppData\\Local\\Continuum\\Anaconda3\\lib\\site-packages\\pandas\\indexes\\numeric.py\u001b[0m in \u001b[0;36mget_loc\u001b[0;34m(self, key, method, tolerance)\u001b[0m\n\u001b[1;32m    339\u001b[0m             \u001b[1;32mpass\u001b[0m\u001b[1;33m\u001b[0m\u001b[0m\n\u001b[1;32m    340\u001b[0m         return super(Float64Index, self).get_loc(key, method=method,\n\u001b[0;32m--> 341\u001b[0;31m                                                  tolerance=tolerance)\n\u001b[0m\u001b[1;32m    342\u001b[0m \u001b[1;33m\u001b[0m\u001b[0m\n\u001b[1;32m    343\u001b[0m     \u001b[1;33m@\u001b[0m\u001b[0mproperty\u001b[0m\u001b[1;33m\u001b[0m\u001b[0m\n",
      "\u001b[0;32mC:\\Users\\agomez\\AppData\\Local\\Continuum\\Anaconda3\\lib\\site-packages\\pandas\\indexes\\base.py\u001b[0m in \u001b[0;36mget_loc\u001b[0;34m(self, key, method, tolerance)\u001b[0m\n\u001b[1;32m   2134\u001b[0m                 \u001b[1;32mreturn\u001b[0m \u001b[0mself\u001b[0m\u001b[1;33m.\u001b[0m\u001b[0m_engine\u001b[0m\u001b[1;33m.\u001b[0m\u001b[0mget_loc\u001b[0m\u001b[1;33m(\u001b[0m\u001b[0mkey\u001b[0m\u001b[1;33m)\u001b[0m\u001b[1;33m\u001b[0m\u001b[0m\n\u001b[1;32m   2135\u001b[0m             \u001b[1;32mexcept\u001b[0m \u001b[0mKeyError\u001b[0m\u001b[1;33m:\u001b[0m\u001b[1;33m\u001b[0m\u001b[0m\n\u001b[0;32m-> 2136\u001b[0;31m                 \u001b[1;32mreturn\u001b[0m \u001b[0mself\u001b[0m\u001b[1;33m.\u001b[0m\u001b[0m_engine\u001b[0m\u001b[1;33m.\u001b[0m\u001b[0mget_loc\u001b[0m\u001b[1;33m(\u001b[0m\u001b[0mself\u001b[0m\u001b[1;33m.\u001b[0m\u001b[0m_maybe_cast_indexer\u001b[0m\u001b[1;33m(\u001b[0m\u001b[0mkey\u001b[0m\u001b[1;33m)\u001b[0m\u001b[1;33m)\u001b[0m\u001b[1;33m\u001b[0m\u001b[0m\n\u001b[0m\u001b[1;32m   2137\u001b[0m \u001b[1;33m\u001b[0m\u001b[0m\n\u001b[1;32m   2138\u001b[0m         \u001b[0mindexer\u001b[0m \u001b[1;33m=\u001b[0m \u001b[0mself\u001b[0m\u001b[1;33m.\u001b[0m\u001b[0mget_indexer\u001b[0m\u001b[1;33m(\u001b[0m\u001b[1;33m[\u001b[0m\u001b[0mkey\u001b[0m\u001b[1;33m]\u001b[0m\u001b[1;33m,\u001b[0m \u001b[0mmethod\u001b[0m\u001b[1;33m=\u001b[0m\u001b[0mmethod\u001b[0m\u001b[1;33m,\u001b[0m \u001b[0mtolerance\u001b[0m\u001b[1;33m=\u001b[0m\u001b[0mtolerance\u001b[0m\u001b[1;33m)\u001b[0m\u001b[1;33m\u001b[0m\u001b[0m\n",
      "\u001b[0;32mpandas\\index.pyx\u001b[0m in \u001b[0;36mpandas.index.IndexEngine.get_loc (pandas\\index.c:4433)\u001b[0;34m()\u001b[0m\n",
      "\u001b[0;32mpandas\\index.pyx\u001b[0m in \u001b[0;36mpandas.index.IndexEngine.get_loc (pandas\\index.c:4363)\u001b[0;34m()\u001b[0m\n",
      "\u001b[0;31mKeyError\u001b[0m: 'country_code'"
     ]
    }
   ],
   "source": [
    "newXcp_and_gdppc = pd.merge(\n",
    "        pd.DataFrame(exports_long_hidalgo_filter),\n",
    "        pd.DataFrame(gdp_per_capita_nonmissing.apply(np.log).reset_index()),\n",
    "        on=['country_code', 'year'])"
   ]
  },
  {
   "cell_type": "code",
   "execution_count": 74,
   "metadata": {
    "collapsed": false
   },
   "outputs": [
    {
     "data": {
      "text/html": [
       "<div>\n",
       "<table border=\"1\" class=\"dataframe\">\n",
       "  <thead>\n",
       "    <tr style=\"text-align: right;\">\n",
       "      <th></th>\n",
       "      <th>country_code</th>\n",
       "      <th>product_code</th>\n",
       "      <th>year</th>\n",
       "      <th>export_value</th>\n",
       "      <th>export_rca</th>\n",
       "      <th>country_group</th>\n",
       "      <th>country_name</th>\n",
       "      <th>product_group</th>\n",
       "      <th>product_name</th>\n",
       "      <th>export_value_is_zero</th>\n",
       "      <th>gdp_per_capita_constant2010USD</th>\n",
       "    </tr>\n",
       "  </thead>\n",
       "  <tbody>\n",
       "  </tbody>\n",
       "</table>\n",
       "</div>"
      ],
      "text/plain": [
       "Empty DataFrame\n",
       "Columns: [country_code, product_code, year, export_value, export_rca, country_group, country_name, product_group, product_name, export_value_is_zero, gdp_per_capita_constant2010USD]\n",
       "Index: []"
      ]
     },
     "execution_count": 74,
     "metadata": {},
     "output_type": "execute_result"
    }
   ],
   "source": [
    "newXcp_and_gdppc"
   ]
  },
  {
   "cell_type": "code",
   "execution_count": 44,
   "metadata": {
    "collapsed": false
   },
   "outputs": [
    {
     "data": {
      "text/html": [
       "<div>\n",
       "<table border=\"1\" class=\"dataframe\">\n",
       "  <thead>\n",
       "    <tr style=\"text-align: right;\">\n",
       "      <th></th>\n",
       "      <th></th>\n",
       "      <th>index</th>\n",
       "      <th>product_code</th>\n",
       "      <th>export_value</th>\n",
       "      <th>export_rca</th>\n",
       "      <th>country_group</th>\n",
       "      <th>country_name</th>\n",
       "      <th>product_group</th>\n",
       "      <th>product_name</th>\n",
       "      <th>export_value_is_zero</th>\n",
       "      <th>gdp_per_capita_constant2010USD</th>\n",
       "    </tr>\n",
       "    <tr>\n",
       "      <th>country_code</th>\n",
       "      <th>year</th>\n",
       "      <th></th>\n",
       "      <th></th>\n",
       "      <th></th>\n",
       "      <th></th>\n",
       "      <th></th>\n",
       "      <th></th>\n",
       "      <th></th>\n",
       "      <th></th>\n",
       "      <th></th>\n",
       "      <th></th>\n",
       "    </tr>\n",
       "  </thead>\n",
       "  <tbody>\n",
       "  </tbody>\n",
       "</table>\n",
       "</div>"
      ],
      "text/plain": [
       "Empty DataFrame\n",
       "Columns: [index, product_code, export_value, export_rca, country_group, country_name, product_group, product_name, export_value_is_zero, gdp_per_capita_constant2010USD]\n",
       "Index: []"
      ]
     },
     "execution_count": 44,
     "metadata": {},
     "output_type": "execute_result"
    }
   ],
   "source": [
    "newXcp_and_gdppc.head()"
   ]
  },
  {
   "cell_type": "code",
   "execution_count": null,
   "metadata": {
    "collapsed": true
   },
   "outputs": [],
   "source": [
    "pca = PCAsomeColumns(n_components=2, exclude_columns=['ECI','FITNESS','ECIplus','gdp_per_capita_constant2010USD'])\n",
    "pca.fit(newXcp_and_gdppc)"
   ]
  },
  {
   "cell_type": "code",
   "execution_count": 47,
   "metadata": {
    "collapsed": false
   },
   "outputs": [
    {
     "data": {
      "text/plain": [
       "country_code  year\n",
       "ABW           2010    24271.940421\n",
       "AFG           2002      364.570573\n",
       "              2003      376.758714\n",
       "              2004      364.095436\n",
       "              2005      389.416358\n",
       "Name: gdp_per_capita_constant2010USD, dtype: float64"
      ]
     },
     "execution_count": 47,
     "metadata": {},
     "output_type": "execute_result"
    }
   ],
   "source": [
    "gdp_per_capita_nonmissing.head()"
   ]
  },
  {
   "cell_type": "code",
   "execution_count": null,
   "metadata": {
    "collapsed": true
   },
   "outputs": [],
   "source": [
    "def append_gdppc(df):\n",
    "    df_copy = df.copy()\n",
    "    if 'product_code' in df_copy.columns.names:\n",
    "        df_copy.columns = [int(product_code) for product_code in df.columns.get_level_values('product_code')]\n",
    "    result = pd.merge(\n",
    "        df_copy.reset_index(),\n",
    "        gdp_per_capita_nonmissing.apply(np.log).reset_index(),\n",
    "        on=['country_code', 'year']).set_index(['country_code', 'year'])\n",
    "    result.name = df.name\n",
    "    result.filename = df.filename\n",
    "    return result"
   ]
  },
  {
   "cell_type": "code",
   "execution_count": null,
   "metadata": {
    "collapsed": true
   },
   "outputs": [],
   "source": []
  },
  {
   "cell_type": "markdown",
   "metadata": {},
   "source": [
    "## CALCULATING THE COMPLEXITY-TYPE VARIABLES FOR ALL COUNTRIES AND ALL YEARS"
   ]
  },
  {
   "cell_type": "code",
   "execution_count": 150,
   "metadata": {
    "collapsed": false
   },
   "outputs": [],
   "source": [
    "xties_df = myfuncs.create_complexity_series(exports_long_hidalgo_filter)"
   ]
  },
  {
   "cell_type": "code",
   "execution_count": 151,
   "metadata": {
    "collapsed": false
   },
   "outputs": [],
   "source": [
    "xties_df.ECI = xties_df.ECI.astype('float')\n",
    "xties_df.FITNESS = xties_df.FITNESS.astype('float')\n",
    "xties_df.ECIplus = xties_df.ECIplus.astype('float')"
   ]
  },
  {
   "cell_type": "code",
   "execution_count": 152,
   "metadata": {
    "collapsed": false
   },
   "outputs": [
    {
     "data": {
      "text/plain": [
       "array([[ 1.        ,  0.70204395,  0.377417  ],\n",
       "       [ 0.70204395,  1.        ,  0.71511863],\n",
       "       [ 0.377417  ,  0.71511863,  1.        ]])"
      ]
     },
     "execution_count": 152,
     "metadata": {},
     "output_type": "execute_result"
    }
   ],
   "source": [
    "np.corrcoef([xties_df.ECI.values, xties_df.FITNESS.values, xties_df.ECIplus.values])\n"
   ]
  },
  {
   "cell_type": "code",
   "execution_count": 169,
   "metadata": {
    "collapsed": true
   },
   "outputs": [],
   "source": [
    "xties_df.to_csv('C:\\\\Users\\\\agomez\\\\Dropbox\\\\Identify laws and dynamical systems in socioeconomic data\\\\Trade data\\\\country_ECI_FITNESS_ECIplus.csv')"
   ]
  },
  {
   "cell_type": "code",
   "execution_count": 153,
   "metadata": {
    "collapsed": false
   },
   "outputs": [
    {
     "data": {
      "image/png": "[encoded data removed]",
      "text/plain": [
       "<matplotlib.figure.Figure at 0xe76e278>"
      ]
     },
     "metadata": {},
     "output_type": "display_data"
    },
    {
     "data": {
      "image/png": "[encoded data removed]",
      "text/plain": [
       "<matplotlib.figure.Figure at 0xa4a6e48>"
      ]
     },
     "metadata": {},
     "output_type": "display_data"
    },
    {
     "data": {
      "image/png": "[encoded data removed]",
      "text/plain": [
       "<matplotlib.figure.Figure at 0xe880e10>"
      ]
     },
     "metadata": {},
     "output_type": "display_data"
    }
   ],
   "source": [
    "plt.hist(xties_df.ECI.values)\n",
    "plt.show()\n",
    "\n",
    "plt.hist(xties_df.FITNESS.values)\n",
    "plt.show()\n",
    "\n",
    "plt.hist(xties_df.ECIplus.values)\n",
    "plt.show()"
   ]
  },
  {
   "cell_type": "code",
   "execution_count": 154,
   "metadata": {
    "collapsed": false
   },
   "outputs": [
    {
     "data": {
      "text/html": [
       "<div>\n",
       "<table border=\"1\" class=\"dataframe\">\n",
       "  <thead>\n",
       "    <tr style=\"text-align: right;\">\n",
       "      <th></th>\n",
       "      <th>ECI</th>\n",
       "      <th>FITNESS</th>\n",
       "      <th>ECIplus</th>\n",
       "    </tr>\n",
       "  </thead>\n",
       "  <tbody>\n",
       "    <tr>\n",
       "      <th>count</th>\n",
       "      <td>6.158000e+03</td>\n",
       "      <td>6.158000e+03</td>\n",
       "      <td>6158.000000</td>\n",
       "    </tr>\n",
       "    <tr>\n",
       "      <th>mean</th>\n",
       "      <td>-4.015427e-15</td>\n",
       "      <td>1.000000e+00</td>\n",
       "      <td>29.552677</td>\n",
       "    </tr>\n",
       "    <tr>\n",
       "      <th>std</th>\n",
       "      <td>1.000081e+00</td>\n",
       "      <td>1.844329e+00</td>\n",
       "      <td>135.320675</td>\n",
       "    </tr>\n",
       "    <tr>\n",
       "      <th>min</th>\n",
       "      <td>-3.560447e+00</td>\n",
       "      <td>2.916919e-49</td>\n",
       "      <td>0.000119</td>\n",
       "    </tr>\n",
       "    <tr>\n",
       "      <th>25%</th>\n",
       "      <td>-7.400898e-01</td>\n",
       "      <td>2.040923e-02</td>\n",
       "      <td>0.114470</td>\n",
       "    </tr>\n",
       "    <tr>\n",
       "      <th>50%</th>\n",
       "      <td>-1.013240e-01</td>\n",
       "      <td>2.812882e-01</td>\n",
       "      <td>0.791592</td>\n",
       "    </tr>\n",
       "    <tr>\n",
       "      <th>75%</th>\n",
       "      <td>6.663095e-01</td>\n",
       "      <td>1.180975e+00</td>\n",
       "      <td>8.970065</td>\n",
       "    </tr>\n",
       "    <tr>\n",
       "      <th>max</th>\n",
       "      <td>2.828953e+00</td>\n",
       "      <td>1.662620e+01</td>\n",
       "      <td>4479.083142</td>\n",
       "    </tr>\n",
       "  </tbody>\n",
       "</table>\n",
       "</div>"
      ],
      "text/plain": [
       "                ECI       FITNESS      ECIplus\n",
       "count  6.158000e+03  6.158000e+03  6158.000000\n",
       "mean  -4.015427e-15  1.000000e+00    29.552677\n",
       "std    1.000081e+00  1.844329e+00   135.320675\n",
       "min   -3.560447e+00  2.916919e-49     0.000119\n",
       "25%   -7.400898e-01  2.040923e-02     0.114470\n",
       "50%   -1.013240e-01  2.812882e-01     0.791592\n",
       "75%    6.663095e-01  1.180975e+00     8.970065\n",
       "max    2.828953e+00  1.662620e+01  4479.083142"
      ]
     },
     "execution_count": 154,
     "metadata": {},
     "output_type": "execute_result"
    }
   ],
   "source": [
    "xties_df.describe()"
   ]
  },
  {
   "cell_type": "code",
   "execution_count": 147,
   "metadata": {
    "collapsed": false
   },
   "outputs": [
    {
     "data": {
      "text/html": [
       "<div>\n",
       "<table border=\"1\" class=\"dataframe\">\n",
       "  <thead>\n",
       "    <tr style=\"text-align: right;\">\n",
       "      <th></th>\n",
       "      <th>ECI</th>\n",
       "      <th>FITNESS</th>\n",
       "      <th>ECIplus</th>\n",
       "    </tr>\n",
       "  </thead>\n",
       "  <tbody>\n",
       "    <tr>\n",
       "      <th>count</th>\n",
       "      <td>6.158000e+03</td>\n",
       "      <td>6.158000e+03</td>\n",
       "      <td>6158.000000</td>\n",
       "    </tr>\n",
       "    <tr>\n",
       "      <th>mean</th>\n",
       "      <td>-4.015427e-15</td>\n",
       "      <td>1.000000e+00</td>\n",
       "      <td>29.552677</td>\n",
       "    </tr>\n",
       "    <tr>\n",
       "      <th>std</th>\n",
       "      <td>1.000081e+00</td>\n",
       "      <td>1.844329e+00</td>\n",
       "      <td>135.320675</td>\n",
       "    </tr>\n",
       "    <tr>\n",
       "      <th>min</th>\n",
       "      <td>-3.560447e+00</td>\n",
       "      <td>2.916919e-49</td>\n",
       "      <td>0.000119</td>\n",
       "    </tr>\n",
       "    <tr>\n",
       "      <th>25%</th>\n",
       "      <td>-7.400898e-01</td>\n",
       "      <td>2.040923e-02</td>\n",
       "      <td>0.114470</td>\n",
       "    </tr>\n",
       "    <tr>\n",
       "      <th>50%</th>\n",
       "      <td>-1.013240e-01</td>\n",
       "      <td>2.812882e-01</td>\n",
       "      <td>0.791592</td>\n",
       "    </tr>\n",
       "    <tr>\n",
       "      <th>75%</th>\n",
       "      <td>6.663095e-01</td>\n",
       "      <td>1.180975e+00</td>\n",
       "      <td>8.970065</td>\n",
       "    </tr>\n",
       "    <tr>\n",
       "      <th>max</th>\n",
       "      <td>2.828953e+00</td>\n",
       "      <td>1.662620e+01</td>\n",
       "      <td>4479.083142</td>\n",
       "    </tr>\n",
       "  </tbody>\n",
       "</table>\n",
       "</div>"
      ],
      "text/plain": [
       "                ECI       FITNESS      ECIplus\n",
       "count  6.158000e+03  6.158000e+03  6158.000000\n",
       "mean  -4.015427e-15  1.000000e+00    29.552677\n",
       "std    1.000081e+00  1.844329e+00   135.320675\n",
       "min   -3.560447e+00  2.916919e-49     0.000119\n",
       "25%   -7.400898e-01  2.040923e-02     0.114470\n",
       "50%   -1.013240e-01  2.812882e-01     0.791592\n",
       "75%    6.663095e-01  1.180975e+00     8.970065\n",
       "max    2.828953e+00  1.662620e+01  4479.083142"
      ]
     },
     "execution_count": 147,
     "metadata": {},
     "output_type": "execute_result"
    }
   ],
   "source": [
    "xties_df.describe()"
   ]
  },
  {
   "cell_type": "code",
   "execution_count": 167,
   "metadata": {
    "collapsed": false
   },
   "outputs": [
    {
     "data": {
      "image/png": "[encoded data removed]",
      "text/plain": [
       "<matplotlib.figure.Figure at 0xa7d3eb8>"
      ]
     },
     "metadata": {},
     "output_type": "display_data"
    }
   ],
   "source": [
    "fig = plt.figure(figsize=(12,8))\n",
    "plt.scatter(xties_df.query('year==\"2010\"').ECI, np.log10(xties_df.query('year==\"2010\"').FITNESS))\n",
    "plt.xlim(-2.5,2.5)\n",
    "plt.ylim(-3,1)\n",
    "plt.xlabel('eci')\n",
    "plt.ylabel('fitness')\n",
    "#plt.colorbar()\n",
    "\n",
    "plt.show()"
   ]
  },
  {
   "cell_type": "code",
   "execution_count": 168,
   "metadata": {
    "collapsed": false
   },
   "outputs": [
    {
     "data": {
      "text/plain": [
       "129"
      ]
     },
     "execution_count": 168,
     "metadata": {},
     "output_type": "execute_result"
    }
   ],
   "source": [
    "len(xties_df.query('year==\"2010\"').ECI)"
   ]
  },
  {
   "cell_type": "code",
   "execution_count": null,
   "metadata": {
    "collapsed": true
   },
   "outputs": [],
   "source": [
    "# Countries of maximum ECI, FITNESS or ECIplus\n",
    "[(cty,eci[i],fitness[i],eciplus[i]) for i,cty in enumerate(indices) if (eci[i]==max(eci) or fitness[i]==max(fitness) or eciplus[i]==max(eciplus))]"
   ]
  }
 ],
 "metadata": {
  "kernelspec": {
   "display_name": "Python 3",
   "language": "python",
   "name": "python3"
  },
  "language_info": {
   "codemirror_mode": {
    "name": "ipython",
    "version": 3
   },
   "file_extension": ".py",
   "mimetype": "text/x-python",
   "name": "python",
   "nbconvert_exporter": "python",
   "pygments_lexer": "ipython3",
   "version": "3.6.0"
  }
 },
 "nbformat": 4,
 "nbformat_minor": 2
}
